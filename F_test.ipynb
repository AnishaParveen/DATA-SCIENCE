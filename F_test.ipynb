{
 "cells": [
  {
   "cell_type": "code",
   "execution_count": 3,
   "id": "fcef89b4-0310-4d3e-91ae-d529e30ddf07",
   "metadata": {},
   "outputs": [],
   "source": [
    "import scipy.stats as stat\n",
    "import numpy as np"
   ]
  },
  {
   "cell_type": "code",
   "execution_count": 2,
   "id": "7162a58d-efe7-47fe-a6c3-9f702f72cc81",
   "metadata": {},
   "outputs": [],
   "source": [
    "#check is one worker is better than other one\n",
    "worker1=[18,19,22,25,27,28,41,45,51,55]\n",
    "worker2=[14,15,15,17,18,22,25,25,27,34]"
   ]
  },
  {
   "cell_type": "code",
   "execution_count": 4,
   "id": "8ad3aad1-ace4-4848-83eb-63f34a9871a4",
   "metadata": {},
   "outputs": [],
   "source": [
    "#calculatiing F test\n",
    "f_test=np.var(worker1)/np.var(worker2)"
   ]
  },
  {
   "cell_type": "code",
   "execution_count": 5,
   "id": "8ad0e6d9-9661-4409-bae7-b7e89553735b",
   "metadata": {},
   "outputs": [
    {
     "data": {
      "text/plain": [
       "4.387122002085506"
      ]
     },
     "execution_count": 5,
     "metadata": {},
     "output_type": "execute_result"
    }
   ],
   "source": [
    "f_test"
   ]
  },
  {
   "cell_type": "code",
   "execution_count": 7,
   "id": "5e6b9c28-7b60-47de-ab44-73177d327974",
   "metadata": {},
   "outputs": [],
   "source": [
    "#calculating degrees of freedom\n",
    "df1=len(worker1)-1\n",
    "df2=len(worker2)-1\n",
    "significance_value=0.05"
   ]
  },
  {
   "cell_type": "code",
   "execution_count": 9,
   "id": "9a99e45d-95ab-4819-9666-b1690b537c2e",
   "metadata": {},
   "outputs": [],
   "source": [
    "critical_value=stat.f.ppf(q=1-significance_value,dfn=df1,dfd=df2)"
   ]
  },
  {
   "cell_type": "code",
   "execution_count": 11,
   "id": "cd5f50b4-4353-42a8-9ad0-f3ce93586949",
   "metadata": {},
   "outputs": [
    {
     "data": {
      "text/plain": [
       "3.178893104458269"
      ]
     },
     "execution_count": 11,
     "metadata": {},
     "output_type": "execute_result"
    }
   ],
   "source": [
    "critical_value"
   ]
  },
  {
   "cell_type": "code",
   "execution_count": 10,
   "id": "ab752dd1-c687-4155-8fc7-fdbecce927f6",
   "metadata": {},
   "outputs": [
    {
     "name": "stdout",
     "output_type": "stream",
     "text": [
      "reject\n"
     ]
    }
   ],
   "source": [
    "if f_test >critical_value:\n",
    "    print(\"reject\")\n",
    "else:\n",
    "    print(\"accept\")"
   ]
  },
  {
   "cell_type": "code",
   "execution_count": null,
   "id": "74155e63-3ab7-4c84-8e45-b51ef51081f2",
   "metadata": {},
   "outputs": [],
   "source": []
  }
 ],
 "metadata": {
  "kernelspec": {
   "display_name": "Python 3 (ipykernel)",
   "language": "python",
   "name": "python3"
  },
  "language_info": {
   "codemirror_mode": {
    "name": "ipython",
    "version": 3
   },
   "file_extension": ".py",
   "mimetype": "text/x-python",
   "name": "python",
   "nbconvert_exporter": "python",
   "pygments_lexer": "ipython3",
   "version": "3.10.8"
  }
 },
 "nbformat": 4,
 "nbformat_minor": 5
}
