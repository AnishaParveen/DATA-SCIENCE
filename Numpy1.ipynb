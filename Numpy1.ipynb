{
 "cells": [
  {
   "cell_type": "markdown",
   "id": "023ef686-d965-435d-8b29-4a9cbf04e00b",
   "metadata": {},
   "source": [
    "# part one"
   ]
  },
  {
   "cell_type": "code",
   "execution_count": 1,
   "id": "1ef6378b-50fa-41b1-b15d-b0fc4f78dbfc",
   "metadata": {},
   "outputs": [],
   "source": [
    "import numpy as np"
   ]
  },
  {
   "cell_type": "code",
   "execution_count": 2,
   "id": "6672c894-b151-4184-aad1-fe37cebdaa93",
   "metadata": {},
   "outputs": [],
   "source": [
    "l=[1,2,3,4,5]"
   ]
  },
  {
   "cell_type": "code",
   "execution_count": 4,
   "id": "a4e12029-d36b-4914-b9e8-c70c96ad726e",
   "metadata": {},
   "outputs": [],
   "source": [
    "arr=np.array(l)"
   ]
  },
  {
   "cell_type": "code",
   "execution_count": 5,
   "id": "4df02c42-e213-4836-833f-010579589082",
   "metadata": {},
   "outputs": [
    {
     "data": {
      "text/plain": [
       "numpy.ndarray"
      ]
     },
     "execution_count": 5,
     "metadata": {},
     "output_type": "execute_result"
    }
   ],
   "source": [
    "type(arr) # N diamentional array"
   ]
  },
  {
   "cell_type": "code",
   "execution_count": 7,
   "id": "51766cb8-e0ea-46c8-8bc8-d1320ab015c8",
   "metadata": {},
   "outputs": [
    {
     "data": {
      "text/plain": [
       "array([1, 2, 3, 4, 5])"
      ]
     },
     "execution_count": 7,
     "metadata": {},
     "output_type": "execute_result"
    }
   ],
   "source": [
    "np.asarray(l)"
   ]
  },
  {
   "cell_type": "code",
   "execution_count": 9,
   "id": "eaf4ac92-4eaa-4da0-8f0a-9c5330c95131",
   "metadata": {},
   "outputs": [],
   "source": [
    "arr1=np.array([[1,2,3],[4,5,6]])"
   ]
  },
  {
   "cell_type": "code",
   "execution_count": 11,
   "id": "c7a31835-e6a3-47c4-b113-f62ecf743c87",
   "metadata": {},
   "outputs": [
    {
     "data": {
      "text/plain": [
       "2"
      ]
     },
     "execution_count": 11,
     "metadata": {},
     "output_type": "execute_result"
    }
   ],
   "source": [
    "arr1.ndim # it returns diamention of the array"
   ]
  },
  {
   "cell_type": "code",
   "execution_count": 12,
   "id": "de532948-af90-4afc-8357-84502de431db",
   "metadata": {},
   "outputs": [
    {
     "data": {
      "text/plain": [
       "1"
      ]
     },
     "execution_count": 12,
     "metadata": {},
     "output_type": "execute_result"
    }
   ],
   "source": [
    "arr.ndim"
   ]
  },
  {
   "cell_type": "code",
   "execution_count": 17,
   "id": "391f6c4f-52a3-4e98-8c60-713557e6e6d6",
   "metadata": {},
   "outputs": [
    {
     "data": {
      "text/plain": [
       "matrix([[1, 2, 3, 4, 5]])"
      ]
     },
     "execution_count": 17,
     "metadata": {},
     "output_type": "execute_result"
    }
   ],
   "source": [
    "mat=np.matrix(l) #in case of matrix the minimum diamention will be two\n",
    "mat   "
   ]
  },
  {
   "cell_type": "code",
   "execution_count": 15,
   "id": "74285049-c415-40fc-a98d-43cf6ccc0f79",
   "metadata": {},
   "outputs": [
    {
     "data": {
      "text/plain": [
       "array([1, 2, 3, 4, 5])"
      ]
     },
     "execution_count": 15,
     "metadata": {},
     "output_type": "execute_result"
    }
   ],
   "source": [
    "np.asanyarray(l) # it converts into array"
   ]
  },
  {
   "cell_type": "code",
   "execution_count": 18,
   "id": "1ada2974-908f-45ee-8f47-b418904bc10b",
   "metadata": {},
   "outputs": [
    {
     "data": {
      "text/plain": [
       "matrix([[1, 2, 3, 4, 5]])"
      ]
     },
     "execution_count": 18,
     "metadata": {},
     "output_type": "execute_result"
    }
   ],
   "source": [
    "np.asanyarray(mat) #it is not converting because matrix is a subclass of array so, it is already an array\n"
   ]
  },
  {
   "cell_type": "code",
   "execution_count": 20,
   "id": "123e0c93-23c8-40f6-99c5-cd0de7b352ea",
   "metadata": {},
   "outputs": [],
   "source": [
    "arr=[1,2,3]\n",
    "a=arr\n",
    "arr[0]=100"
   ]
  },
  {
   "cell_type": "code",
   "execution_count": 21,
   "id": "ce5337bc-9fbd-482f-973f-b9aa561cb3c7",
   "metadata": {},
   "outputs": [
    {
     "data": {
      "text/plain": [
       "[100, 2, 3]"
      ]
     },
     "execution_count": 21,
     "metadata": {},
     "output_type": "execute_result"
    }
   ],
   "source": [
    "arr"
   ]
  },
  {
   "cell_type": "code",
   "execution_count": 22,
   "id": "ed7e25f6-1084-4455-8a0d-09312eaf1f8a",
   "metadata": {},
   "outputs": [
    {
     "data": {
      "text/plain": [
       "[100, 2, 3]"
      ]
     },
     "execution_count": 22,
     "metadata": {},
     "output_type": "execute_result"
    }
   ],
   "source": [
    "a"
   ]
  },
  {
   "cell_type": "code",
   "execution_count": 25,
   "id": "62f7a042-fdee-41e1-89ad-83f6f964379b",
   "metadata": {},
   "outputs": [],
   "source": [
    "# as we can we if we change arr a will also change because shallow copy is performing here.\n",
    "#to overcome this situation we use deep copy which as follows:"
   ]
  },
  {
   "cell_type": "code",
   "execution_count": 28,
   "id": "926ee497-476a-469d-a507-698672c522ce",
   "metadata": {},
   "outputs": [
    {
     "data": {
      "text/plain": [
       "array([100,   2,   3])"
      ]
     },
     "execution_count": 28,
     "metadata": {},
     "output_type": "execute_result"
    }
   ],
   "source": [
    "b=np.copy(arr)\n",
    "b"
   ]
  },
  {
   "cell_type": "code",
   "execution_count": 29,
   "id": "a4d9a725-a3f6-41cf-b443-c55708f77375",
   "metadata": {},
   "outputs": [
    {
     "data": {
      "text/plain": [
       "[100, 2, 3]"
      ]
     },
     "execution_count": 29,
     "metadata": {},
     "output_type": "execute_result"
    }
   ],
   "source": [
    "arr"
   ]
  },
  {
   "cell_type": "code",
   "execution_count": 31,
   "id": "24c366fd-8b4c-4d52-bcf6-61f0176d12f2",
   "metadata": {},
   "outputs": [
    {
     "data": {
      "text/plain": [
       "[225, 2, 3]"
      ]
     },
     "execution_count": 31,
     "metadata": {},
     "output_type": "execute_result"
    }
   ],
   "source": [
    "arr[0]=225\n",
    "arr"
   ]
  },
  {
   "cell_type": "code",
   "execution_count": 32,
   "id": "49cc7f5a-3e6d-4e99-a922-bd23c159f60f",
   "metadata": {},
   "outputs": [
    {
     "data": {
      "text/plain": [
       "array([100,   2,   3])"
      ]
     },
     "execution_count": 32,
     "metadata": {},
     "output_type": "execute_result"
    }
   ],
   "source": [
    "b"
   ]
  },
  {
   "cell_type": "code",
   "execution_count": 33,
   "id": "969cec0e-fd2d-4cee-8253-803901f8fb72",
   "metadata": {},
   "outputs": [
    {
     "data": {
      "text/plain": [
       "array([[ True, False, False],\n",
       "       [False,  True, False],\n",
       "       [False, False,  True]])"
      ]
     },
     "execution_count": 33,
     "metadata": {},
     "output_type": "execute_result"
    }
   ],
   "source": [
    "np.fromfunction(lambda i,j: i==j,(3,3))"
   ]
  },
  {
   "cell_type": "code",
   "execution_count": 34,
   "id": "476f6ab7-cdc4-4182-87de-7d8c9342b70c",
   "metadata": {},
   "outputs": [
    {
     "data": {
      "text/plain": [
       "array([[0., 0., 0.],\n",
       "       [0., 1., 2.],\n",
       "       [0., 2., 4.]])"
      ]
     },
     "execution_count": 34,
     "metadata": {},
     "output_type": "execute_result"
    }
   ],
   "source": [
    "np.fromfunction(lambda i,j: i*j,(3,3))"
   ]
  },
  {
   "cell_type": "code",
   "execution_count": 35,
   "id": "4e8d675c-0ef3-4278-8769-7bde97fd27de",
   "metadata": {},
   "outputs": [
    {
     "data": {
      "text/plain": [
       "array([[0., 1., 2.],\n",
       "       [1., 2., 3.],\n",
       "       [2., 3., 4.]])"
      ]
     },
     "execution_count": 35,
     "metadata": {},
     "output_type": "execute_result"
    }
   ],
   "source": [
    "np.fromfunction(lambda i,j: i+j,(3,3))"
   ]
  },
  {
   "cell_type": "code",
   "execution_count": 38,
   "id": "de32c527-77b6-4a1a-b134-c2db7ae5e45c",
   "metadata": {},
   "outputs": [
    {
     "data": {
      "text/plain": [
       "[0, 1, 4, 9, 16]"
      ]
     },
     "execution_count": 38,
     "metadata": {},
     "output_type": "execute_result"
    }
   ],
   "source": [
    "iterable=list(i*i for i in range(5))\n",
    "iterable"
   ]
  },
  {
   "cell_type": "code",
   "execution_count": 39,
   "id": "93b7298b-1484-4ef8-b972-3f8ca421bdb0",
   "metadata": {},
   "outputs": [
    {
     "data": {
      "text/plain": [
       "array([ 0.,  1.,  4.,  9., 16.])"
      ]
     },
     "execution_count": 39,
     "metadata": {},
     "output_type": "execute_result"
    }
   ],
   "source": [
    "np.fromiter(iterable,float) # using this we can generate the dataset"
   ]
  },
  {
   "cell_type": "code",
   "execution_count": 40,
   "id": "a2c341c7-64bc-47a9-aa27-ed8bf5e6eade",
   "metadata": {},
   "outputs": [
    {
     "data": {
      "text/plain": [
       "array([ 0,  1,  4,  9, 16])"
      ]
     },
     "execution_count": 40,
     "metadata": {},
     "output_type": "execute_result"
    }
   ],
   "source": [
    "np.fromiter(iterable,int)"
   ]
  },
  {
   "cell_type": "code",
   "execution_count": 42,
   "id": "bad34586-d67a-4736-a3c2-40db5960857d",
   "metadata": {},
   "outputs": [
    {
     "data": {
      "text/plain": [
       "array([1., 2., 3., 4., 5., 6., 9., 8., 7.])"
      ]
     },
     "execution_count": 42,
     "metadata": {},
     "output_type": "execute_result"
    }
   ],
   "source": [
    "np.fromstring('1 2 3 4 5 6 9 8 7',sep =' ')"
   ]
  },
  {
   "cell_type": "code",
   "execution_count": 43,
   "id": "50722620-fed2-4292-91d9-818c7f2111de",
   "metadata": {},
   "outputs": [
    {
     "data": {
      "text/plain": [
       "array([1., 2., 3., 4., 5., 6., 9., 8., 7.])"
      ]
     },
     "execution_count": 43,
     "metadata": {},
     "output_type": "execute_result"
    }
   ],
   "source": [
    "np.fromstring('1 ,2, 3, 4, 5, 6 ,9 ,8, 7',sep =', ')"
   ]
  },
  {
   "cell_type": "code",
   "execution_count": 44,
   "id": "633f937a-20b5-430f-8805-41075d4878a6",
   "metadata": {},
   "outputs": [
    {
     "data": {
      "text/plain": [
       "array([[1, 2, 3],\n",
       "       [4, 5, 6]])"
      ]
     },
     "execution_count": 44,
     "metadata": {},
     "output_type": "execute_result"
    }
   ],
   "source": [
    "arr1"
   ]
  },
  {
   "cell_type": "code",
   "execution_count": 45,
   "id": "09b63f39-8736-45db-9483-4cdce801469c",
   "metadata": {},
   "outputs": [
    {
     "data": {
      "text/plain": [
       "6"
      ]
     },
     "execution_count": 45,
     "metadata": {},
     "output_type": "execute_result"
    }
   ],
   "source": [
    "arr1.size # row*col"
   ]
  },
  {
   "cell_type": "code",
   "execution_count": 46,
   "id": "3a31c3cf-f5c7-4159-8610-1dbdba695fc7",
   "metadata": {},
   "outputs": [
    {
     "data": {
      "text/plain": [
       "(2, 3)"
      ]
     },
     "execution_count": 46,
     "metadata": {},
     "output_type": "execute_result"
    }
   ],
   "source": [
    "arr1.shape # dimention"
   ]
  },
  {
   "cell_type": "code",
   "execution_count": 48,
   "id": "270efc60-bcc3-4a4a-bcc1-23d2a6d5d828",
   "metadata": {},
   "outputs": [
    {
     "data": {
      "text/plain": [
       "dtype('int64')"
      ]
     },
     "execution_count": 48,
     "metadata": {},
     "output_type": "execute_result"
    }
   ],
   "source": [
    "arr1.dtype"
   ]
  },
  {
   "cell_type": "markdown",
   "id": "c45d1af9-ed0a-47cb-9966-5bbf8d7c570a",
   "metadata": {},
   "source": [
    "# part two"
   ]
  },
  {
   "cell_type": "code",
   "execution_count": 2,
   "id": "ce513406-dcae-4caf-a788-9a404ee1c6dc",
   "metadata": {},
   "outputs": [
    {
     "data": {
      "text/plain": [
       "[0, 1, 2, 3, 4]"
      ]
     },
     "execution_count": 2,
     "metadata": {},
     "output_type": "execute_result"
    }
   ],
   "source": [
    "list(range(0,5))"
   ]
  },
  {
   "cell_type": "code",
   "execution_count": 4,
   "id": "485b9969-040e-4078-b7a6-e03697883563",
   "metadata": {},
   "outputs": [],
   "source": [
    "#list(range(0.5,5.5)) it will show error as range function only works on integer"
   ]
  },
  {
   "cell_type": "code",
   "execution_count": 5,
   "id": "3184453c-8f9d-46b9-bedf-1b4c205b3573",
   "metadata": {},
   "outputs": [
    {
     "data": {
      "text/plain": [
       "array([0.5, 1.5, 2.5, 3.5, 4.5])"
      ]
     },
     "execution_count": 5,
     "metadata": {},
     "output_type": "execute_result"
    }
   ],
   "source": [
    "np.arange(0.5,5.5) # it is alternative of range function for case of float"
   ]
  },
  {
   "cell_type": "code",
   "execution_count": 6,
   "id": "f505533f-d57c-401c-ae1c-bcd837ed32b2",
   "metadata": {},
   "outputs": [
    {
     "data": {
      "text/plain": [
       "array([0, 1, 2, 3, 4])"
      ]
     },
     "execution_count": 6,
     "metadata": {},
     "output_type": "execute_result"
    }
   ],
   "source": [
    "np.arange(0,5)"
   ]
  },
  {
   "cell_type": "code",
   "execution_count": 7,
   "id": "95e4a97d-5c84-4a9d-b9f5-ff092e7aa0af",
   "metadata": {},
   "outputs": [
    {
     "data": {
      "text/plain": [
       "array([1.        , 1.21052632, 1.42105263, 1.63157895, 1.84210526,\n",
       "       2.05263158, 2.26315789, 2.47368421, 2.68421053, 2.89473684,\n",
       "       3.10526316, 3.31578947, 3.52631579, 3.73684211, 3.94736842,\n",
       "       4.15789474, 4.36842105, 4.57894737, 4.78947368, 5.        ])"
      ]
     },
     "execution_count": 7,
     "metadata": {},
     "output_type": "execute_result"
    }
   ],
   "source": [
    "np.linspace(1,5,20) # it will give 20 data between 1 to 5"
   ]
  },
  {
   "cell_type": "code",
   "execution_count": 8,
   "id": "b80936c8-d7df-4b1e-8c24-b3be418e154b",
   "metadata": {},
   "outputs": [
    {
     "data": {
      "text/plain": [
       "array([1.00000000e+01, 2.78255940e+01, 7.74263683e+01, 2.15443469e+02,\n",
       "       5.99484250e+02, 1.66810054e+03, 4.64158883e+03, 1.29154967e+04,\n",
       "       3.59381366e+04, 1.00000000e+05])"
      ]
     },
     "execution_count": 8,
     "metadata": {},
     "output_type": "execute_result"
    }
   ],
   "source": [
    "np.logspace(1,5,10)"
   ]
  },
  {
   "cell_type": "code",
   "execution_count": 9,
   "id": "e056c2c6-be9f-4f8c-a293-e71fd975506c",
   "metadata": {},
   "outputs": [
    {
     "data": {
      "text/plain": [
       "array([ 2.        ,  2.72158   ,  3.70349885,  5.0396842 ,  6.85795186,\n",
       "        9.33223232, 12.69920842, 17.28095582, 23.51575188, 32.        ])"
      ]
     },
     "execution_count": 9,
     "metadata": {},
     "output_type": "execute_result"
    }
   ],
   "source": [
    "np.logspace(1,5,10,base=2)"
   ]
  },
  {
   "cell_type": "code",
   "execution_count": 10,
   "id": "4a39565d-5194-4931-be06-85ff9db80c7f",
   "metadata": {},
   "outputs": [
    {
     "data": {
      "text/plain": [
       "array([0., 0., 0., 0., 0.])"
      ]
     },
     "execution_count": 10,
     "metadata": {},
     "output_type": "execute_result"
    }
   ],
   "source": [
    "np.zeros(5)"
   ]
  },
  {
   "cell_type": "code",
   "execution_count": 12,
   "id": "ac4fd5a4-d813-43a6-a19d-4ab0ad1df8d6",
   "metadata": {},
   "outputs": [
    {
     "data": {
      "text/plain": [
       "array([[0., 0., 0.],\n",
       "       [0., 0., 0.],\n",
       "       [0., 0., 0.],\n",
       "       [0., 0., 0.]])"
      ]
     },
     "execution_count": 12,
     "metadata": {},
     "output_type": "execute_result"
    }
   ],
   "source": [
    "np.zeros((4,3)) #2d dataset"
   ]
  },
  {
   "cell_type": "code",
   "execution_count": 16,
   "id": "63bcf7a5-f68c-45fa-a29a-8f10696ff10a",
   "metadata": {},
   "outputs": [
    {
     "data": {
      "text/plain": [
       "array([[[0., 0.],\n",
       "        [0., 0.],\n",
       "        [0., 0.],\n",
       "        [0., 0.]],\n",
       "\n",
       "       [[0., 0.],\n",
       "        [0., 0.],\n",
       "        [0., 0.],\n",
       "        [0., 0.]],\n",
       "\n",
       "       [[0., 0.],\n",
       "        [0., 0.],\n",
       "        [0., 0.],\n",
       "        [0., 0.]]])"
      ]
     },
     "execution_count": 16,
     "metadata": {},
     "output_type": "execute_result"
    }
   ],
   "source": [
    "np.zeros((3,4,2)) #3d dataset"
   ]
  },
  {
   "cell_type": "code",
   "execution_count": 17,
   "id": "9c0b5658-0f26-4d49-93c0-3cf1e8a5fce1",
   "metadata": {},
   "outputs": [
    {
     "data": {
      "text/plain": [
       "array([1., 1., 1., 1., 1., 1.])"
      ]
     },
     "execution_count": 17,
     "metadata": {},
     "output_type": "execute_result"
    }
   ],
   "source": [
    "np.ones(6)"
   ]
  },
  {
   "cell_type": "code",
   "execution_count": 19,
   "id": "8f131f73-0d06-42d7-81ec-777074568606",
   "metadata": {},
   "outputs": [],
   "source": [
    "arr=np.ones((3,4))"
   ]
  },
  {
   "cell_type": "code",
   "execution_count": 21,
   "id": "42fa6df5-68ec-4d6d-8f45-23363ffc73d4",
   "metadata": {},
   "outputs": [
    {
     "data": {
      "text/plain": [
       "array([[6., 6., 6., 6.],\n",
       "       [6., 6., 6., 6.],\n",
       "       [6., 6., 6., 6.]])"
      ]
     },
     "execution_count": 21,
     "metadata": {},
     "output_type": "execute_result"
    }
   ],
   "source": [
    "arr+5 #every element will be added it is known as broadcastiong "
   ]
  },
  {
   "cell_type": "code",
   "execution_count": 22,
   "id": "339ac7c4-d951-40b1-a3bd-d85c1b2d7b3f",
   "metadata": {},
   "outputs": [
    {
     "data": {
      "text/plain": [
       "array([[1., 0., 0., 0., 0.],\n",
       "       [0., 1., 0., 0., 0.],\n",
       "       [0., 0., 1., 0., 0.],\n",
       "       [0., 0., 0., 1., 0.],\n",
       "       [0., 0., 0., 0., 1.]])"
      ]
     },
     "execution_count": 22,
     "metadata": {},
     "output_type": "execute_result"
    }
   ],
   "source": [
    "np.eye(5) #identity matrix"
   ]
  },
  {
   "cell_type": "code",
   "execution_count": 23,
   "id": "be776d81-1798-4656-898a-45e851116305",
   "metadata": {},
   "outputs": [],
   "source": [
    "import pandas as pd"
   ]
  },
  {
   "cell_type": "code",
   "execution_count": 24,
   "id": "f028c66a-4672-4800-b72b-fc605282f635",
   "metadata": {},
   "outputs": [
    {
     "data": {
      "text/html": [
       "<div>\n",
       "<style scoped>\n",
       "    .dataframe tbody tr th:only-of-type {\n",
       "        vertical-align: middle;\n",
       "    }\n",
       "\n",
       "    .dataframe tbody tr th {\n",
       "        vertical-align: top;\n",
       "    }\n",
       "\n",
       "    .dataframe thead th {\n",
       "        text-align: right;\n",
       "    }\n",
       "</style>\n",
       "<table border=\"1\" class=\"dataframe\">\n",
       "  <thead>\n",
       "    <tr style=\"text-align: right;\">\n",
       "      <th></th>\n",
       "      <th>0</th>\n",
       "      <th>1</th>\n",
       "      <th>2</th>\n",
       "      <th>3</th>\n",
       "    </tr>\n",
       "  </thead>\n",
       "  <tbody>\n",
       "    <tr>\n",
       "      <th>0</th>\n",
       "      <td>1.0</td>\n",
       "      <td>1.0</td>\n",
       "      <td>1.0</td>\n",
       "      <td>1.0</td>\n",
       "    </tr>\n",
       "    <tr>\n",
       "      <th>1</th>\n",
       "      <td>1.0</td>\n",
       "      <td>1.0</td>\n",
       "      <td>1.0</td>\n",
       "      <td>1.0</td>\n",
       "    </tr>\n",
       "    <tr>\n",
       "      <th>2</th>\n",
       "      <td>1.0</td>\n",
       "      <td>1.0</td>\n",
       "      <td>1.0</td>\n",
       "      <td>1.0</td>\n",
       "    </tr>\n",
       "  </tbody>\n",
       "</table>\n",
       "</div>"
      ],
      "text/plain": [
       "     0    1    2    3\n",
       "0  1.0  1.0  1.0  1.0\n",
       "1  1.0  1.0  1.0  1.0\n",
       "2  1.0  1.0  1.0  1.0"
      ]
     },
     "execution_count": 24,
     "metadata": {},
     "output_type": "execute_result"
    }
   ],
   "source": [
    "pd.DataFrame(arr)"
   ]
  },
  {
   "cell_type": "code",
   "execution_count": 25,
   "id": "21f20051-110d-4fac-9666-07926bcfaa6c",
   "metadata": {},
   "outputs": [
    {
     "data": {
      "text/plain": [
       "array([0.87222714, 0.30020641, 0.49364832, 0.37073299, 0.82407072,\n",
       "       0.25356356, 0.40657312, 0.18094048, 0.92809647, 0.46888656])"
      ]
     },
     "execution_count": 25,
     "metadata": {},
     "output_type": "execute_result"
    }
   ],
   "source": [
    "np.random.rand(10)"
   ]
  },
  {
   "cell_type": "code",
   "execution_count": 26,
   "id": "5dd0953f-703d-4812-a10b-ebcaacd738eb",
   "metadata": {},
   "outputs": [
    {
     "data": {
      "text/plain": [
       "array([[0.404154  , 0.43261383, 0.76099591],\n",
       "       [0.37599576, 0.34737529, 0.82021351]])"
      ]
     },
     "execution_count": 26,
     "metadata": {},
     "output_type": "execute_result"
    }
   ],
   "source": [
    "np.random.rand(2,3)"
   ]
  },
  {
   "cell_type": "code",
   "execution_count": 27,
   "id": "bab985b7-39c3-4d6d-8196-fe761b314d58",
   "metadata": {},
   "outputs": [
    {
     "data": {
      "text/plain": [
       "array([[ 0.80558905, -0.42523914, -1.58696137],\n",
       "       [ 0.13479311, -1.77930275, -1.47557825]])"
      ]
     },
     "execution_count": 27,
     "metadata": {},
     "output_type": "execute_result"
    }
   ],
   "source": [
    "np.random.randn(2,3) #it gives standard normal data where mean =0,sd=1"
   ]
  },
  {
   "cell_type": "code",
   "execution_count": 29,
   "id": "aa85223f-1e3e-438e-80a2-280c77f191a2",
   "metadata": {},
   "outputs": [],
   "source": [
    "arr2=np.random.randint(1,5,(3,4))"
   ]
  },
  {
   "cell_type": "code",
   "execution_count": 30,
   "id": "d1920535-7d42-4a0d-aa3f-5653c4d31b6e",
   "metadata": {},
   "outputs": [
    {
     "data": {
      "text/plain": [
       "array([[2, 1, 2, 3],\n",
       "       [4, 1, 4, 1],\n",
       "       [1, 3, 2, 1]])"
      ]
     },
     "execution_count": 30,
     "metadata": {},
     "output_type": "execute_result"
    }
   ],
   "source": [
    "arr2"
   ]
  },
  {
   "cell_type": "code",
   "execution_count": 31,
   "id": "917161a7-f671-4714-9dd3-f454b5111ed3",
   "metadata": {},
   "outputs": [
    {
     "data": {
      "text/plain": [
       "12"
      ]
     },
     "execution_count": 31,
     "metadata": {},
     "output_type": "execute_result"
    }
   ],
   "source": [
    "arr2.size"
   ]
  },
  {
   "cell_type": "code",
   "execution_count": 32,
   "id": "eb1d5176-9936-44ad-aca5-f9843e6967d5",
   "metadata": {},
   "outputs": [
    {
     "data": {
      "text/plain": [
       "(3, 4)"
      ]
     },
     "execution_count": 32,
     "metadata": {},
     "output_type": "execute_result"
    }
   ],
   "source": [
    "arr2.shape"
   ]
  },
  {
   "cell_type": "code",
   "execution_count": 35,
   "id": "0513f4cc-ec88-4ffe-85e5-2cc049a61f00",
   "metadata": {},
   "outputs": [
    {
     "data": {
      "text/plain": [
       "array([[2, 1, 2],\n",
       "       [3, 4, 1],\n",
       "       [4, 1, 1],\n",
       "       [3, 2, 1]])"
      ]
     },
     "execution_count": 35,
     "metadata": {},
     "output_type": "execute_result"
    }
   ],
   "source": [
    "arr2.reshape(4,3) # here the size / number data will change so we can not change thw size but we can change the diamention"
   ]
  },
  {
   "cell_type": "code",
   "execution_count": 36,
   "id": "147133ea-abd6-4f4b-97d7-43fd13845f69",
   "metadata": {},
   "outputs": [
    {
     "data": {
      "text/plain": [
       "array([[2, 1],\n",
       "       [2, 3],\n",
       "       [4, 1],\n",
       "       [4, 1],\n",
       "       [1, 3],\n",
       "       [2, 1]])"
      ]
     },
     "execution_count": 36,
     "metadata": {},
     "output_type": "execute_result"
    }
   ],
   "source": [
    "arr2.reshape(6,2)"
   ]
  },
  {
   "cell_type": "code",
   "execution_count": 37,
   "id": "d85558b3-efd9-4cf6-bd0f-2e95685e76a1",
   "metadata": {},
   "outputs": [],
   "source": [
    "# but we cannot do this arr2.reshape(4,4)"
   ]
  },
  {
   "cell_type": "code",
   "execution_count": 38,
   "id": "e625c27b-bac6-4fc6-ac0f-018ce8b228f5",
   "metadata": {},
   "outputs": [
    {
     "data": {
      "text/plain": [
       "array([[2, 1],\n",
       "       [2, 3],\n",
       "       [4, 1],\n",
       "       [4, 1],\n",
       "       [1, 3],\n",
       "       [2, 1]])"
      ]
     },
     "execution_count": 38,
     "metadata": {},
     "output_type": "execute_result"
    }
   ],
   "source": [
    "arr2.reshape(6,-1) # we can also will -ve value it will atomatically assume another possible diamention\n"
   ]
  },
  {
   "cell_type": "code",
   "execution_count": 39,
   "id": "8fd86fc6-56ae-46ef-bcd3-1fe75f14fe01",
   "metadata": {},
   "outputs": [
    {
     "data": {
      "text/plain": [
       "array([[[2],\n",
       "        [1]],\n",
       "\n",
       "       [[2],\n",
       "        [3]],\n",
       "\n",
       "       [[4],\n",
       "        [1]],\n",
       "\n",
       "       [[4],\n",
       "        [1]],\n",
       "\n",
       "       [[1],\n",
       "        [3]],\n",
       "\n",
       "       [[2],\n",
       "        [1]]])"
      ]
     },
     "execution_count": 39,
     "metadata": {},
     "output_type": "execute_result"
    }
   ],
   "source": [
    "arr2.reshape(6,-1,1)"
   ]
  },
  {
   "cell_type": "code",
   "execution_count": 46,
   "id": "499cc0dc-a0e5-4675-9a9a-b6c5d13f0db4",
   "metadata": {},
   "outputs": [],
   "source": [
    "arr3=np.random.randint(1,10,(5,6))"
   ]
  },
  {
   "cell_type": "code",
   "execution_count": 50,
   "id": "59de778f-f82c-4388-82d7-4426fed00282",
   "metadata": {},
   "outputs": [
    {
     "data": {
      "text/plain": [
       "array([[8, 9, 6, 1, 4, 1],\n",
       "       [6, 1, 2, 1, 6, 2],\n",
       "       [7, 7, 6, 4, 6, 8],\n",
       "       [1, 2, 6, 1, 7, 5],\n",
       "       [1, 6, 2, 4, 3, 3]])"
      ]
     },
     "execution_count": 50,
     "metadata": {},
     "output_type": "execute_result"
    }
   ],
   "source": [
    "arr3"
   ]
  },
  {
   "cell_type": "code",
   "execution_count": 59,
   "id": "865393bd-bca5-480f-943e-06a50ff76e32",
   "metadata": {},
   "outputs": [
    {
     "name": "stdout",
     "output_type": "stream",
     "text": [
      "9,\n",
      "\n",
      "\n",
      "\n",
      "\n"
     ]
    }
   ],
   "source": [
    "\n",
    "for i in arr3:\n",
    "    for j in i:\n",
    "        if j>8:\n",
    "            print(j,end=\",\")\n",
    "    print(\"\")    \n",
    "    "
   ]
  },
  {
   "cell_type": "code",
   "execution_count": 60,
   "id": "6dc27897-b7a5-42a3-8d1f-5a48207dfe88",
   "metadata": {},
   "outputs": [
    {
     "data": {
      "text/plain": [
       "array([[False,  True, False, False, False, False],\n",
       "       [False, False, False, False, False, False],\n",
       "       [False, False, False, False, False, False],\n",
       "       [False, False, False, False, False, False],\n",
       "       [False, False, False, False, False, False]])"
      ]
     },
     "execution_count": 60,
     "metadata": {},
     "output_type": "execute_result"
    }
   ],
   "source": [
    "arr3>8"
   ]
  },
  {
   "cell_type": "code",
   "execution_count": 61,
   "id": "61a5f51f-d572-455f-a1be-5fe2cb7fde17",
   "metadata": {},
   "outputs": [
    {
     "data": {
      "text/plain": [
       "array([9])"
      ]
     },
     "execution_count": 61,
     "metadata": {},
     "output_type": "execute_result"
    }
   ],
   "source": [
    "arr3[arr3>8]"
   ]
  },
  {
   "cell_type": "code",
   "execution_count": 62,
   "id": "3ca663e5-d10b-4347-8bda-793a469258e5",
   "metadata": {},
   "outputs": [
    {
     "data": {
      "text/plain": [
       "array([[8, 9, 6, 1, 4, 1],\n",
       "       [6, 1, 2, 1, 6, 2],\n",
       "       [7, 7, 6, 4, 6, 8],\n",
       "       [1, 2, 6, 1, 7, 5],\n",
       "       [1, 6, 2, 4, 3, 3]])"
      ]
     },
     "execution_count": 62,
     "metadata": {},
     "output_type": "execute_result"
    }
   ],
   "source": [
    "arr3"
   ]
  },
  {
   "cell_type": "code",
   "execution_count": 63,
   "id": "f31060df-2ad7-4529-b5b3-d32d24b8ff82",
   "metadata": {},
   "outputs": [
    {
     "data": {
      "text/plain": [
       "array([8, 9, 6, 1, 4, 1])"
      ]
     },
     "execution_count": 63,
     "metadata": {},
     "output_type": "execute_result"
    }
   ],
   "source": [
    "arr3[0]"
   ]
  },
  {
   "cell_type": "code",
   "execution_count": 65,
   "id": "43494951-2cbc-4f22-9983-1d98a7423754",
   "metadata": {},
   "outputs": [
    {
     "data": {
      "text/plain": [
       "9"
      ]
     },
     "execution_count": 65,
     "metadata": {},
     "output_type": "execute_result"
    }
   ],
   "source": [
    "arr3[0,1]"
   ]
  },
  {
   "cell_type": "code",
   "execution_count": 66,
   "id": "502ce41a-8be5-4727-a2a1-7473fc048dbb",
   "metadata": {},
   "outputs": [
    {
     "data": {
      "text/plain": [
       "array([[6, 4],\n",
       "       [6, 1]])"
      ]
     },
     "execution_count": 66,
     "metadata": {},
     "output_type": "execute_result"
    }
   ],
   "source": [
    "arr3[2:4,[2,3]]"
   ]
  },
  {
   "cell_type": "code",
   "execution_count": 67,
   "id": "88419e52-efe9-4165-924b-cda3ecf6d2cb",
   "metadata": {},
   "outputs": [],
   "source": [
    "arr4=np.random.randint(1,3,(3,3))\n",
    "arr5=np.random.randint(1,3,(3,3))"
   ]
  },
  {
   "cell_type": "code",
   "execution_count": 68,
   "id": "ab39d251-923f-4da0-970f-37900f856406",
   "metadata": {},
   "outputs": [
    {
     "data": {
      "text/plain": [
       "array([[2, 2, 2],\n",
       "       [1, 2, 1],\n",
       "       [2, 1, 2]])"
      ]
     },
     "execution_count": 68,
     "metadata": {},
     "output_type": "execute_result"
    }
   ],
   "source": [
    "arr4"
   ]
  },
  {
   "cell_type": "code",
   "execution_count": 69,
   "id": "23c08faa-9525-48fa-ae01-4c5108571c70",
   "metadata": {},
   "outputs": [
    {
     "data": {
      "text/plain": [
       "array([[1, 1, 1],\n",
       "       [1, 2, 1],\n",
       "       [2, 2, 2]])"
      ]
     },
     "execution_count": 69,
     "metadata": {},
     "output_type": "execute_result"
    }
   ],
   "source": [
    "arr5"
   ]
  },
  {
   "cell_type": "code",
   "execution_count": 70,
   "id": "0ed1e794-fad1-44a5-b85c-5b2a928b3657",
   "metadata": {},
   "outputs": [
    {
     "data": {
      "text/plain": [
       "array([[3, 3, 3],\n",
       "       [2, 4, 2],\n",
       "       [4, 3, 4]])"
      ]
     },
     "execution_count": 70,
     "metadata": {},
     "output_type": "execute_result"
    }
   ],
   "source": [
    "arr4+arr5"
   ]
  },
  {
   "cell_type": "code",
   "execution_count": 72,
   "id": "82e4c13d-b40f-4ac1-b96a-326a4940440f",
   "metadata": {},
   "outputs": [
    {
     "data": {
      "text/plain": [
       "array([[2. , 2. , 2. ],\n",
       "       [1. , 1. , 1. ],\n",
       "       [1. , 0.5, 1. ]])"
      ]
     },
     "execution_count": 72,
     "metadata": {},
     "output_type": "execute_result"
    }
   ],
   "source": [
    "arr4/arr5"
   ]
  },
  {
   "cell_type": "code",
   "execution_count": 73,
   "id": "21ca055b-9f63-45bd-a286-244329caba0f",
   "metadata": {},
   "outputs": [
    {
     "data": {
      "text/plain": [
       "array([[2, 2, 2],\n",
       "       [1, 4, 1],\n",
       "       [4, 2, 4]])"
      ]
     },
     "execution_count": 73,
     "metadata": {},
     "output_type": "execute_result"
    }
   ],
   "source": [
    "arr4*arr5 # it is not a matrix multiplication its just a index multiplication"
   ]
  },
  {
   "cell_type": "code",
   "execution_count": 74,
   "id": "8014b53c-d7bb-4a0b-a0ed-b2de4f2b214e",
   "metadata": {},
   "outputs": [
    {
     "data": {
      "text/plain": [
       "array([[ 8, 10,  8],\n",
       "       [ 5,  7,  5],\n",
       "       [ 7,  8,  7]])"
      ]
     },
     "execution_count": 74,
     "metadata": {},
     "output_type": "execute_result"
    }
   ],
   "source": [
    "#matrix multiplication use \"@\"\n",
    "arr4@arr5"
   ]
  },
  {
   "cell_type": "code",
   "execution_count": 75,
   "id": "c14fd7c1-8b00-4952-a87b-eac04617211a",
   "metadata": {},
   "outputs": [],
   "source": [
    "# in python if we give arr/0 it will show error but in numpuy it will give infinite"
   ]
  },
  {
   "cell_type": "code",
   "execution_count": 76,
   "id": "aa2792ef-0f73-4174-ad77-0253f78ec426",
   "metadata": {},
   "outputs": [
    {
     "name": "stderr",
     "output_type": "stream",
     "text": [
      "/tmp/ipykernel_104/1674986024.py:1: RuntimeWarning: divide by zero encountered in divide\n",
      "  arr4/0\n"
     ]
    },
    {
     "data": {
      "text/plain": [
       "array([[inf, inf, inf],\n",
       "       [inf, inf, inf],\n",
       "       [inf, inf, inf]])"
      ]
     },
     "execution_count": 76,
     "metadata": {},
     "output_type": "execute_result"
    }
   ],
   "source": [
    "arr4/0"
   ]
  },
  {
   "cell_type": "code",
   "execution_count": 85,
   "id": "642bcf28-879b-4219-a5f2-03f953af69d3",
   "metadata": {},
   "outputs": [],
   "source": [
    "arr= np.zeros((3,3))"
   ]
  },
  {
   "cell_type": "code",
   "execution_count": 79,
   "id": "1156599b-77b0-4036-821e-90771de0496d",
   "metadata": {},
   "outputs": [
    {
     "data": {
      "text/plain": [
       "array([[0., 0., 0.],\n",
       "       [0., 0., 0.],\n",
       "       [0., 0., 0.]])"
      ]
     },
     "execution_count": 79,
     "metadata": {},
     "output_type": "execute_result"
    }
   ],
   "source": [
    "arr"
   ]
  },
  {
   "cell_type": "code",
   "execution_count": 94,
   "id": "f6a236a8-38fd-4286-aa3c-53eee46a99b2",
   "metadata": {},
   "outputs": [],
   "source": [
    "a=np.array([[1,2,3]])"
   ]
  },
  {
   "cell_type": "code",
   "execution_count": 87,
   "id": "95609570-a9bb-4b09-b4d4-f51e2b00d368",
   "metadata": {},
   "outputs": [
    {
     "data": {
      "text/plain": [
       "array([[1., 2., 3.],\n",
       "       [1., 2., 3.],\n",
       "       [1., 2., 3.]])"
      ]
     },
     "execution_count": 87,
     "metadata": {},
     "output_type": "execute_result"
    }
   ],
   "source": [
    "arr+a\n"
   ]
  },
  {
   "cell_type": "code",
   "execution_count": 95,
   "id": "b3c8598e-6efa-4124-86de-f7195be9ad9f",
   "metadata": {},
   "outputs": [],
   "source": [
    "arr= np.zeros((3,5))"
   ]
  },
  {
   "cell_type": "code",
   "execution_count": 96,
   "id": "0351e7c7-de68-4fbb-aca5-9432b45338a5",
   "metadata": {},
   "outputs": [],
   "source": [
    "b=a.T"
   ]
  },
  {
   "cell_type": "code",
   "execution_count": 97,
   "id": "e6925d88-3321-491e-930a-11b4a93b8235",
   "metadata": {},
   "outputs": [
    {
     "data": {
      "text/plain": [
       "array([[1],\n",
       "       [2],\n",
       "       [3]])"
      ]
     },
     "execution_count": 97,
     "metadata": {},
     "output_type": "execute_result"
    }
   ],
   "source": [
    "b"
   ]
  },
  {
   "cell_type": "code",
   "execution_count": 98,
   "id": "fc23fcbf-e515-44b8-a7b1-91f77c7b689c",
   "metadata": {},
   "outputs": [
    {
     "data": {
      "text/plain": [
       "array([[1., 1., 1., 1., 1.],\n",
       "       [2., 2., 2., 2., 2.],\n",
       "       [3., 3., 3., 3., 3.]])"
      ]
     },
     "execution_count": 98,
     "metadata": {},
     "output_type": "execute_result"
    }
   ],
   "source": [
    "arr+b"
   ]
  },
  {
   "cell_type": "code",
   "execution_count": 103,
   "id": "3d289f45-0ff7-4707-b3a9-8ca5e4285924",
   "metadata": {},
   "outputs": [
    {
     "data": {
      "text/plain": [
       "array([[1.41421356, 1.        , 1.41421356, 1.73205081],\n",
       "       [2.        , 1.        , 2.        , 1.        ],\n",
       "       [1.        , 1.73205081, 1.41421356, 1.        ]])"
      ]
     },
     "execution_count": 103,
     "metadata": {},
     "output_type": "execute_result"
    }
   ],
   "source": [
    "np.sqrt(arr2)"
   ]
  },
  {
   "cell_type": "code",
   "execution_count": 105,
   "id": "d8a50979-ec8e-4592-85f4-2497f915c6be",
   "metadata": {},
   "outputs": [
    {
     "data": {
      "text/plain": [
       "array([[0.30103   , 0.        , 0.30103   , 0.47712125],\n",
       "       [0.60205999, 0.        , 0.60205999, 0.        ],\n",
       "       [0.        , 0.47712125, 0.30103   , 0.        ]])"
      ]
     },
     "execution_count": 105,
     "metadata": {},
     "output_type": "execute_result"
    }
   ],
   "source": [
    "np.log10(arr2)"
   ]
  },
  {
   "cell_type": "code",
   "execution_count": 106,
   "id": "09bd0a5d-7949-4400-89d8-51fd8d0206ba",
   "metadata": {},
   "outputs": [
    {
     "data": {
      "text/plain": [
       "array([[ 7.3890561 ,  2.71828183,  7.3890561 , 20.08553692],\n",
       "       [54.59815003,  2.71828183, 54.59815003,  2.71828183],\n",
       "       [ 2.71828183, 20.08553692,  7.3890561 ,  2.71828183]])"
      ]
     },
     "execution_count": 106,
     "metadata": {},
     "output_type": "execute_result"
    }
   ],
   "source": [
    "np.exp(arr2)"
   ]
  },
  {
   "cell_type": "code",
   "execution_count": 107,
   "id": "8c1fe544-4f9a-46d2-a05a-03774bae06ee",
   "metadata": {},
   "outputs": [
    {
     "data": {
      "text/plain": [
       "1"
      ]
     },
     "execution_count": 107,
     "metadata": {},
     "output_type": "execute_result"
    }
   ],
   "source": [
    "np.min(arr2)"
   ]
  },
  {
   "cell_type": "code",
   "execution_count": 108,
   "id": "db69efe3-ec0f-4cdc-93e3-615681b55a84",
   "metadata": {},
   "outputs": [
    {
     "data": {
      "text/plain": [
       "4"
      ]
     },
     "execution_count": 108,
     "metadata": {},
     "output_type": "execute_result"
    }
   ],
   "source": [
    "np.max(arr2)"
   ]
  },
  {
   "cell_type": "code",
   "execution_count": null,
   "id": "8ff595ed-58d6-4397-8e6e-d1bcbcbf701f",
   "metadata": {},
   "outputs": [],
   "source": []
  }
 ],
 "metadata": {
  "kernelspec": {
   "display_name": "Python 3 (ipykernel)",
   "language": "python",
   "name": "python3"
  },
  "language_info": {
   "codemirror_mode": {
    "name": "ipython",
    "version": 3
   },
   "file_extension": ".py",
   "mimetype": "text/x-python",
   "name": "python",
   "nbconvert_exporter": "python",
   "pygments_lexer": "ipython3",
   "version": "3.10.8"
  }
 },
 "nbformat": 4,
 "nbformat_minor": 5
}
