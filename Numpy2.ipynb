{
 "cells": [
  {
   "cell_type": "code",
   "execution_count": 1,
   "id": "29637b95-7d3d-47a0-be1f-ccfe5f210f1a",
   "metadata": {},
   "outputs": [],
   "source": [
    "import numpy as np"
   ]
  },
  {
   "cell_type": "markdown",
   "id": "cc3c92d2-9b69-421e-9f6a-69b33950ee65",
   "metadata": {},
   "source": [
    "# Array Manipulation"
   ]
  },
  {
   "cell_type": "code",
   "execution_count": 3,
   "id": "cc124cae-0918-43a7-a31f-f03ec22c35a9",
   "metadata": {},
   "outputs": [],
   "source": [
    "arr=np.random.randint(1,10,(4,4))"
   ]
  },
  {
   "cell_type": "code",
   "execution_count": 4,
   "id": "52dfa793-7e05-435b-8397-08e43b83f819",
   "metadata": {},
   "outputs": [
    {
     "data": {
      "text/plain": [
       "array([[5, 7, 3, 9],\n",
       "       [3, 5, 2, 8],\n",
       "       [8, 8, 9, 4],\n",
       "       [4, 1, 2, 1]])"
      ]
     },
     "execution_count": 4,
     "metadata": {},
     "output_type": "execute_result"
    }
   ],
   "source": [
    "arr"
   ]
  },
  {
   "cell_type": "code",
   "execution_count": 5,
   "id": "6723a16d-38b4-42c1-8584-a5e425a95421",
   "metadata": {},
   "outputs": [
    {
     "data": {
      "text/plain": [
       "array([[5, 7, 3, 9, 3, 5, 2, 8],\n",
       "       [8, 8, 9, 4, 4, 1, 2, 1]])"
      ]
     },
     "execution_count": 5,
     "metadata": {},
     "output_type": "execute_result"
    }
   ],
   "source": [
    "arr.reshape(2,-1)"
   ]
  },
  {
   "cell_type": "code",
   "execution_count": 6,
   "id": "56811bc9-a9d2-45c2-88e6-3a9c47ccfdf6",
   "metadata": {},
   "outputs": [
    {
     "data": {
      "text/plain": [
       "array([[5, 3, 8, 4],\n",
       "       [7, 5, 8, 1],\n",
       "       [3, 2, 9, 2],\n",
       "       [9, 8, 4, 1]])"
      ]
     },
     "execution_count": 6,
     "metadata": {},
     "output_type": "execute_result"
    }
   ],
   "source": [
    "arr.T"
   ]
  },
  {
   "cell_type": "code",
   "execution_count": 7,
   "id": "f6d80e72-c35e-45f3-9984-fdc109118986",
   "metadata": {},
   "outputs": [
    {
     "data": {
      "text/plain": [
       "array([5, 7, 3, 9, 3, 5, 2, 8, 8, 8, 9, 4, 4, 1, 2, 1])"
      ]
     },
     "execution_count": 7,
     "metadata": {},
     "output_type": "execute_result"
    }
   ],
   "source": [
    "arr.flatten() # creates 1D array\n"
   ]
  },
  {
   "cell_type": "code",
   "execution_count": 8,
   "id": "5518f893-727b-423f-8a77-f9482e798931",
   "metadata": {},
   "outputs": [
    {
     "data": {
      "text/plain": [
       "array([[[5, 7, 3, 9]],\n",
       "\n",
       "       [[3, 5, 2, 8]],\n",
       "\n",
       "       [[8, 8, 9, 4]],\n",
       "\n",
       "       [[4, 1, 2, 1]]])"
      ]
     },
     "execution_count": 8,
     "metadata": {},
     "output_type": "execute_result"
    }
   ],
   "source": [
    "np.expand_dims(arr,axis=1) # it creates 2d to 3d respect of col for case of row axis =1"
   ]
  },
  {
   "cell_type": "code",
   "execution_count": 10,
   "id": "76449996-40da-4415-a2cd-28f71969c2f0",
   "metadata": {},
   "outputs": [],
   "source": [
    "data=np.expand_dims(arr,axis=0)"
   ]
  },
  {
   "cell_type": "code",
   "execution_count": 11,
   "id": "1502e535-b000-43a8-a0f6-218647f11722",
   "metadata": {},
   "outputs": [
    {
     "data": {
      "text/plain": [
       "array([[[5, 7, 3, 9],\n",
       "        [3, 5, 2, 8],\n",
       "        [8, 8, 9, 4],\n",
       "        [4, 1, 2, 1]]])"
      ]
     },
     "execution_count": 11,
     "metadata": {},
     "output_type": "execute_result"
    }
   ],
   "source": [
    "data"
   ]
  },
  {
   "cell_type": "code",
   "execution_count": 12,
   "id": "73ec5a7e-0a86-483a-9962-506a57673b3f",
   "metadata": {},
   "outputs": [
    {
     "data": {
      "text/plain": [
       "array([[5, 7, 3, 9],\n",
       "       [3, 5, 2, 8],\n",
       "       [8, 8, 9, 4],\n",
       "       [4, 1, 2, 1]])"
      ]
     },
     "execution_count": 12,
     "metadata": {},
     "output_type": "execute_result"
    }
   ],
   "source": [
    "np.squeeze(data) # decreses the diamention\n"
   ]
  },
  {
   "cell_type": "code",
   "execution_count": 14,
   "id": "5e245def-be4f-4bef-b08b-c9933ff1ed08",
   "metadata": {},
   "outputs": [
    {
     "data": {
      "text/plain": [
       "array([5, 5, 5, 5, 7, 7, 7, 7, 3, 3, 3, 3, 9, 9, 9, 9, 3, 3, 3, 3, 5, 5,\n",
       "       5, 5, 2, 2, 2, 2, 8, 8, 8, 8, 8, 8, 8, 8, 8, 8, 8, 8, 9, 9, 9, 9,\n",
       "       4, 4, 4, 4, 4, 4, 4, 4, 1, 1, 1, 1, 2, 2, 2, 2, 1, 1, 1, 1])"
      ]
     },
     "execution_count": 14,
     "metadata": {},
     "output_type": "execute_result"
    }
   ],
   "source": [
    "np.repeat(data ,4) # each data will repeat 4 times"
   ]
  },
  {
   "cell_type": "code",
   "execution_count": 17,
   "id": "e74f07c4-f5ce-4d8b-9083-1f00faa70959",
   "metadata": {},
   "outputs": [],
   "source": [
    "new=np.array([[1],[2],[3],[4]])"
   ]
  },
  {
   "cell_type": "code",
   "execution_count": 18,
   "id": "b217dc0f-e855-4133-ba0a-85552fb4a203",
   "metadata": {},
   "outputs": [
    {
     "data": {
      "text/plain": [
       "array([[1],\n",
       "       [2],\n",
       "       [3],\n",
       "       [4]])"
      ]
     },
     "execution_count": 18,
     "metadata": {},
     "output_type": "execute_result"
    }
   ],
   "source": [
    "new"
   ]
  },
  {
   "cell_type": "code",
   "execution_count": 19,
   "id": "4af68505-17ec-4651-a6cc-09651c9df289",
   "metadata": {},
   "outputs": [
    {
     "data": {
      "text/plain": [
       "array([[2],\n",
       "       [3],\n",
       "       [4],\n",
       "       [1]])"
      ]
     },
     "execution_count": 19,
     "metadata": {},
     "output_type": "execute_result"
    }
   ],
   "source": [
    "np.roll(new,3) # rotate the array 3 time"
   ]
  },
  {
   "cell_type": "code",
   "execution_count": 20,
   "id": "56b138d5-fd85-45bd-8750-48359c03ad9f",
   "metadata": {},
   "outputs": [
    {
     "data": {
      "text/plain": [
       "array([[4],\n",
       "       [1],\n",
       "       [2],\n",
       "       [3]])"
      ]
     },
     "execution_count": 20,
     "metadata": {},
     "output_type": "execute_result"
    }
   ],
   "source": [
    "np.roll(new,1)"
   ]
  },
  {
   "cell_type": "code",
   "execution_count": 21,
   "id": "ead5f032-d68f-4ee7-8725-670d4c88df61",
   "metadata": {},
   "outputs": [
    {
     "data": {
      "text/plain": [
       "array([[1, 0, 0, 0],\n",
       "       [0, 2, 0, 0],\n",
       "       [0, 0, 3, 0],\n",
       "       [0, 0, 0, 4]])"
      ]
     },
     "execution_count": 21,
     "metadata": {},
     "output_type": "execute_result"
    }
   ],
   "source": [
    "np.diag(np.array([1,2,3,4]))"
   ]
  },
  {
   "cell_type": "markdown",
   "id": "9976e21c-73d7-43ee-a53b-41b27145d59d",
   "metadata": {},
   "source": [
    "# binary operation"
   ]
  },
  {
   "cell_type": "code",
   "execution_count": 22,
   "id": "13d1cf52-559d-434c-b6c1-5b95cfb86a68",
   "metadata": {},
   "outputs": [],
   "source": [
    "arr1=np.random.randint(1,10,(4,3))\n",
    "arr2=np.random.randint(1,10,(4,3))"
   ]
  },
  {
   "cell_type": "code",
   "execution_count": 23,
   "id": "fd8c6b1f-ee15-4162-9014-b392d01e84d0",
   "metadata": {},
   "outputs": [
    {
     "data": {
      "text/plain": [
       "array([[4, 9, 7],\n",
       "       [3, 6, 9],\n",
       "       [1, 1, 5],\n",
       "       [4, 2, 5]])"
      ]
     },
     "execution_count": 23,
     "metadata": {},
     "output_type": "execute_result"
    }
   ],
   "source": [
    "arr1"
   ]
  },
  {
   "cell_type": "code",
   "execution_count": 24,
   "id": "108e2065-1657-45bb-8e9e-decf7409a332",
   "metadata": {},
   "outputs": [
    {
     "data": {
      "text/plain": [
       "array([[3, 3, 9],\n",
       "       [5, 7, 7],\n",
       "       [3, 5, 5],\n",
       "       [8, 5, 6]])"
      ]
     },
     "execution_count": 24,
     "metadata": {},
     "output_type": "execute_result"
    }
   ],
   "source": [
    "arr2"
   ]
  },
  {
   "cell_type": "code",
   "execution_count": 25,
   "id": "c2404228-16f5-4a2a-8aaa-c04721f9b5c9",
   "metadata": {},
   "outputs": [
    {
     "data": {
      "text/plain": [
       "array([[ 7, 12, 16],\n",
       "       [ 8, 13, 16],\n",
       "       [ 4,  6, 10],\n",
       "       [12,  7, 11]])"
      ]
     },
     "execution_count": 25,
     "metadata": {},
     "output_type": "execute_result"
    }
   ],
   "source": [
    "arr1+arr2\n"
   ]
  },
  {
   "cell_type": "code",
   "execution_count": 26,
   "id": "c23d4ddd-285f-4735-be1a-97b7d1c3157e",
   "metadata": {},
   "outputs": [
    {
     "data": {
      "text/plain": [
       "array([[12, 27, 63],\n",
       "       [15, 42, 63],\n",
       "       [ 3,  5, 25],\n",
       "       [32, 10, 30]])"
      ]
     },
     "execution_count": 26,
     "metadata": {},
     "output_type": "execute_result"
    }
   ],
   "source": [
    "arr1*arr2"
   ]
  },
  {
   "cell_type": "code",
   "execution_count": 27,
   "id": "d7cbad86-4e5b-451e-a6f4-4249f1313be2",
   "metadata": {},
   "outputs": [
    {
     "data": {
      "text/plain": [
       "array([[1.33333333, 3.        , 0.77777778],\n",
       "       [0.6       , 0.85714286, 1.28571429],\n",
       "       [0.33333333, 0.2       , 1.        ],\n",
       "       [0.5       , 0.4       , 0.83333333]])"
      ]
     },
     "execution_count": 27,
     "metadata": {},
     "output_type": "execute_result"
    }
   ],
   "source": [
    "arr1/arr2"
   ]
  },
  {
   "cell_type": "code",
   "execution_count": 28,
   "id": "40f76670-ae77-455d-8d47-ae1e79554487",
   "metadata": {},
   "outputs": [
    {
     "data": {
      "text/plain": [
       "array([[      64,      729, 40353607],\n",
       "       [     243,   279936,  4782969],\n",
       "       [       1,        1,     3125],\n",
       "       [   65536,       32,    15625]])"
      ]
     },
     "execution_count": 28,
     "metadata": {},
     "output_type": "execute_result"
    }
   ],
   "source": [
    "arr1**arr2 #power operation"
   ]
  },
  {
   "cell_type": "code",
   "execution_count": 30,
   "id": "26c0c1a4-9c9a-4ecc-8dba-c62a043f6442",
   "metadata": {},
   "outputs": [
    {
     "data": {
      "text/plain": [
       "array([[ -5, -10,  -8],\n",
       "       [ -4,  -7, -10],\n",
       "       [ -2,  -2,  -6],\n",
       "       [ -5,  -3,  -6]])"
      ]
     },
     "execution_count": 30,
     "metadata": {},
     "output_type": "execute_result"
    }
   ],
   "source": [
    "~arr1 #negation operation"
   ]
  },
  {
   "cell_type": "code",
   "execution_count": 31,
   "id": "0d81d235-267a-4797-99f8-48c38acd5899",
   "metadata": {},
   "outputs": [
    {
     "data": {
      "text/plain": [
       "array([[ True,  True, False],\n",
       "       [False, False,  True],\n",
       "       [False, False, False],\n",
       "       [False, False, False]])"
      ]
     },
     "execution_count": 31,
     "metadata": {},
     "output_type": "execute_result"
    }
   ],
   "source": [
    "arr1>arr2"
   ]
  },
  {
   "cell_type": "markdown",
   "id": "0bbe5c9f-42b5-4d38-baa0-4c9b46bc4fe8",
   "metadata": {},
   "source": [
    "# string operation"
   ]
  },
  {
   "cell_type": "code",
   "execution_count": 36,
   "id": "a3e0e46f-7417-4e56-a1c8-d80a38d113c2",
   "metadata": {},
   "outputs": [],
   "source": [
    "arr=np.array(['anisha','parveen'])"
   ]
  },
  {
   "cell_type": "code",
   "execution_count": 35,
   "id": "8ef22c33-2381-434b-ad93-f5c66e4f388f",
   "metadata": {},
   "outputs": [
    {
     "data": {
      "text/plain": [
       "array(['anisha', 'arveen'], dtype='<U6')"
      ]
     },
     "execution_count": 35,
     "metadata": {},
     "output_type": "execute_result"
    }
   ],
   "source": [
    "arr"
   ]
  },
  {
   "cell_type": "code",
   "execution_count": 38,
   "id": "48a70260-fb5e-444c-880a-8a1f3bb52bf9",
   "metadata": {},
   "outputs": [
    {
     "data": {
      "text/plain": [
       "'ANISHA'"
      ]
     },
     "execution_count": 38,
     "metadata": {},
     "output_type": "execute_result"
    }
   ],
   "source": [
    "arr[0].upper()"
   ]
  },
  {
   "cell_type": "code",
   "execution_count": 40,
   "id": "163df023-7357-480a-a73c-8e1d89892ea3",
   "metadata": {},
   "outputs": [
    {
     "data": {
      "text/plain": [
       "array(['ANISHA', 'PARVEEN'], dtype='<U7')"
      ]
     },
     "execution_count": 40,
     "metadata": {},
     "output_type": "execute_result"
    }
   ],
   "source": [
    "np.char.upper(arr)"
   ]
  },
  {
   "cell_type": "code",
   "execution_count": 41,
   "id": "832d7394-9014-4080-b413-a2c491f14677",
   "metadata": {},
   "outputs": [
    {
     "data": {
      "text/plain": [
       "array(['Anisha', 'Parveen'], dtype='<U7')"
      ]
     },
     "execution_count": 41,
     "metadata": {},
     "output_type": "execute_result"
    }
   ],
   "source": [
    "np.char.capitalize(arr)"
   ]
  },
  {
   "cell_type": "code",
   "execution_count": 43,
   "id": "99f29dfd-2d72-4e9a-88a2-2fce61a8999e",
   "metadata": {},
   "outputs": [],
   "source": [
    "#every string funtion available in python can use it in numpy  using '.char' class"
   ]
  },
  {
   "cell_type": "markdown",
   "id": "11e870b3-6870-46ae-ae55-263684709127",
   "metadata": {},
   "source": [
    "# mathematical funtion"
   ]
  },
  {
   "cell_type": "code",
   "execution_count": 45,
   "id": "cea4ae1c-3249-42e4-bc19-f928f0c9aa6d",
   "metadata": {},
   "outputs": [
    {
     "data": {
      "text/plain": [
       "array([[-0.7568025 ,  0.41211849,  0.6569866 ],\n",
       "       [ 0.14112001, -0.2794155 ,  0.41211849],\n",
       "       [ 0.84147098,  0.84147098, -0.95892427],\n",
       "       [-0.7568025 ,  0.90929743, -0.95892427]])"
      ]
     },
     "execution_count": 45,
     "metadata": {},
     "output_type": "execute_result"
    }
   ],
   "source": [
    "np.sin(arr1)"
   ]
  },
  {
   "cell_type": "code",
   "execution_count": 46,
   "id": "5698d1e8-d9ea-484d-b5a9-f0c3c2146ed9",
   "metadata": {},
   "outputs": [
    {
     "data": {
      "text/plain": [
       "array([[-0.65364362, -0.91113026,  0.75390225],\n",
       "       [-0.9899925 ,  0.96017029, -0.91113026],\n",
       "       [ 0.54030231,  0.54030231,  0.28366219],\n",
       "       [-0.65364362, -0.41614684,  0.28366219]])"
      ]
     },
     "execution_count": 46,
     "metadata": {},
     "output_type": "execute_result"
    }
   ],
   "source": [
    "np.cos(arr1)"
   ]
  },
  {
   "cell_type": "code",
   "execution_count": 47,
   "id": "a71311d4-b7b3-4105-b907-203b22ccc570",
   "metadata": {},
   "outputs": [
    {
     "data": {
      "text/plain": [
       "array([[ 1.15782128, -0.45231566,  0.87144798],\n",
       "       [-0.14254654, -0.29100619, -0.45231566],\n",
       "       [ 1.55740772,  1.55740772, -3.38051501],\n",
       "       [ 1.15782128, -2.18503986, -3.38051501]])"
      ]
     },
     "execution_count": 47,
     "metadata": {},
     "output_type": "execute_result"
    }
   ],
   "source": [
    "np.tan(arr1)"
   ]
  },
  {
   "cell_type": "code",
   "execution_count": 48,
   "id": "0ef897c1-9c19-4d9f-8d3f-7c290b86bcb1",
   "metadata": {},
   "outputs": [
    {
     "data": {
      "text/plain": [
       "array([[0.60205999, 0.95424251, 0.84509804],\n",
       "       [0.47712125, 0.77815125, 0.95424251],\n",
       "       [0.        , 0.        , 0.69897   ],\n",
       "       [0.60205999, 0.30103   , 0.69897   ]])"
      ]
     },
     "execution_count": 48,
     "metadata": {},
     "output_type": "execute_result"
    }
   ],
   "source": [
    "np.log10(arr1)"
   ]
  },
  {
   "cell_type": "code",
   "execution_count": 50,
   "id": "7d3d6d39-1861-451a-85da-7c024dabf20c",
   "metadata": {},
   "outputs": [
    {
     "data": {
      "text/plain": [
       "array([[16, 81, 49],\n",
       "       [ 9, 36, 81],\n",
       "       [ 1,  1, 25],\n",
       "       [16,  4, 25]])"
      ]
     },
     "execution_count": 50,
     "metadata": {},
     "output_type": "execute_result"
    }
   ],
   "source": [
    "np.power(arr1,2)"
   ]
  },
  {
   "cell_type": "code",
   "execution_count": 51,
   "id": "24d7897c-be19-4ded-8761-5ffa25027614",
   "metadata": {},
   "outputs": [
    {
     "data": {
      "text/plain": [
       "4.666666666666667"
      ]
     },
     "execution_count": 51,
     "metadata": {},
     "output_type": "execute_result"
    }
   ],
   "source": [
    "np.mean(arr1)"
   ]
  },
  {
   "cell_type": "code",
   "execution_count": 52,
   "id": "fb5d7f5d-a1a0-4ed8-bc06-1a297376d532",
   "metadata": {},
   "outputs": [
    {
     "data": {
      "text/plain": [
       "4.5"
      ]
     },
     "execution_count": 52,
     "metadata": {},
     "output_type": "execute_result"
    }
   ],
   "source": [
    "np.median(arr1)"
   ]
  },
  {
   "cell_type": "code",
   "execution_count": 53,
   "id": "44ecf7e3-3b7f-41ec-b714-ecf1801809ef",
   "metadata": {},
   "outputs": [
    {
     "data": {
      "text/plain": [
       "2.6246692913372702"
      ]
     },
     "execution_count": 53,
     "metadata": {},
     "output_type": "execute_result"
    }
   ],
   "source": [
    "np.std(arr1)"
   ]
  },
  {
   "cell_type": "code",
   "execution_count": 55,
   "id": "9992f3f1-6102-4eb6-a1b3-c7b550f5c9cf",
   "metadata": {},
   "outputs": [
    {
     "data": {
      "text/plain": [
       "9"
      ]
     },
     "execution_count": 55,
     "metadata": {},
     "output_type": "execute_result"
    }
   ],
   "source": [
    "np.max(arr1)"
   ]
  },
  {
   "cell_type": "code",
   "execution_count": 56,
   "id": "5f7d9d33-aadb-4ac2-9684-e3a54d143467",
   "metadata": {},
   "outputs": [
    {
     "data": {
      "text/plain": [
       "1"
      ]
     },
     "execution_count": 56,
     "metadata": {},
     "output_type": "execute_result"
    }
   ],
   "source": [
    "np.min(arr1)"
   ]
  },
  {
   "cell_type": "code",
   "execution_count": 57,
   "id": "c2c6aad4-89ce-4963-a10c-84f1752821bc",
   "metadata": {},
   "outputs": [
    {
     "data": {
      "text/plain": [
       "array([[ 1,  6, -2],\n",
       "       [-2, -1,  2],\n",
       "       [-2, -4,  0],\n",
       "       [-4, -3, -1]])"
      ]
     },
     "execution_count": 57,
     "metadata": {},
     "output_type": "execute_result"
    }
   ],
   "source": [
    "arr1-arr2"
   ]
  },
  {
   "cell_type": "code",
   "execution_count": 58,
   "id": "8d507358-5020-43b4-852d-a320b321e61f",
   "metadata": {},
   "outputs": [
    {
     "data": {
      "text/plain": [
       "array([[ 1,  6, -2],\n",
       "       [-2, -1,  2],\n",
       "       [-2, -4,  0],\n",
       "       [-4, -3, -1]])"
      ]
     },
     "execution_count": 58,
     "metadata": {},
     "output_type": "execute_result"
    }
   ],
   "source": [
    "np.subtract(arr1,arr2)"
   ]
  },
  {
   "cell_type": "code",
   "execution_count": 59,
   "id": "42737c9a-0786-4ead-ae7a-a16c8b1bc36c",
   "metadata": {},
   "outputs": [
    {
     "data": {
      "text/plain": [
       "array([[12, 27, 63],\n",
       "       [15, 42, 63],\n",
       "       [ 3,  5, 25],\n",
       "       [32, 10, 30]])"
      ]
     },
     "execution_count": 59,
     "metadata": {},
     "output_type": "execute_result"
    }
   ],
   "source": [
    "np.multiply(arr1,arr2)"
   ]
  },
  {
   "cell_type": "code",
   "execution_count": 60,
   "id": "7aac33c2-7e5e-4ad9-a883-99f020f5a99e",
   "metadata": {},
   "outputs": [
    {
     "data": {
      "text/plain": [
       "array([[1, 0, 7],\n",
       "       [3, 6, 2],\n",
       "       [1, 1, 0],\n",
       "       [4, 2, 5]])"
      ]
     },
     "execution_count": 60,
     "metadata": {},
     "output_type": "execute_result"
    }
   ],
   "source": [
    "np.mod(arr1,arr2)"
   ]
  },
  {
   "cell_type": "code",
   "execution_count": 63,
   "id": "bee484d7-20ca-46cd-97c2-47911b414671",
   "metadata": {},
   "outputs": [
    {
     "data": {
      "text/plain": [
       "array([[ 7, 12, 16],\n",
       "       [ 8, 13, 16],\n",
       "       [ 4,  6, 10],\n",
       "       [12,  7, 11]])"
      ]
     },
     "execution_count": 63,
     "metadata": {},
     "output_type": "execute_result"
    }
   ],
   "source": [
    "np.add(arr1,arr2)"
   ]
  },
  {
   "cell_type": "markdown",
   "id": "8f29da81-21c0-4b2d-8c9a-8a0384ac44df",
   "metadata": {},
   "source": [
    "# sort,search & count\n"
   ]
  },
  {
   "cell_type": "code",
   "execution_count": 80,
   "id": "db935607-6c93-4858-ac66-84183225376d",
   "metadata": {},
   "outputs": [],
   "source": [
    "arr=np.array([5,6,3,8,1,9,0,9,1])"
   ]
  },
  {
   "cell_type": "code",
   "execution_count": 65,
   "id": "b03dd9e2-a234-4e84-8d37-1220e683377e",
   "metadata": {},
   "outputs": [
    {
     "data": {
      "text/plain": [
       "array([5, 6, 3, 8, 1, 9, 0, 9, 1])"
      ]
     },
     "execution_count": 65,
     "metadata": {},
     "output_type": "execute_result"
    }
   ],
   "source": [
    "arr\n"
   ]
  },
  {
   "cell_type": "code",
   "execution_count": 66,
   "id": "b85ad819-04df-4884-9c7c-5ba4cf9d417d",
   "metadata": {},
   "outputs": [
    {
     "data": {
      "text/plain": [
       "array([0, 1, 1, 3, 5, 6, 8, 9, 9])"
      ]
     },
     "execution_count": 66,
     "metadata": {},
     "output_type": "execute_result"
    }
   ],
   "source": [
    "np.sort(arr)"
   ]
  },
  {
   "cell_type": "code",
   "execution_count": 68,
   "id": "d0704310-a293-40c6-91d8-75f69516a38f",
   "metadata": {},
   "outputs": [
    {
     "data": {
      "text/plain": [
       "7"
      ]
     },
     "execution_count": 68,
     "metadata": {},
     "output_type": "execute_result"
    }
   ],
   "source": [
    "np.searchsorted(arr,4)"
   ]
  },
  {
   "cell_type": "code",
   "execution_count": 74,
   "id": "9faabb25-1573-4243-9f05-9e0fd766fbd4",
   "metadata": {},
   "outputs": [],
   "source": [
    "arr1=np.array([1,-1,0,0,0,0,0,0,9])"
   ]
  },
  {
   "cell_type": "code",
   "execution_count": 75,
   "id": "17bf6493-8e11-42cf-89f8-95eb0a16f59b",
   "metadata": {},
   "outputs": [
    {
     "data": {
      "text/plain": [
       "3"
      ]
     },
     "execution_count": 75,
     "metadata": {},
     "output_type": "execute_result"
    }
   ],
   "source": [
    "np.count_nonzero(arr1)"
   ]
  },
  {
   "cell_type": "code",
   "execution_count": 77,
   "id": "9a2baf97-64db-4a80-b3bf-f22023eccdde",
   "metadata": {},
   "outputs": [
    {
     "data": {
      "text/plain": [
       "(array([1]),)"
      ]
     },
     "execution_count": 77,
     "metadata": {},
     "output_type": "execute_result"
    }
   ],
   "source": [
    "np.where(arr1<0)"
   ]
  },
  {
   "cell_type": "code",
   "execution_count": 78,
   "id": "384a4183-327d-4d14-bc3a-85a40e880e4b",
   "metadata": {},
   "outputs": [
    {
     "data": {
      "text/plain": [
       "(array([0, 8]),)"
      ]
     },
     "execution_count": 78,
     "metadata": {},
     "output_type": "execute_result"
    }
   ],
   "source": [
    "np.where(arr1>0)"
   ]
  },
  {
   "cell_type": "code",
   "execution_count": 82,
   "id": "a8167ec4-0f3b-4e75-a086-56e78ade61b8",
   "metadata": {},
   "outputs": [
    {
     "data": {
      "text/plain": [
       "array([5, 6, 3, 8, 9, 9])"
      ]
     },
     "execution_count": 82,
     "metadata": {},
     "output_type": "execute_result"
    }
   ],
   "source": [
    "np.extract(arr>2,arr)"
   ]
  },
  {
   "cell_type": "markdown",
   "id": "15a2e9d4-a4d8-47be-9d94-1ee96069d271",
   "metadata": {},
   "source": [
    "# byte swapping"
   ]
  },
  {
   "cell_type": "code",
   "execution_count": 83,
   "id": "9d6cd29f-2a02-4a5d-bfe8-f92043ae2793",
   "metadata": {},
   "outputs": [
    {
     "data": {
      "text/plain": [
       "array([ 1, -1,  0,  0,  0,  0,  0,  0,  9])"
      ]
     },
     "execution_count": 83,
     "metadata": {},
     "output_type": "execute_result"
    }
   ],
   "source": [
    "arr1"
   ]
  },
  {
   "cell_type": "code",
   "execution_count": 84,
   "id": "b51314e0-97cc-4c08-bf09-872f853c0a94",
   "metadata": {},
   "outputs": [
    {
     "data": {
      "text/plain": [
       "array([360287970189639680, 432345564227567616, 216172782113783808,\n",
       "       576460752303423488,  72057594037927936, 648518346341351424,\n",
       "                        0, 648518346341351424,  72057594037927936])"
      ]
     },
     "execution_count": 84,
     "metadata": {},
     "output_type": "execute_result"
    }
   ],
   "source": [
    "arr.byteswap()"
   ]
  },
  {
   "cell_type": "code",
   "execution_count": 85,
   "id": "29450b81-8394-452f-8a47-98c49ab3a1e5",
   "metadata": {},
   "outputs": [
    {
     "data": {
      "text/plain": [
       "array([5, 6, 3, 8, 1, 9, 0, 9, 1])"
      ]
     },
     "execution_count": 85,
     "metadata": {},
     "output_type": "execute_result"
    }
   ],
   "source": [
    "arr"
   ]
  },
  {
   "cell_type": "code",
   "execution_count": 86,
   "id": "c8f4ea68-c66f-4c4a-8f56-01214bd7bb53",
   "metadata": {},
   "outputs": [
    {
     "data": {
      "text/plain": [
       "array([360287970189639680, 432345564227567616, 216172782113783808,\n",
       "       576460752303423488,  72057594037927936, 648518346341351424,\n",
       "                        0, 648518346341351424,  72057594037927936])"
      ]
     },
     "execution_count": 86,
     "metadata": {},
     "output_type": "execute_result"
    }
   ],
   "source": [
    "arr.byteswap(True)"
   ]
  },
  {
   "cell_type": "code",
   "execution_count": 87,
   "id": "1d9ed987-c465-4016-b2ce-9eab0d5f22a2",
   "metadata": {},
   "outputs": [
    {
     "data": {
      "text/plain": [
       "array([360287970189639680, 432345564227567616, 216172782113783808,\n",
       "       576460752303423488,  72057594037927936, 648518346341351424,\n",
       "                        0, 648518346341351424,  72057594037927936])"
      ]
     },
     "execution_count": 87,
     "metadata": {},
     "output_type": "execute_result"
    }
   ],
   "source": [
    "arr"
   ]
  },
  {
   "cell_type": "markdown",
   "id": "eb014092-5b3a-415a-b0ae-cdeecb0aee0f",
   "metadata": {},
   "source": [
    "# copies & views"
   ]
  },
  {
   "cell_type": "code",
   "execution_count": 88,
   "id": "7de6a8f5-9a8e-4b2d-8b61-aedec4834fab",
   "metadata": {},
   "outputs": [],
   "source": [
    "arr=np.array([5,6,3,8,1,9,0,9,1])"
   ]
  },
  {
   "cell_type": "code",
   "execution_count": 91,
   "id": "acd29f19-6aa7-49e1-b176-cbe2d3e0b4ec",
   "metadata": {},
   "outputs": [],
   "source": [
    "\n",
    "b=arr # shallow copy\n",
    "a=arr.view() #equivalent as shallow copy"
   ]
  },
  {
   "cell_type": "code",
   "execution_count": 90,
   "id": "878559f6-fad2-40e5-96ed-4b6fce380264",
   "metadata": {},
   "outputs": [
    {
     "data": {
      "text/plain": [
       "array([5, 6, 3, 8, 1, 9, 0, 9, 1])"
      ]
     },
     "execution_count": 90,
     "metadata": {},
     "output_type": "execute_result"
    }
   ],
   "source": [
    "b"
   ]
  },
  {
   "cell_type": "code",
   "execution_count": 92,
   "id": "41ca57bc-2464-4c41-b56a-3a3cd3012867",
   "metadata": {},
   "outputs": [],
   "source": [
    "c=np.copy(arr) #deep copy\n"
   ]
  },
  {
   "cell_type": "markdown",
   "id": "81c2650b-19b5-4002-bdcd-792d151ad783",
   "metadata": {},
   "source": [
    "# matrix library"
   ]
  },
  {
   "cell_type": "code",
   "execution_count": 93,
   "id": "efd8cddf-d578-4927-b3f3-3d1d64161ca4",
   "metadata": {},
   "outputs": [],
   "source": [
    "import numpy.matlib as nm"
   ]
  },
  {
   "cell_type": "code",
   "execution_count": 95,
   "id": "fca4baf6-e5e9-4421-acde-9de7df26c2d1",
   "metadata": {},
   "outputs": [
    {
     "data": {
      "text/plain": [
       "matrix([[0., 0., 0., 0., 0.]])"
      ]
     },
     "execution_count": 95,
     "metadata": {},
     "output_type": "execute_result"
    }
   ],
   "source": [
    "nm.zeros(5)"
   ]
  },
  {
   "cell_type": "code",
   "execution_count": 96,
   "id": "7cf586be-80d2-4b03-9958-15d923bed64d",
   "metadata": {},
   "outputs": [
    {
     "data": {
      "text/plain": [
       "matrix([[1., 1., 1., 1.],\n",
       "        [1., 1., 1., 1.],\n",
       "        [1., 1., 1., 1.]])"
      ]
     },
     "execution_count": 96,
     "metadata": {},
     "output_type": "execute_result"
    }
   ],
   "source": [
    "nm.ones((3,4))"
   ]
  },
  {
   "cell_type": "code",
   "execution_count": 97,
   "id": "d994ee0f-8498-46b6-9619-96099de335c2",
   "metadata": {},
   "outputs": [
    {
     "data": {
      "text/plain": [
       "matrix([[1., 0., 0., 0.],\n",
       "        [0., 1., 0., 0.],\n",
       "        [0., 0., 1., 0.],\n",
       "        [0., 0., 0., 1.]])"
      ]
     },
     "execution_count": 97,
     "metadata": {},
     "output_type": "execute_result"
    }
   ],
   "source": [
    "nm.eye(4)"
   ]
  },
  {
   "cell_type": "code",
   "execution_count": 103,
   "id": "4fe02cc9-2c23-4579-a97c-7c142e432e47",
   "metadata": {},
   "outputs": [],
   "source": [
    "arr1=np.random.randint(1,10,(4,3))\n",
    "arr2=np.random.randint(1,10,(3,3))"
   ]
  },
  {
   "cell_type": "code",
   "execution_count": 100,
   "id": "50ccc6a7-3060-4b11-aa6e-4babe50f3dd8",
   "metadata": {},
   "outputs": [
    {
     "data": {
      "text/plain": [
       "array([[2, 1, 5],\n",
       "       [2, 3, 8],\n",
       "       [5, 1, 3],\n",
       "       [2, 6, 5]])"
      ]
     },
     "execution_count": 100,
     "metadata": {},
     "output_type": "execute_result"
    }
   ],
   "source": [
    "arr1"
   ]
  },
  {
   "cell_type": "code",
   "execution_count": 104,
   "id": "fda67b8d-92e1-44a2-af9e-15026fe321f1",
   "metadata": {},
   "outputs": [
    {
     "data": {
      "text/plain": [
       "array([[5, 4, 7],\n",
       "       [4, 6, 9],\n",
       "       [7, 6, 9]])"
      ]
     },
     "execution_count": 104,
     "metadata": {},
     "output_type": "execute_result"
    }
   ],
   "source": [
    "arr2"
   ]
  },
  {
   "cell_type": "code",
   "execution_count": 105,
   "id": "b4ca5b74-4bbc-4aed-80db-90170f34ea72",
   "metadata": {},
   "outputs": [
    {
     "data": {
      "text/plain": [
       "array([[119, 118, 184],\n",
       "       [ 83,  80, 125],\n",
       "       [ 36,  46,  70],\n",
       "       [120, 108, 171]])"
      ]
     },
     "execution_count": 105,
     "metadata": {},
     "output_type": "execute_result"
    }
   ],
   "source": [
    "np.dot(arr1,arr2)"
   ]
  },
  {
   "cell_type": "code",
   "execution_count": 106,
   "id": "ec5264ee-e469-4538-af93-9b2e47029483",
   "metadata": {},
   "outputs": [
    {
     "data": {
      "text/plain": [
       "array([[119, 118, 184],\n",
       "       [ 83,  80, 125],\n",
       "       [ 36,  46,  70],\n",
       "       [120, 108, 171]])"
      ]
     },
     "execution_count": 106,
     "metadata": {},
     "output_type": "execute_result"
    }
   ],
   "source": [
    "arr1@arr2"
   ]
  },
  {
   "cell_type": "code",
   "execution_count": null,
   "id": "b62cb571-ebbf-43c1-a0e3-4011a20d2a55",
   "metadata": {},
   "outputs": [],
   "source": []
  }
 ],
 "metadata": {
  "kernelspec": {
   "display_name": "Python 3 (ipykernel)",
   "language": "python",
   "name": "python3"
  },
  "language_info": {
   "codemirror_mode": {
    "name": "ipython",
    "version": 3
   },
   "file_extension": ".py",
   "mimetype": "text/x-python",
   "name": "python",
   "nbconvert_exporter": "python",
   "pygments_lexer": "ipython3",
   "version": "3.10.8"
  }
 },
 "nbformat": 4,
 "nbformat_minor": 5
}
