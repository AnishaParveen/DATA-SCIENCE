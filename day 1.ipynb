{
 "cells": [
  {
   "cell_type": "raw",
   "id": "8c95d250-0fa0-4572-b29e-0c587b58b71a",
   "metadata": {},
   "source": [
    "a=10\n",
    "print(a)"
   ]
  },
  {
   "cell_type": "code",
   "execution_count": null,
   "id": "796e0c5a-9053-4023-86fb-98fec4ba9cb5",
   "metadata": {},
   "outputs": [],
   "source": [
    "type(name)\n",
    "type(1+2j)"
   ]
  },
  {
   "cell_type": "raw",
   "id": "2d25cf6d-db63-48b5-be51-71549e99f695",
   "metadata": {},
   "source": [
    "print('hello')\n",
    "print(\"hello\")"
   ]
  },
  {
   "cell_type": "code",
   "execution_count": 8,
   "id": "f4f28e5b-5f39-415c-bbad-8489db895843",
   "metadata": {},
   "outputs": [
    {
     "name": "stdout",
     "output_type": "stream",
     "text": [
      "\n"
     ]
    }
   ],
   "source": [
    "## Typecasting\n",
    "bool(0)\n",
    "a=1\n",
    "if bool(a)==True:\n",
    "    \n",
    "    print(\"True\")"
   ]
  },
  {
   "cell_type": "raw",
   "id": "4bdd3c57-633f-4bf5-a9af-cec5ca8d630c",
   "metadata": {},
   "source": []
  },
  {
   "cell_type": "code",
   "execution_count": null,
   "id": "4952735f-b3a5-4d19-ad6b-66f18be429d8",
   "metadata": {},
   "outputs": [],
   "source": [
    "## Variables are case senssitive\n",
    "company='ineuron'\n",
    "Company='PWSKILLS'\n",
    "print(company)\n",
    "print(Company)"
   ]
  },
  {
   "cell_type": "code",
   "execution_count": null,
   "id": "fd7c9bb7-ab91-497b-bac7-be586a03c11b",
   "metadata": {},
   "outputs": [],
   "source": [
    "# concatenation between different types\n",
    "int(\"1\") + \"1\"\n",
    "\"1\" * 100"
   ]
  },
  {
   "cell_type": "code",
   "execution_count": null,
   "id": "1beaf6dd-5bdd-4233-9b63-3cf44f22b5df",
   "metadata": {},
   "outputs": [],
   "source": []
  },
  {
   "cell_type": "code",
   "execution_count": null,
   "id": "2bc6cff4-a62a-4fbf-87be-b228a45afa6a",
   "metadata": {},
   "outputs": [],
   "source": []
  },
  {
   "cell_type": "code",
   "execution_count": null,
   "id": "6eb7c86b-2a0d-4e8a-8261-1dfb8521e9ec",
   "metadata": {},
   "outputs": [],
   "source": []
  }
 ],
 "metadata": {
  "kernelspec": {
   "display_name": "Python 3 (ipykernel)",
   "language": "python",
   "name": "python3"
  },
  "language_info": {
   "codemirror_mode": {
    "name": "ipython",
    "version": 3
   },
   "file_extension": ".py",
   "mimetype": "text/x-python",
   "name": "python",
   "nbconvert_exporter": "python",
   "pygments_lexer": "ipython3",
   "version": "3.10.8"
  }
 },
 "nbformat": 4,
 "nbformat_minor": 5
}
