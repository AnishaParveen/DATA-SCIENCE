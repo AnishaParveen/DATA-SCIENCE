{
 "cells": [
  {
   "cell_type": "markdown",
   "id": "9b6bfe9b-0859-4707-8dff-a2aadd139cc2",
   "metadata": {},
   "source": [
    "# decorators"
   ]
  },
  {
   "cell_type": "code",
   "execution_count": 2,
   "id": "1a131873-3f7e-40fe-8cba-389470c3e49d",
   "metadata": {},
   "outputs": [],
   "source": [
    "def test():\n",
    "    print(\"start\")\n",
    "    print(4+5)\n",
    "    print(\"end\")"
   ]
  },
  {
   "cell_type": "code",
   "execution_count": 3,
   "id": "1aea18ea-7fb7-474f-8f87-f75f93bd606d",
   "metadata": {},
   "outputs": [
    {
     "name": "stdout",
     "output_type": "stream",
     "text": [
      "start\n",
      "9\n",
      "end\n"
     ]
    }
   ],
   "source": [
    "test()"
   ]
  },
  {
   "cell_type": "code",
   "execution_count": 11,
   "id": "f5ea00b9-b835-429a-907d-43d9e2c0f6bd",
   "metadata": {},
   "outputs": [],
   "source": [
    "#it is mainly used to decorate the function\n",
    "def deco(func):\n",
    "    def inner_deco():\n",
    "        print(\"start\")\n",
    "        func()\n",
    "        print(\"end\")\n",
    "    return inner_deco"
   ]
  },
  {
   "cell_type": "code",
   "execution_count": 12,
   "id": "a69f0515-a3e1-4563-bf5c-93a585bfcc94",
   "metadata": {},
   "outputs": [],
   "source": [
    "@deco\n",
    "def test1():\n",
    "    print(4+5)\n",
    "    "
   ]
  },
  {
   "cell_type": "code",
   "execution_count": 13,
   "id": "bbd9fe83-f1d0-4ac2-a7dc-21f0be9e7790",
   "metadata": {},
   "outputs": [
    {
     "name": "stdout",
     "output_type": "stream",
     "text": [
      "start\n",
      "9\n",
      "end\n"
     ]
    }
   ],
   "source": [
    "test1()"
   ]
  },
  {
   "cell_type": "code",
   "execution_count": 17,
   "id": "a0da1fd3-a53a-4e4b-91b2-47c2fc53960b",
   "metadata": {},
   "outputs": [],
   "source": [
    "import time\n",
    "def timer_test(func):\n",
    "    def inner_timer_test():\n",
    "        start=time.time()\n",
    "        func()\n",
    "        end=time.time()\n",
    "        print(end-start)\n",
    "    return inner_timer_test"
   ]
  },
  {
   "cell_type": "code",
   "execution_count": 19,
   "id": "210e57e5-f6f2-4899-ae94-8fadd4dc6c4d",
   "metadata": {},
   "outputs": [],
   "source": [
    "@timer_test\n",
    "def test2():\n",
    "    print(4+5)\n",
    "    "
   ]
  },
  {
   "cell_type": "code",
   "execution_count": 20,
   "id": "fb304d83-799e-47e4-ac33-3494f6fe4ff4",
   "metadata": {},
   "outputs": [
    {
     "name": "stdout",
     "output_type": "stream",
     "text": [
      "9\n",
      "5.054473876953125e-05\n"
     ]
    }
   ],
   "source": [
    "test2()"
   ]
  },
  {
   "cell_type": "code",
   "execution_count": 27,
   "id": "c7bc2a94-6455-417e-be6c-fb88662357e4",
   "metadata": {},
   "outputs": [],
   "source": [
    "@timer_test\n",
    "def test3():\n",
    "    for i in range(1000):\n",
    "        pass"
   ]
  },
  {
   "cell_type": "code",
   "execution_count": 28,
   "id": "be20e39d-eb27-4033-99d9-9c10e651286e",
   "metadata": {},
   "outputs": [
    {
     "name": "stdout",
     "output_type": "stream",
     "text": [
      "2.3603439331054688e-05\n"
     ]
    }
   ],
   "source": [
    "test3()"
   ]
  },
  {
   "cell_type": "markdown",
   "id": "7ff6f281-7840-41f3-829e-c25559283f85",
   "metadata": {},
   "source": [
    "# class method"
   ]
  },
  {
   "cell_type": "code",
   "execution_count": 57,
   "id": "d66dfb0b-dfa2-4d8c-ab1e-19eb724d9ae6",
   "metadata": {},
   "outputs": [],
   "source": [
    "class pwskills:\n",
    "    def __init__(self,name,email):\n",
    "        self.name=name\n",
    "        self.email=email\n",
    "    @classmethod  #using this way we can override init()\n",
    "    def details(cls,name1,email1):\n",
    "        return cls(name1,email1)\n",
    "    def get_details(self):\n",
    "        print(self.name,self.email)"
   ]
  },
  {
   "cell_type": "code",
   "execution_count": 60,
   "id": "989f3e51-4d1b-4684-8c71-015fe5a8709c",
   "metadata": {},
   "outputs": [],
   "source": [
    "pw1=pwskills(\"anisha\",\"sdbbwi@gmail.com\")"
   ]
  },
  {
   "cell_type": "code",
   "execution_count": 61,
   "id": "bed56d89-782d-453b-a19b-727f3bd99094",
   "metadata": {},
   "outputs": [
    {
     "name": "stdout",
     "output_type": "stream",
     "text": [
      "anisha sdbbwi@gmail.com\n"
     ]
    }
   ],
   "source": [
    "pw1.get_details()"
   ]
  },
  {
   "cell_type": "code",
   "execution_count": 62,
   "id": "937672c5-4986-4fdf-b8ea-b8d2eb6a221f",
   "metadata": {},
   "outputs": [],
   "source": [
    "pw=pwskills.details(\"tanisha\",\"sdbbfsawi@gmail.com\")"
   ]
  },
  {
   "cell_type": "code",
   "execution_count": 63,
   "id": "740d317a-ea44-4d8a-bbff-913eba349eb1",
   "metadata": {},
   "outputs": [
    {
     "name": "stdout",
     "output_type": "stream",
     "text": [
      "tanisha sdbbfsawi@gmail.com\n"
     ]
    }
   ],
   "source": [
    "pw.get_details()"
   ]
  },
  {
   "cell_type": "code",
   "execution_count": 73,
   "id": "9131484a-1643-4d86-83fb-02d58c643a4a",
   "metadata": {},
   "outputs": [],
   "source": [
    "class pwskills:\n",
    "    num=4548469\n",
    "    def __init__(self,name,email):\n",
    "        self.name=name\n",
    "        self.email=email\n",
    "        \n",
    "    @classmethod\n",
    "    def change_num(cls,num):\n",
    "        pwskills.num=num\n",
    "    @classmethod  #using this way we can override init()\n",
    "    def details(cls,name1,email1):\n",
    "        return cls(name1,email1)\n",
    "    def get_details(self):\n",
    "        print(self.name,self.email,pwskills.num)"
   ]
  },
  {
   "cell_type": "code",
   "execution_count": 74,
   "id": "7561fceb-c6ba-4c0a-bf39-6bbfd8617c24",
   "metadata": {},
   "outputs": [
    {
     "data": {
      "text/plain": [
       "4548469"
      ]
     },
     "execution_count": 74,
     "metadata": {},
     "output_type": "execute_result"
    }
   ],
   "source": [
    "pwskills.num"
   ]
  },
  {
   "cell_type": "code",
   "execution_count": 75,
   "id": "36e9bf6d-083e-4b05-9f06-69ecf43d2384",
   "metadata": {},
   "outputs": [],
   "source": [
    "pw2=pwskills.details(\"tanisha\",\"sdbbfsawi@gmail.com\")"
   ]
  },
  {
   "cell_type": "code",
   "execution_count": 76,
   "id": "eb2a1c9a-540b-4021-9e0c-a24cc2aa8bbc",
   "metadata": {},
   "outputs": [
    {
     "data": {
      "text/plain": [
       "4548469"
      ]
     },
     "execution_count": 76,
     "metadata": {},
     "output_type": "execute_result"
    }
   ],
   "source": [
    "pw2.num"
   ]
  },
  {
   "cell_type": "code",
   "execution_count": 78,
   "id": "61b9ed46-d3d1-4b9a-8302-b13d29cadb2c",
   "metadata": {},
   "outputs": [],
   "source": [
    "pw2.change_num(456)"
   ]
  },
  {
   "cell_type": "code",
   "execution_count": 79,
   "id": "cfdb4611-6096-46d6-ad2f-69dd45df2c2b",
   "metadata": {},
   "outputs": [
    {
     "data": {
      "text/plain": [
       "456"
      ]
     },
     "execution_count": 79,
     "metadata": {},
     "output_type": "execute_result"
    }
   ],
   "source": [
    "pw2.num"
   ]
  },
  {
   "cell_type": "code",
   "execution_count": 81,
   "id": "175c7e5b-04eb-4cdf-b938-54ca5f8efd4c",
   "metadata": {},
   "outputs": [],
   "source": [
    "def course(cls,name):\n",
    "    print(name)"
   ]
  },
  {
   "cell_type": "code",
   "execution_count": 84,
   "id": "a2b2f88c-2d5c-4cce-a9be-702feb39196c",
   "metadata": {},
   "outputs": [],
   "source": [
    "pwskills.course= classmethod(course)#by this process we can add external function"
   ]
  },
  {
   "cell_type": "code",
   "execution_count": 83,
   "id": "c1b27eb7-2603-49e8-82f5-17d0c1179367",
   "metadata": {},
   "outputs": [
    {
     "name": "stdout",
     "output_type": "stream",
     "text": [
      "DSM\n"
     ]
    }
   ],
   "source": [
    "pwskills.course(\"DSM\")"
   ]
  },
  {
   "cell_type": "code",
   "execution_count": 85,
   "id": "cca7bf7a-716d-4555-87e2-fea573d93413",
   "metadata": {},
   "outputs": [],
   "source": [
    "del pwskills.course"
   ]
  },
  {
   "cell_type": "markdown",
   "id": "02268aca-fa5c-43f8-962a-1d9ff59bb69b",
   "metadata": {},
   "source": [
    "# static method"
   ]
  },
  {
   "cell_type": "code",
   "execution_count": 2,
   "id": "4232ce20-743c-47e3-8fe1-6abed84655a1",
   "metadata": {},
   "outputs": [],
   "source": [
    "class PW:\n",
    "    def s_details(self,name,e_id,number):\n",
    "        print(name,e_id,number)"
   ]
  },
  {
   "cell_type": "code",
   "execution_count": 3,
   "id": "2ec9e383-e8f3-47b6-9220-83402f9de363",
   "metadata": {},
   "outputs": [],
   "source": [
    "pw1=PW()"
   ]
  },
  {
   "cell_type": "code",
   "execution_count": 4,
   "id": "6f161ce3-6467-4ca7-acf5-ba68e411be02",
   "metadata": {},
   "outputs": [
    {
     "name": "stdout",
     "output_type": "stream",
     "text": [
      "riya abc@gmail.com 547478\n"
     ]
    }
   ],
   "source": [
    "pw1.s_details(\"riya\",\"abc@gmail.com\",547478)"
   ]
  },
  {
   "cell_type": "code",
   "execution_count": 6,
   "id": "b1ddd919-9455-46fb-8e43-db0e0296adcb",
   "metadata": {},
   "outputs": [],
   "source": [
    "class PW1:\n",
    "    def s_details(self,name,e_id,number):\n",
    "        print(name,e_id,number)\n",
    "    @staticmethod\n",
    "    def mentor(list_of_mentor):\n",
    "        print(list_of_mentor)"
   ]
  },
  {
   "cell_type": "code",
   "execution_count": 7,
   "id": "0f6cef4b-0466-47da-bdf7-8f7c111448b9",
   "metadata": {},
   "outputs": [
    {
     "name": "stdout",
     "output_type": "stream",
     "text": [
      "['sudh', 'kris']\n"
     ]
    }
   ],
   "source": [
    "PW1.mentor([\"sudh\",\"kris\"])"
   ]
  },
  {
   "cell_type": "code",
   "execution_count": 8,
   "id": "0953cec0-c539-4c36-8f0a-23ec4651bb1c",
   "metadata": {},
   "outputs": [],
   "source": [
    "p=PW1()"
   ]
  },
  {
   "cell_type": "code",
   "execution_count": 9,
   "id": "e2145108-d463-4638-aa06-ae35fdeafbf9",
   "metadata": {},
   "outputs": [
    {
     "name": "stdout",
     "output_type": "stream",
     "text": [
      "['sudh', 'kris']\n"
     ]
    }
   ],
   "source": [
    "p.mentor([\"sudh\",\"kris\"])"
   ]
  },
  {
   "cell_type": "code",
   "execution_count": 10,
   "id": "b6125c2c-4465-4a96-b05e-0a741ca87ef6",
   "metadata": {},
   "outputs": [],
   "source": [
    "class pwskills1:\n",
    "    def student_details(self , name , mail_id , number) : \n",
    "        print(name , mail_id, number)\n",
    "        \n",
    "    @staticmethod\n",
    "    def mentor_mail_id(mail_id):\n",
    "        print(mail_id)\n",
    "        \n",
    "    @staticmethod\n",
    "    def mentor_class(list_mentor) : \n",
    "        print(list_mentor)\n",
    "        pwskills1.mentor_mail_id([\"krish@gmail.com\" , \"sudh@gmail.com\"])\n",
    "        \n",
    "    @classmethod\n",
    "    def class_name(cls,class_name):\n",
    "        cls.mentor_class([\"sudh\" , \"krish\"])\n",
    "        \n",
    "    def mentor(self , mentor_list) :\n",
    "        print(mentor_list)\n",
    "        self.mentor_class([\"krish\" , \"sudh\"])"
   ]
  },
  {
   "cell_type": "code",
   "execution_count": 11,
   "id": "ea7b10dd-3bb0-4a55-8ac9-c7c6b7ce2755",
   "metadata": {},
   "outputs": [],
   "source": [
    "pw1 = pwskills1()"
   ]
  },
  {
   "cell_type": "code",
   "execution_count": 12,
   "id": "99c41fa1-113d-400e-b114-8a8a90453ad8",
   "metadata": {},
   "outputs": [
    {
     "name": "stdout",
     "output_type": "stream",
     "text": [
      "mohan mohan@gmail.com 9675657657\n"
     ]
    }
   ],
   "source": [
    "pw1.student_details(\"mohan\" , \"mohan@gmail.com\" , 9675657657)"
   ]
  },
  {
   "cell_type": "code",
   "execution_count": 13,
   "id": "e005fff3-e014-4c4f-9692-367782bb6d69",
   "metadata": {},
   "outputs": [
    {
     "name": "stdout",
     "output_type": "stream",
     "text": [
      "['krish@gmail.com', 'sudh@gmail.com']\n"
     ]
    }
   ],
   "source": [
    "pw1.mentor_mail_id([\"krish@gmail.com\" , \"sudh@gmail.com\"])"
   ]
  },
  {
   "cell_type": "code",
   "execution_count": 14,
   "id": "d0638e3e-04fe-49d8-8709-f894cba0fd10",
   "metadata": {},
   "outputs": [
    {
     "name": "stdout",
     "output_type": "stream",
     "text": [
      "['sudh', 'krish']\n",
      "['krish@gmail.com', 'sudh@gmail.com']\n"
     ]
    }
   ],
   "source": [
    "pw1.class_name(\"data science masters\")"
   ]
  },
  {
   "cell_type": "code",
   "execution_count": 15,
   "id": "361470dc-4970-440f-9b1e-1cfea9bdffd2",
   "metadata": {},
   "outputs": [
    {
     "name": "stdout",
     "output_type": "stream",
     "text": [
      "['krish@gmail.com', 'sudh@gmail.com']\n"
     ]
    }
   ],
   "source": [
    "pwskills1.mentor_mail_id([\"krish@gmail.com\" , \"sudh@gmail.com\"])"
   ]
  },
  {
   "cell_type": "markdown",
   "id": "613c4543-d77f-42c7-b156-6400202527c5",
   "metadata": {},
   "source": [
    "# special(magic or dunder)"
   ]
  },
  {
   "cell_type": "code",
   "execution_count": 1,
   "id": "ca49e0c7-e1e2-4199-a867-f05510c8b939",
   "metadata": {},
   "outputs": [
    {
     "data": {
      "text/plain": [
       "['__abs__',\n",
       " '__add__',\n",
       " '__and__',\n",
       " '__bool__',\n",
       " '__ceil__',\n",
       " '__class__',\n",
       " '__delattr__',\n",
       " '__dir__',\n",
       " '__divmod__',\n",
       " '__doc__',\n",
       " '__eq__',\n",
       " '__float__',\n",
       " '__floor__',\n",
       " '__floordiv__',\n",
       " '__format__',\n",
       " '__ge__',\n",
       " '__getattribute__',\n",
       " '__getnewargs__',\n",
       " '__gt__',\n",
       " '__hash__',\n",
       " '__index__',\n",
       " '__init__',\n",
       " '__init_subclass__',\n",
       " '__int__',\n",
       " '__invert__',\n",
       " '__le__',\n",
       " '__lshift__',\n",
       " '__lt__',\n",
       " '__mod__',\n",
       " '__mul__',\n",
       " '__ne__',\n",
       " '__neg__',\n",
       " '__new__',\n",
       " '__or__',\n",
       " '__pos__',\n",
       " '__pow__',\n",
       " '__radd__',\n",
       " '__rand__',\n",
       " '__rdivmod__',\n",
       " '__reduce__',\n",
       " '__reduce_ex__',\n",
       " '__repr__',\n",
       " '__rfloordiv__',\n",
       " '__rlshift__',\n",
       " '__rmod__',\n",
       " '__rmul__',\n",
       " '__ror__',\n",
       " '__round__',\n",
       " '__rpow__',\n",
       " '__rrshift__',\n",
       " '__rshift__',\n",
       " '__rsub__',\n",
       " '__rtruediv__',\n",
       " '__rxor__',\n",
       " '__setattr__',\n",
       " '__sizeof__',\n",
       " '__str__',\n",
       " '__sub__',\n",
       " '__subclasshook__',\n",
       " '__truediv__',\n",
       " '__trunc__',\n",
       " '__xor__',\n",
       " 'as_integer_ratio',\n",
       " 'bit_count',\n",
       " 'bit_length',\n",
       " 'conjugate',\n",
       " 'denominator',\n",
       " 'from_bytes',\n",
       " 'imag',\n",
       " 'numerator',\n",
       " 'real',\n",
       " 'to_bytes']"
      ]
     },
     "execution_count": 1,
     "metadata": {},
     "output_type": "execute_result"
    }
   ],
   "source": [
    "dir(int)"
   ]
  },
  {
   "cell_type": "code",
   "execution_count": 2,
   "id": "ffd77b42-09a6-4f84-a6ff-10ae7434bbe9",
   "metadata": {},
   "outputs": [],
   "source": [
    "a=10"
   ]
  },
  {
   "cell_type": "code",
   "execution_count": 3,
   "id": "cc631abe-6956-4ec9-95e6-e133e4a2bc5f",
   "metadata": {},
   "outputs": [
    {
     "data": {
      "text/plain": [
       "16"
      ]
     },
     "execution_count": 3,
     "metadata": {},
     "output_type": "execute_result"
    }
   ],
   "source": [
    "a.__add__(6)"
   ]
  },
  {
   "cell_type": "code",
   "execution_count": 4,
   "id": "d0e9c604-7f69-48de-b53d-481cd443b0cc",
   "metadata": {},
   "outputs": [
    {
     "data": {
      "text/plain": [
       "['__add__',\n",
       " '__class__',\n",
       " '__contains__',\n",
       " '__delattr__',\n",
       " '__dir__',\n",
       " '__doc__',\n",
       " '__eq__',\n",
       " '__format__',\n",
       " '__ge__',\n",
       " '__getattribute__',\n",
       " '__getitem__',\n",
       " '__getnewargs__',\n",
       " '__gt__',\n",
       " '__hash__',\n",
       " '__init__',\n",
       " '__init_subclass__',\n",
       " '__iter__',\n",
       " '__le__',\n",
       " '__len__',\n",
       " '__lt__',\n",
       " '__mod__',\n",
       " '__mul__',\n",
       " '__ne__',\n",
       " '__new__',\n",
       " '__reduce__',\n",
       " '__reduce_ex__',\n",
       " '__repr__',\n",
       " '__rmod__',\n",
       " '__rmul__',\n",
       " '__setattr__',\n",
       " '__sizeof__',\n",
       " '__str__',\n",
       " '__subclasshook__',\n",
       " 'capitalize',\n",
       " 'casefold',\n",
       " 'center',\n",
       " 'count',\n",
       " 'encode',\n",
       " 'endswith',\n",
       " 'expandtabs',\n",
       " 'find',\n",
       " 'format',\n",
       " 'format_map',\n",
       " 'index',\n",
       " 'isalnum',\n",
       " 'isalpha',\n",
       " 'isascii',\n",
       " 'isdecimal',\n",
       " 'isdigit',\n",
       " 'isidentifier',\n",
       " 'islower',\n",
       " 'isnumeric',\n",
       " 'isprintable',\n",
       " 'isspace',\n",
       " 'istitle',\n",
       " 'isupper',\n",
       " 'join',\n",
       " 'ljust',\n",
       " 'lower',\n",
       " 'lstrip',\n",
       " 'maketrans',\n",
       " 'partition',\n",
       " 'removeprefix',\n",
       " 'removesuffix',\n",
       " 'replace',\n",
       " 'rfind',\n",
       " 'rindex',\n",
       " 'rjust',\n",
       " 'rpartition',\n",
       " 'rsplit',\n",
       " 'rstrip',\n",
       " 'split',\n",
       " 'splitlines',\n",
       " 'startswith',\n",
       " 'strip',\n",
       " 'swapcase',\n",
       " 'title',\n",
       " 'translate',\n",
       " 'upper',\n",
       " 'zfill']"
      ]
     },
     "execution_count": 4,
     "metadata": {},
     "output_type": "execute_result"
    }
   ],
   "source": [
    "dir(str)"
   ]
  },
  {
   "cell_type": "code",
   "execution_count": 11,
   "id": "ff290145-7704-48bb-a8b1-2a9215b24335",
   "metadata": {},
   "outputs": [],
   "source": [
    "class pw:\n",
    "    \n",
    "    def __init__(self):\n",
    "        print(\"init\")"
   ]
  },
  {
   "cell_type": "code",
   "execution_count": 12,
   "id": "a0d8faef-9675-462b-b528-f1671b1d456d",
   "metadata": {},
   "outputs": [
    {
     "name": "stdout",
     "output_type": "stream",
     "text": [
      "init\n"
     ]
    }
   ],
   "source": [
    "p1=pw()"
   ]
  },
  {
   "cell_type": "code",
   "execution_count": 8,
   "id": "1a1716ba-1e61-46da-941c-cfe54a9a9fab",
   "metadata": {},
   "outputs": [],
   "source": [
    "class pw:\n",
    "    def __new__(cls):\n",
    "        print(\"my new\")\n",
    "    def __init__(self):\n",
    "        print(\"init\")"
   ]
  },
  {
   "cell_type": "code",
   "execution_count": 10,
   "id": "4c9e9a34-6f67-4af3-8020-b3a7bca6c053",
   "metadata": {},
   "outputs": [
    {
     "name": "stdout",
     "output_type": "stream",
     "text": [
      "my new\n"
     ]
    }
   ],
   "source": [
    "p2=pw()"
   ]
  },
  {
   "cell_type": "code",
   "execution_count": 13,
   "id": "37713d56-dcb8-439d-b2f9-756e3bb161db",
   "metadata": {},
   "outputs": [
    {
     "data": {
      "text/plain": [
       "['__class__',\n",
       " '__class_getitem__',\n",
       " '__contains__',\n",
       " '__delattr__',\n",
       " '__delitem__',\n",
       " '__dir__',\n",
       " '__doc__',\n",
       " '__eq__',\n",
       " '__format__',\n",
       " '__ge__',\n",
       " '__getattribute__',\n",
       " '__getitem__',\n",
       " '__gt__',\n",
       " '__hash__',\n",
       " '__init__',\n",
       " '__init_subclass__',\n",
       " '__ior__',\n",
       " '__iter__',\n",
       " '__le__',\n",
       " '__len__',\n",
       " '__lt__',\n",
       " '__ne__',\n",
       " '__new__',\n",
       " '__or__',\n",
       " '__reduce__',\n",
       " '__reduce_ex__',\n",
       " '__repr__',\n",
       " '__reversed__',\n",
       " '__ror__',\n",
       " '__setattr__',\n",
       " '__setitem__',\n",
       " '__sizeof__',\n",
       " '__str__',\n",
       " '__subclasshook__',\n",
       " 'clear',\n",
       " 'copy',\n",
       " 'fromkeys',\n",
       " 'get',\n",
       " 'items',\n",
       " 'keys',\n",
       " 'pop',\n",
       " 'popitem',\n",
       " 'setdefault',\n",
       " 'update',\n",
       " 'values']"
      ]
     },
     "execution_count": 13,
     "metadata": {},
     "output_type": "execute_result"
    }
   ],
   "source": [
    "dir(dict)"
   ]
  },
  {
   "cell_type": "code",
   "execution_count": 14,
   "id": "0b9cae0e-884b-42d6-86a3-9187f3208a8a",
   "metadata": {},
   "outputs": [
    {
     "data": {
      "text/plain": [
       "['__add__',\n",
       " '__class__',\n",
       " '__class_getitem__',\n",
       " '__contains__',\n",
       " '__delattr__',\n",
       " '__dir__',\n",
       " '__doc__',\n",
       " '__eq__',\n",
       " '__format__',\n",
       " '__ge__',\n",
       " '__getattribute__',\n",
       " '__getitem__',\n",
       " '__getnewargs__',\n",
       " '__gt__',\n",
       " '__hash__',\n",
       " '__init__',\n",
       " '__init_subclass__',\n",
       " '__iter__',\n",
       " '__le__',\n",
       " '__len__',\n",
       " '__lt__',\n",
       " '__mul__',\n",
       " '__ne__',\n",
       " '__new__',\n",
       " '__reduce__',\n",
       " '__reduce_ex__',\n",
       " '__repr__',\n",
       " '__rmul__',\n",
       " '__setattr__',\n",
       " '__sizeof__',\n",
       " '__str__',\n",
       " '__subclasshook__',\n",
       " 'count',\n",
       " 'index']"
      ]
     },
     "execution_count": 14,
     "metadata": {},
     "output_type": "execute_result"
    }
   ],
   "source": [
    "dir(tuple)"
   ]
  },
  {
   "cell_type": "markdown",
   "id": "e08b7d13-b371-4ae9-87a5-e45ec216c68f",
   "metadata": {},
   "source": [
    "### property decorator ,getter setter and delete"
   ]
  },
  {
   "cell_type": "code",
   "execution_count": 23,
   "id": "fc37abd9-a693-4846-9799-f0d4612d1523",
   "metadata": {},
   "outputs": [],
   "source": [
    "class pwskills:\n",
    "    def __init__(self,course_price,name):\n",
    "        self.__course_price=course_price\n",
    "        self.name=name\n",
    "    @property\n",
    "    def course_price_access(self):\n",
    "        return self.__course_price\n",
    "    @course_price_access.setter\n",
    "    def  course_price_set(self,price):\n",
    "        if price<=3500:\n",
    "            pass\n",
    "        else:\n",
    "            self.__course_price=price\n",
    "    @course_price_access.deleter\n",
    "    def course_price_del(self):\n",
    "        del self.__course_price_del\n",
    "    "
   ]
  },
  {
   "cell_type": "code",
   "execution_count": 24,
   "id": "915ea60e-f59a-4d4b-b8ce-e87b019fb417",
   "metadata": {},
   "outputs": [],
   "source": [
    "pw=pwskills(3500,\"DSM\")"
   ]
  },
  {
   "cell_type": "code",
   "execution_count": 17,
   "id": "22ec4e0e-aa1e-424a-89f8-c641bf04fd2f",
   "metadata": {},
   "outputs": [
    {
     "data": {
      "text/plain": [
       "3500"
      ]
     },
     "execution_count": 17,
     "metadata": {},
     "output_type": "execute_result"
    }
   ],
   "source": [
    "pw.course_price_access"
   ]
  },
  {
   "cell_type": "code",
   "execution_count": 26,
   "id": "898fa4a4-e93c-44d7-9da8-d7f97d8f272b",
   "metadata": {},
   "outputs": [],
   "source": [
    "pw.course_price_set=4500"
   ]
  },
  {
   "cell_type": "code",
   "execution_count": 21,
   "id": "081ad664-973d-40df-adbe-04c966317877",
   "metadata": {},
   "outputs": [
    {
     "data": {
      "text/plain": [
       "4500"
      ]
     },
     "execution_count": 21,
     "metadata": {},
     "output_type": "execute_result"
    }
   ],
   "source": [
    "pw.course_price_access"
   ]
  },
  {
   "cell_type": "code",
   "execution_count": 32,
   "id": "2abbb70d-18af-4513-a793-a14adab18971",
   "metadata": {},
   "outputs": [
    {
     "ename": "AttributeError",
     "evalue": "_pwskills__course_price_del",
     "output_type": "error",
     "traceback": [
      "\u001b[0;31m---------------------------------------------------------------------------\u001b[0m",
      "\u001b[0;31mAttributeError\u001b[0m                            Traceback (most recent call last)",
      "Cell \u001b[0;32mIn[32], line 1\u001b[0m\n\u001b[0;32m----> 1\u001b[0m \u001b[38;5;28;01mdel\u001b[39;00m pw\u001b[38;5;241m.\u001b[39mcourse_price_del\n",
      "Cell \u001b[0;32mIn[23], line 16\u001b[0m, in \u001b[0;36mpwskills.course_price_del\u001b[0;34m(self)\u001b[0m\n\u001b[1;32m     14\u001b[0m \u001b[38;5;129m@course_price_access\u001b[39m\u001b[38;5;241m.\u001b[39mdeleter\n\u001b[1;32m     15\u001b[0m \u001b[38;5;28;01mdef\u001b[39;00m \u001b[38;5;21mcourse_price_del\u001b[39m(\u001b[38;5;28mself\u001b[39m):\n\u001b[0;32m---> 16\u001b[0m     \u001b[38;5;28;01mdel\u001b[39;00m \u001b[38;5;28mself\u001b[39m\u001b[38;5;241m.\u001b[39m__course_price_del\n",
      "\u001b[0;31mAttributeError\u001b[0m: _pwskills__course_price_del"
     ]
    }
   ],
   "source": [
    "del pw.course_price_del"
   ]
  },
  {
   "cell_type": "code",
   "execution_count": null,
   "id": "cec9c34a-98e0-43b1-b640-98b9b35e0c96",
   "metadata": {},
   "outputs": [],
   "source": []
  }
 ],
 "metadata": {
  "kernelspec": {
   "display_name": "Python 3 (ipykernel)",
   "language": "python",
   "name": "python3"
  },
  "language_info": {
   "codemirror_mode": {
    "name": "ipython",
    "version": 3
   },
   "file_extension": ".py",
   "mimetype": "text/x-python",
   "name": "python",
   "nbconvert_exporter": "python",
   "pygments_lexer": "ipython3",
   "version": "3.10.8"
  }
 },
 "nbformat": 4,
 "nbformat_minor": 5
}
