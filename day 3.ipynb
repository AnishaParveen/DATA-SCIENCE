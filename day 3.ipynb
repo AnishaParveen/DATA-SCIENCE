{
 "cells": [
  {
   "cell_type": "raw",
   "id": "b9f0430e-6074-4be7-a66e-82b169aef30d",
   "metadata": {},
   "source": [
    "##logical operator\n",
    "1.and\n",
    "2.or\n",
    "3.not(it is a boolean operator it returns true\\false)\n"
   ]
  },
  {
   "cell_type": "code",
   "execution_count": 4,
   "id": "ea49bf34-56e9-498d-8a05-807d1502533c",
   "metadata": {},
   "outputs": [
    {
     "data": {
      "text/plain": [
       "False"
      ]
     },
     "execution_count": 4,
     "metadata": {},
     "output_type": "execute_result"
    }
   ],
   "source": [
    "True and False"
   ]
  },
  {
   "cell_type": "code",
   "execution_count": 5,
   "id": "36901721-20ff-45a0-a2cc-36f117d55a79",
   "metadata": {},
   "outputs": [
    {
     "data": {
      "text/plain": [
       "True"
      ]
     },
     "execution_count": 5,
     "metadata": {},
     "output_type": "execute_result"
    }
   ],
   "source": [
    "True or False"
   ]
  },
  {
   "cell_type": "code",
   "execution_count": 6,
   "id": "d3572f64-4f6d-4a36-b7d6-b688ea329cff",
   "metadata": {},
   "outputs": [
    {
     "data": {
      "text/plain": [
       "False"
      ]
     },
     "execution_count": 6,
     "metadata": {},
     "output_type": "execute_result"
    }
   ],
   "source": [
    "not True"
   ]
  },
  {
   "cell_type": "code",
   "execution_count": 7,
   "id": "ad4a8279-cf3e-4bb7-b514-1bab2c3b24f8",
   "metadata": {},
   "outputs": [
    {
     "data": {
      "text/plain": [
       "False"
      ]
     },
     "execution_count": 7,
     "metadata": {},
     "output_type": "execute_result"
    }
   ],
   "source": [
    "not int(True)"
   ]
  },
  {
   "cell_type": "code",
   "execution_count": null,
   "id": "cf09a171-4071-4336-b4b2-a3480a27d7ce",
   "metadata": {},
   "outputs": [],
   "source": [
    "#other than 0 every int +ve or -ve returns true\n",
    "bool(-5)\n"
   ]
  },
  {
   "cell_type": "code",
   "execution_count": 8,
   "id": "451dc63b-a089-4394-b131-e9f76b7f393a",
   "metadata": {},
   "outputs": [
    {
     "data": {
      "text/plain": [
       "True"
      ]
     },
     "execution_count": 8,
     "metadata": {},
     "output_type": "execute_result"
    }
   ],
   "source": [
    "not False * False\n",
    "#as here first False * False exe. first then not so, not(0*0) =1"
   ]
  },
  {
   "cell_type": "code",
   "execution_count": 9,
   "id": "40c37ae8-0bdb-4092-b698-b7f55f8b4594",
   "metadata": {},
   "outputs": [
    {
     "data": {
      "text/plain": [
       "0"
      ]
     },
     "execution_count": 9,
     "metadata": {},
     "output_type": "execute_result"
    }
   ],
   "source": [
    "(not False) * False\n",
    "#(true)* false =0"
   ]
  },
  {
   "cell_type": "code",
   "execution_count": 10,
   "id": "68fe9d1c-2af3-4866-958b-1eba16ebb944",
   "metadata": {},
   "outputs": [
    {
     "name": "stdout",
     "output_type": "stream",
     "text": [
      "140506975886592\n",
      "140506971768768\n"
     ]
    }
   ],
   "source": [
    "#id() returns memory addresses\n",
    "lst_a=[1,2,3,4]\n",
    "lst_b=[1,2,3,4]\n",
    "print(id(lst_a))\n",
    "print(id(lst_b))"
   ]
  },
  {
   "cell_type": "code",
   "execution_count": 14,
   "id": "0247da9b-8ef9-4b9d-8edb-c034481fce07",
   "metadata": {},
   "outputs": [
    {
     "name": "stdout",
     "output_type": "stream",
     "text": [
      "140507059896592\n",
      "140507059896592\n"
     ]
    }
   ],
   "source": [
    "a=2\n",
    "b=2\n",
    "print(id(a))\n",
    "print(id(b))\n",
    "#both are same beacuse values are same"
   ]
  },
  {
   "cell_type": "code",
   "execution_count": 15,
   "id": "32a3dade-d51c-4a79-ae81-a09647168324",
   "metadata": {},
   "outputs": [
    {
     "name": "stdout",
     "output_type": "stream",
     "text": [
      "140506971813680\n",
      "140506971813680\n"
     ]
    }
   ],
   "source": [
    "a=\"hehe\"\n",
    "b=\"hehe\"\n",
    "print(id(a))\n",
    "print(id(b))"
   ]
  },
  {
   "cell_type": "code",
   "execution_count": 11,
   "id": "a41888fd-0ae3-40b2-ac91-be50e8de9f89",
   "metadata": {},
   "outputs": [
    {
     "data": {
      "text/plain": [
       "False"
      ]
     },
     "execution_count": 11,
     "metadata": {},
     "output_type": "execute_result"
    }
   ],
   "source": [
    "#it checks the memory address is same or not\n",
    "lst_a is lst_b"
   ]
  },
  {
   "cell_type": "code",
   "execution_count": 12,
   "id": "28efa429-93ad-4b31-a2d4-a31753ae6d0e",
   "metadata": {},
   "outputs": [
    {
     "data": {
      "text/plain": [
       "True"
      ]
     },
     "execution_count": 12,
     "metadata": {},
     "output_type": "execute_result"
    }
   ],
   "source": [
    "lst_a is not lst_b"
   ]
  },
  {
   "cell_type": "code",
   "execution_count": 13,
   "id": "344b444f-ac14-4169-b4f7-bc41891b9a80",
   "metadata": {},
   "outputs": [
    {
     "data": {
      "text/plain": [
       "True"
      ]
     },
     "execution_count": 13,
     "metadata": {},
     "output_type": "execute_result"
    }
   ],
   "source": [
    "#it checks the values  are same or not\n",
    "lst_a == lst_b"
   ]
  },
  {
   "cell_type": "code",
   "execution_count": null,
   "id": "22a5cf47-3001-4765-b4af-917d275b5cfd",
   "metadata": {},
   "outputs": [],
   "source": [
    "lst_a != lst_b"
   ]
  },
  {
   "cell_type": "code",
   "execution_count": 18,
   "id": "a0b4b30e-40f6-4087-894f-9f3dea47a075",
   "metadata": {},
   "outputs": [
    {
     "data": {
      "text/plain": [
       "'a'"
      ]
     },
     "execution_count": 18,
     "metadata": {},
     "output_type": "execute_result"
    }
   ],
   "source": [
    "str1=\"anisha\"\n",
    "str1[0]\n",
    "#str1[0]=\"t\" we can't do it because string is immutable "
   ]
  },
  {
   "cell_type": "code",
   "execution_count": 20,
   "id": "f70a9749-f4ef-471c-bb41-a351b2c2149f",
   "metadata": {},
   "outputs": [
    {
     "data": {
      "text/plain": [
       "5.2"
      ]
     },
     "execution_count": 20,
     "metadata": {},
     "output_type": "execute_result"
    }
   ],
   "source": [
    "a=26\n",
    "b=5\n",
    "a/b"
   ]
  },
  {
   "cell_type": "code",
   "execution_count": 21,
   "id": "f5a2bd1b-6ad0-4e8e-a81e-5e551c95ffe5",
   "metadata": {},
   "outputs": [
    {
     "data": {
      "text/plain": [
       "5"
      ]
     },
     "execution_count": 21,
     "metadata": {},
     "output_type": "execute_result"
    }
   ],
   "source": [
    "a//b"
   ]
  },
  {
   "cell_type": "raw",
   "id": "444553a5-7daa-4f5b-b223-44127f71d590",
   "metadata": {},
   "source": [
    "bitwise operator\n",
    "~ complement\n",
    ">> divide by 2\n",
    "<< multiply by 2\n",
    "& and operation \n",
    "| or operation\n"
   ]
  },
  {
   "cell_type": "code",
   "execution_count": 23,
   "id": "55204bd2-8344-4e30-a838-3519ff36b330",
   "metadata": {},
   "outputs": [
    {
     "data": {
      "text/plain": [
       "-3"
      ]
     },
     "execution_count": 23,
     "metadata": {},
     "output_type": "execute_result"
    }
   ],
   "source": [
    "a=2\n",
    "bin(a)\n",
    "~a\n",
    "\"\"\" 2=0010\n",
    "    -2=1010\n",
    "       1010+1\n",
    "       1011=-3\n",
    "\"\"\""
   ]
  },
  {
   "cell_type": "code",
   "execution_count": 24,
   "id": "b3387b9f-33c4-494f-b076-940da83eb82a",
   "metadata": {},
   "outputs": [
    {
     "data": {
      "text/plain": [
       "5"
      ]
     },
     "execution_count": 24,
     "metadata": {},
     "output_type": "execute_result"
    }
   ],
   "source": [
    "a=10\n",
    "a>>1"
   ]
  },
  {
   "cell_type": "code",
   "execution_count": 25,
   "id": "6256d35d-02e5-4e08-8340-405b60cf3862",
   "metadata": {},
   "outputs": [
    {
     "data": {
      "text/plain": [
       "20"
      ]
     },
     "execution_count": 25,
     "metadata": {},
     "output_type": "execute_result"
    }
   ],
   "source": [
    "a<<1"
   ]
  },
  {
   "cell_type": "markdown",
   "id": "a458c43e-b57e-4023-955a-a9454153f296",
   "metadata": {},
   "source": [
    "******strings*******"
   ]
  },
  {
   "cell_type": "markdown",
   "id": "d1e46f44-61f0-4aaa-b7ae-a187bcc9049e",
   "metadata": {},
   "source": [
    "list is mutable but string is not\n"
   ]
  },
  {
   "cell_type": "code",
   "execution_count": 26,
   "id": "090f5cf9-2d3d-40e7-8e18-7dfd2e04e543",
   "metadata": {},
   "outputs": [
    {
     "data": {
      "text/plain": [
       "'o'"
      ]
     },
     "execution_count": 26,
     "metadata": {},
     "output_type": "execute_result"
    }
   ],
   "source": [
    "str1=\"hello world\"\n",
    "str1[4]"
   ]
  },
  {
   "cell_type": "code",
   "execution_count": 27,
   "id": "3bd05cce-2e6a-4523-8a77-8ccca2c39131",
   "metadata": {},
   "outputs": [
    {
     "data": {
      "text/plain": [
       "'o worl'"
      ]
     },
     "execution_count": 27,
     "metadata": {},
     "output_type": "execute_result"
    }
   ],
   "source": [
    "#slice operation\n",
    "str1[4:10]"
   ]
  },
  {
   "cell_type": "code",
   "execution_count": 28,
   "id": "ab6a1ecc-c558-428b-a173-0244258275a6",
   "metadata": {},
   "outputs": [
    {
     "data": {
      "text/plain": [
       "'d'"
      ]
     },
     "execution_count": 28,
     "metadata": {},
     "output_type": "execute_result"
    }
   ],
   "source": [
    "#last word\n",
    "str1[-1]"
   ]
  },
  {
   "cell_type": "code",
   "execution_count": 31,
   "id": "778b0311-d5ed-42cd-b675-6f69d5535cea",
   "metadata": {},
   "outputs": [
    {
     "data": {
      "text/plain": [
       "'orl'"
      ]
     },
     "execution_count": 31,
     "metadata": {},
     "output_type": "execute_result"
    }
   ],
   "source": [
    "str1[-4:-1]"
   ]
  },
  {
   "cell_type": "code",
   "execution_count": 32,
   "id": "69e0e78b-849c-4abc-8794-f63f05f5eb6a",
   "metadata": {},
   "outputs": [
    {
     "data": {
      "text/plain": [
       "'hello world'"
      ]
     },
     "execution_count": 32,
     "metadata": {},
     "output_type": "execute_result"
    }
   ],
   "source": [
    "str1[0::]"
   ]
  },
  {
   "cell_type": "code",
   "execution_count": 33,
   "id": "4251f442-50fe-49b1-af11-e537676fda59",
   "metadata": {},
   "outputs": [
    {
     "data": {
      "text/plain": [
       "'dlrow olleh'"
      ]
     },
     "execution_count": 33,
     "metadata": {},
     "output_type": "execute_result"
    }
   ],
   "source": [
    "#reverse string\n",
    "str1[::-1]"
   ]
  },
  {
   "cell_type": "code",
   "execution_count": 34,
   "id": "82876745-5313-46ca-bd65-2f58905cee3e",
   "metadata": {},
   "outputs": [
    {
     "data": {
      "text/plain": [
       "'hlowrd'"
      ]
     },
     "execution_count": 34,
     "metadata": {},
     "output_type": "execute_result"
    }
   ],
   "source": [
    "str1[::2]\n",
    "# here 2 is step size"
   ]
  },
  {
   "cell_type": "code",
   "execution_count": 35,
   "id": "6ab66b33-97c1-4c4b-b13a-2d0a5b184c6e",
   "metadata": {},
   "outputs": [
    {
     "data": {
      "text/plain": [
       "'science'"
      ]
     },
     "execution_count": 35,
     "metadata": {},
     "output_type": "execute_result"
    }
   ],
   "source": [
    "course=\"data science masters\"\n",
    "course[5:12]"
   ]
  },
  {
   "cell_type": "code",
   "execution_count": 41,
   "id": "f39cf686-097b-4f7e-a0e9-01935bc6a3b5",
   "metadata": {},
   "outputs": [
    {
     "data": {
      "text/plain": [
       "'ecneics'"
      ]
     },
     "execution_count": 41,
     "metadata": {},
     "output_type": "execute_result"
    }
   ],
   "source": [
    "course[11:4:-1]"
   ]
  },
  {
   "cell_type": "code",
   "execution_count": 65,
   "id": "d69f52ed-d703-4ddb-8926-ff523c120dcd",
   "metadata": {},
   "outputs": [
    {
     "data": {
      "text/plain": [
       "'Hello How Are Youbye'"
      ]
     },
     "execution_count": 65,
     "metadata": {},
     "output_type": "execute_result"
    }
   ],
   "source": [
    "#******concatination*******\n",
    "str1=\"Hello How Are You\"\n",
    "str2=\"bye\"\n",
    "str1+str2"
   ]
  },
  {
   "cell_type": "code",
   "execution_count": 43,
   "id": "ddd4652e-0eff-4f25-a547-73088e498e9b",
   "metadata": {},
   "outputs": [
    {
     "data": {
      "text/plain": [
       "'hellohellohellohellohello'"
      ]
     },
     "execution_count": 43,
     "metadata": {},
     "output_type": "execute_result"
    }
   ],
   "source": [
    "str1 *5"
   ]
  },
  {
   "cell_type": "code",
   "execution_count": 44,
   "id": "03dd046c-8a69-4db6-ac04-3349d68dc055",
   "metadata": {},
   "outputs": [
    {
     "data": {
      "text/plain": [
       "5"
      ]
     },
     "execution_count": 44,
     "metadata": {},
     "output_type": "execute_result"
    }
   ],
   "source": [
    "#returns the length of the string\n",
    "len(str1)"
   ]
  },
  {
   "cell_type": "code",
   "execution_count": 47,
   "id": "2bd4f4df-6887-4eae-aa2b-d8853c193dca",
   "metadata": {},
   "outputs": [
    {
     "data": {
      "text/plain": [
       "2"
      ]
     },
     "execution_count": 47,
     "metadata": {},
     "output_type": "execute_result"
    }
   ],
   "source": [
    "str1.find(\"l\")"
   ]
  },
  {
   "cell_type": "code",
   "execution_count": 48,
   "id": "faaa2424-5003-4be6-973c-66b0c719e45f",
   "metadata": {},
   "outputs": [
    {
     "data": {
      "text/plain": [
       "-1"
      ]
     },
     "execution_count": 48,
     "metadata": {},
     "output_type": "execute_result"
    }
   ],
   "source": [
    "#first which is to find then start then end\n",
    "str1.find(\"o\",0,3)"
   ]
  },
  {
   "cell_type": "code",
   "execution_count": 50,
   "id": "ae279b76-f325-45c2-8ebe-43e024a7f3fd",
   "metadata": {},
   "outputs": [
    {
     "data": {
      "text/plain": [
       "2"
      ]
     },
     "execution_count": 50,
     "metadata": {},
     "output_type": "execute_result"
    }
   ],
   "source": [
    "#count the occurance of the word\n",
    "str1.count(\"l\")"
   ]
  },
  {
   "cell_type": "code",
   "execution_count": 51,
   "id": "9f56be24-91c4-4d8d-970e-db5eab0be7bc",
   "metadata": {},
   "outputs": [
    {
     "data": {
      "text/plain": [
       "2"
      ]
     },
     "execution_count": 51,
     "metadata": {},
     "output_type": "execute_result"
    }
   ],
   "source": [
    "#first which is to cpunt then start then end\n",
    "str1.count(\"l\",1,5)"
   ]
  },
  {
   "cell_type": "code",
   "execution_count": null,
   "id": "789951f9-6e34-4fed-a217-eefb19af0b7d",
   "metadata": {},
   "outputs": [],
   "source": [
    "#****string split function*****"
   ]
  },
  {
   "cell_type": "code",
   "execution_count": 54,
   "id": "6d0824a8-4c65-485f-b1ae-e3ae66ef1fb5",
   "metadata": {},
   "outputs": [
    {
     "data": {
      "text/plain": [
       "['hello', 'how', 'are', 'you']"
      ]
     },
     "execution_count": 54,
     "metadata": {},
     "output_type": "execute_result"
    }
   ],
   "source": [
    "str1.split(' ')"
   ]
  },
  {
   "cell_type": "code",
   "execution_count": 57,
   "id": "a04effce-2fbc-4124-b135-255cbab4af4f",
   "metadata": {},
   "outputs": [
    {
     "data": {
      "text/plain": [
       "['hello how are ', '']"
      ]
     },
     "execution_count": 57,
     "metadata": {},
     "output_type": "execute_result"
    }
   ],
   "source": [
    "str1.split('you')"
   ]
  },
  {
   "cell_type": "code",
   "execution_count": 58,
   "id": "9aea2263-50d2-413c-b283-a2061d4b9707",
   "metadata": {},
   "outputs": [
    {
     "data": {
      "text/plain": [
       "['', 'ello ', 'ow are you']"
      ]
     },
     "execution_count": 58,
     "metadata": {},
     "output_type": "execute_result"
    }
   ],
   "source": [
    "str1.split('h')"
   ]
  },
  {
   "cell_type": "code",
   "execution_count": 60,
   "id": "f805851e-6e95-4b51-8c19-63f33a0fd978",
   "metadata": {},
   "outputs": [
    {
     "data": {
      "text/plain": [
       "('hell', 'o', ' how are you')"
      ]
     },
     "execution_count": 60,
     "metadata": {},
     "output_type": "execute_result"
    }
   ],
   "source": [
    "str1.partition('o')"
   ]
  },
  {
   "cell_type": "code",
   "execution_count": 62,
   "id": "98f20031-e52a-4346-bb4f-11190eeeeb47",
   "metadata": {},
   "outputs": [
    {
     "data": {
      "text/plain": [
       "'HELLO HOW ARE YOU'"
      ]
     },
     "execution_count": 62,
     "metadata": {},
     "output_type": "execute_result"
    }
   ],
   "source": [
    "str1.upper()"
   ]
  },
  {
   "cell_type": "code",
   "execution_count": 63,
   "id": "8b390121-26c9-47a5-9608-94123bfc4f94",
   "metadata": {},
   "outputs": [
    {
     "data": {
      "text/plain": [
       "'hello how are you'"
      ]
     },
     "execution_count": 63,
     "metadata": {},
     "output_type": "execute_result"
    }
   ],
   "source": [
    "str1.lower()"
   ]
  },
  {
   "cell_type": "code",
   "execution_count": 66,
   "id": "4d974152-72f1-4ca5-b65b-53b6cde81a0f",
   "metadata": {},
   "outputs": [
    {
     "data": {
      "text/plain": [
       "'hELLO hOW aRE yOU'"
      ]
     },
     "execution_count": 66,
     "metadata": {},
     "output_type": "execute_result"
    }
   ],
   "source": [
    "str1.swapcase()"
   ]
  },
  {
   "cell_type": "code",
   "execution_count": 67,
   "id": "5053917f-fea3-4de1-9a4a-2c6ac9dd7ed9",
   "metadata": {},
   "outputs": [
    {
     "data": {
      "text/plain": [
       "'Bye'"
      ]
     },
     "execution_count": 67,
     "metadata": {},
     "output_type": "execute_result"
    }
   ],
   "source": [
    "str2.title()"
   ]
  },
  {
   "cell_type": "code",
   "execution_count": null,
   "id": "7a7c73d5-1d57-437d-97c7-2d5ca00d8b3b",
   "metadata": {},
   "outputs": [],
   "source": []
  }
 ],
 "metadata": {
  "kernelspec": {
   "display_name": "Python 3 (ipykernel)",
   "language": "python",
   "name": "python3"
  },
  "language_info": {
   "codemirror_mode": {
    "name": "ipython",
    "version": 3
   },
   "file_extension": ".py",
   "mimetype": "text/x-python",
   "name": "python",
   "nbconvert_exporter": "python",
   "pygments_lexer": "ipython3",
   "version": "3.10.8"
  }
 },
 "nbformat": 4,
 "nbformat_minor": 5
}
