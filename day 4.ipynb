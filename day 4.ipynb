{
 "cells": [
  {
   "cell_type": "code",
   "execution_count": 2,
   "id": "d2ef8d24-c1fa-4859-9f39-b205e1eb01c3",
   "metadata": {},
   "outputs": [],
   "source": [
    "name=\"data science masters\""
   ]
  },
  {
   "cell_type": "code",
   "execution_count": 3,
   "id": "f7ce636e-f760-4c88-99a3-c4a0c19899ad",
   "metadata": {},
   "outputs": [
    {
     "data": {
      "text/plain": [
       "'Data Science Masters'"
      ]
     },
     "execution_count": 3,
     "metadata": {},
     "output_type": "execute_result"
    }
   ],
   "source": [
    "name.title()"
   ]
  },
  {
   "cell_type": "code",
   "execution_count": 5,
   "id": "51a42216-88dc-4b04-b609-41134e4c8f2a",
   "metadata": {},
   "outputs": [
    {
     "data": {
      "text/plain": [
       "'Data science masters'"
      ]
     },
     "execution_count": 5,
     "metadata": {},
     "output_type": "execute_result"
    }
   ],
   "source": [
    "name.capitalize()"
   ]
  },
  {
   "cell_type": "raw",
   "id": "f0942e10-91ee-42fe-8e96-484f4b5592d3",
   "metadata": {},
   "source": [
    "reversing the string"
   ]
  },
  {
   "cell_type": "code",
   "execution_count": 15,
   "id": "ceb7588d-aced-40f7-8354-48bb6a18279c",
   "metadata": {},
   "outputs": [
    {
     "name": "stdout",
     "output_type": "stream",
     "text": [
      "sretsam ecneics atad"
     ]
    }
   ],
   "source": [
    "for i in list(reversed(name)):\n",
    "    print(i,end=\"\")"
   ]
  },
  {
   "cell_type": "code",
   "execution_count": 8,
   "id": "d98fe2b5-47bd-4146-bb01-51c01162aaa6",
   "metadata": {},
   "outputs": [
    {
     "data": {
      "text/plain": [
       "'a b c d'"
      ]
     },
     "execution_count": 8,
     "metadata": {},
     "output_type": "execute_result"
    }
   ],
   "source": [
    "\" \".join(\"abcd\")"
   ]
  },
  {
   "cell_type": "code",
   "execution_count": 9,
   "id": "cf41d942-0edf-4742-a903-8799875f8017",
   "metadata": {},
   "outputs": [
    {
     "data": {
      "text/plain": [
       "'d c b a'"
      ]
     },
     "execution_count": 9,
     "metadata": {},
     "output_type": "execute_result"
    }
   ],
   "source": [
    "\" \".join(reversed(\"abcd\"))"
   ]
  },
  {
   "cell_type": "code",
   "execution_count": 10,
   "id": "5df2e4fa-bafb-4010-b63e-26bdb8e5eb58",
   "metadata": {},
   "outputs": [
    {
     "data": {
      "text/plain": [
       "'h?o?w? ?a?r?e? ?y?o?u'"
      ]
     },
     "execution_count": 10,
     "metadata": {},
     "output_type": "execute_result"
    }
   ],
   "source": [
    "str1=\"how are you\"\n",
    "\"?\".join(str1)"
   ]
  },
  {
   "cell_type": "code",
   "execution_count": 22,
   "id": "03fd7c3b-cea6-45fa-910d-5928dc4c19ba",
   "metadata": {},
   "outputs": [
    {
     "data": {
      "text/plain": [
       "'how are you'"
      ]
     },
     "execution_count": 22,
     "metadata": {},
     "output_type": "execute_result"
    }
   ],
   "source": [
    "str1.strip(\" \")"
   ]
  },
  {
   "cell_type": "code",
   "execution_count": 17,
   "id": "f15f02b2-b9d7-405a-9e12-705aeb9d46e2",
   "metadata": {},
   "outputs": [
    {
     "data": {
      "text/plain": [
       "'how are you'"
      ]
     },
     "execution_count": 17,
     "metadata": {},
     "output_type": "execute_result"
    }
   ],
   "source": [
    "str1.lstrip(\" \")"
   ]
  },
  {
   "cell_type": "code",
   "execution_count": 23,
   "id": "d8252488-0614-4b18-a97c-1b0df5ded957",
   "metadata": {},
   "outputs": [
    {
     "data": {
      "text/plain": [
       "'how are you'"
      ]
     },
     "execution_count": 23,
     "metadata": {},
     "output_type": "execute_result"
    }
   ],
   "source": [
    "str1.rstrip(\" \")"
   ]
  },
  {
   "cell_type": "code",
   "execution_count": 21,
   "id": "6b0558ba-783a-4965-868b-38ff747b0d60",
   "metadata": {},
   "outputs": [
    {
     "data": {
      "text/plain": [
       "'greetings to pwskills'"
      ]
     },
     "execution_count": 21,
     "metadata": {},
     "output_type": "execute_result"
    }
   ],
   "source": [
    "new=\"greetings from pwskills\"\n",
    "new.replace(\"from\",\"to\") #in string we can't assign but we can replace ."
   ]
  },
  {
   "cell_type": "code",
   "execution_count": 25,
   "id": "81f0d7db-3ffd-4f1d-8330-6f673a733a71",
   "metadata": {},
   "outputs": [
    {
     "data": {
      "text/plain": [
       "'hello   world'"
      ]
     },
     "execution_count": 25,
     "metadata": {},
     "output_type": "execute_result"
    }
   ],
   "source": [
    "'hello\\tworld'.expandtabs()"
   ]
  },
  {
   "cell_type": "code",
   "execution_count": 26,
   "id": "7c883048-4d56-4103-8486-59466e0432a9",
   "metadata": {},
   "outputs": [
    {
     "data": {
      "text/plain": [
       "'welcome to pwskills.welcome to data science masters'"
      ]
     },
     "execution_count": 26,
     "metadata": {},
     "output_type": "execute_result"
    }
   ],
   "source": [
    "s=\"welcome to pwskills.welcome to dat cience masters\"\n",
    "s.replace(\"dat\",\"data\").replace(\"cience\",\"science\")"
   ]
  },
  {
   "cell_type": "code",
   "execution_count": 27,
   "id": "703f44ae-f844-45a2-9a9c-6340ab51837c",
   "metadata": {},
   "outputs": [
    {
     "data": {
      "text/plain": [
       "False"
      ]
     },
     "execution_count": 27,
     "metadata": {},
     "output_type": "execute_result"
    }
   ],
   "source": [
    "s.isupper()"
   ]
  },
  {
   "cell_type": "code",
   "execution_count": 28,
   "id": "3084a8f6-5802-4f68-a844-34e654ba8f08",
   "metadata": {},
   "outputs": [
    {
     "data": {
      "text/plain": [
       "False"
      ]
     },
     "execution_count": 28,
     "metadata": {},
     "output_type": "execute_result"
    }
   ],
   "source": [
    "s2='HI'\n",
    "s2.islower()"
   ]
  },
  {
   "cell_type": "code",
   "execution_count": 33,
   "id": "8ceba953-3cc7-40cd-bd70-3d609f693773",
   "metadata": {},
   "outputs": [
    {
     "data": {
      "text/plain": [
       "True"
      ]
     },
     "execution_count": 33,
     "metadata": {},
     "output_type": "execute_result"
    }
   ],
   "source": [
    "\" \".isspace()"
   ]
  },
  {
   "cell_type": "code",
   "execution_count": 35,
   "id": "3579f62c-1572-4204-b904-aa0a95c5907d",
   "metadata": {},
   "outputs": [
    {
     "data": {
      "text/plain": [
       "True"
      ]
     },
     "execution_count": 35,
     "metadata": {},
     "output_type": "execute_result"
    }
   ],
   "source": [
    "n=\"anisha\"\n",
    "n.endswith('a')"
   ]
  },
  {
   "cell_type": "code",
   "execution_count": 36,
   "id": "2cd8b92a-7f6b-4cf1-91c7-23985687db6f",
   "metadata": {},
   "outputs": [
    {
     "data": {
      "text/plain": [
       "False"
      ]
     },
     "execution_count": 36,
     "metadata": {},
     "output_type": "execute_result"
    }
   ],
   "source": [
    "n.startswith('t')"
   ]
  },
  {
   "cell_type": "code",
   "execution_count": 39,
   "id": "d7e97ae6-71d7-444c-a39b-ac333e446d43",
   "metadata": {},
   "outputs": [
    {
     "data": {
      "text/plain": [
       "False"
      ]
     },
     "execution_count": 39,
     "metadata": {},
     "output_type": "execute_result"
    }
   ],
   "source": [
    "n1=\"abc#123\"\n",
    "n1.isalnum()#checks alphanumeric or not( containing only a-z and numbers)"
   ]
  },
  {
   "cell_type": "code",
   "execution_count": 41,
   "id": "9bbdeb85-6294-4e9a-89d7-c1434260ce11",
   "metadata": {},
   "outputs": [
    {
     "name": "stdout",
     "output_type": "stream",
     "text": [
      "s\n",
      "l\n",
      "l\n",
      "i\n",
      "k\n",
      "s\n",
      "w\n",
      "p\n"
     ]
    }
   ],
   "source": [
    "string=\"pwskills\"\n",
    "ch=len(string)-1\n",
    "while ch>=0:\n",
    "    print(string[ch])\n",
    "    ch-=1"
   ]
  },
  {
   "cell_type": "code",
   "execution_count": 45,
   "id": "3a131fd0-0eb3-4ca9-a0a8-49412d0e5dde",
   "metadata": {},
   "outputs": [
    {
     "name": "stdout",
     "output_type": "stream",
     "text": [
      "p is not a vowel\n",
      "w is not a vowel\n",
      "s is not a vowel\n",
      "k is not a vowel\n",
      "i is a vowel\n",
      "l is not a vowel\n",
      "l is not a vowel\n",
      "s is not a vowel\n"
     ]
    }
   ],
   "source": [
    "name=\"pwskills\"\n",
    "vowel=\"AEIOUaeiou\"\n",
    "for ch in name:\n",
    "    if ch in vowel:\n",
    "        print(\"{} is a vowel\".format(ch))\n",
    "    else:\n",
    "        print(\"{} is not a vowel\".format(ch))"
   ]
  },
  {
   "cell_type": "markdown",
   "id": "97d28e7f-751b-429f-8c9f-83b203e7f0c7",
   "metadata": {},
   "source": [
    "***list***"
   ]
  },
  {
   "cell_type": "code",
   "execution_count": 46,
   "id": "a34dc22b-1c1c-4087-a92e-052f9b93133b",
   "metadata": {},
   "outputs": [
    {
     "data": {
      "text/plain": [
       "list"
      ]
     },
     "execution_count": 46,
     "metadata": {},
     "output_type": "execute_result"
    }
   ],
   "source": [
    "type([])"
   ]
  },
  {
   "cell_type": "code",
   "execution_count": 49,
   "id": "60f2b3b9-bf13-4f5f-a06d-9e3ced749b0d",
   "metadata": {},
   "outputs": [
    {
     "name": "stdout",
     "output_type": "stream",
     "text": [
      "['a', 'b', 'c', 4, 5]\n"
     ]
    }
   ],
   "source": [
    "lst1=[\"a\",\"b\",\"c\",4,5]\n",
    "print(lst1)"
   ]
  },
  {
   "cell_type": "code",
   "execution_count": 50,
   "id": "4fdb5731-843b-4759-b7a7-45bb91ccc8af",
   "metadata": {},
   "outputs": [
    {
     "data": {
      "text/plain": [
       "['pwskills', 'data', 'science', 'masters']"
      ]
     },
     "execution_count": 50,
     "metadata": {},
     "output_type": "execute_result"
    }
   ],
   "source": [
    "str1=\"pwskills data science masters\"\n",
    "list(str1.split(\" \"))"
   ]
  },
  {
   "cell_type": "code",
   "execution_count": 51,
   "id": "076f6b1d-4bba-44fd-8c61-429f436602f9",
   "metadata": {},
   "outputs": [
    {
     "data": {
      "text/plain": [
       "['a', 'b', 'A', 4, 5]"
      ]
     },
     "execution_count": 51,
     "metadata": {},
     "output_type": "execute_result"
    }
   ],
   "source": [
    "lst1[2]=\"A\"\n",
    "lst1"
   ]
  },
  {
   "cell_type": "code",
   "execution_count": 56,
   "id": "c3c7dbd8-0675-429c-8b4a-753646783d0f",
   "metadata": {},
   "outputs": [
    {
     "data": {
      "text/plain": [
       "'element'"
      ]
     },
     "execution_count": 56,
     "metadata": {},
     "output_type": "execute_result"
    }
   ],
   "source": [
    "lst2=lst1+[['new','element']]\n",
    "lst2[-1][1]"
   ]
  },
  {
   "cell_type": "code",
   "execution_count": 58,
   "id": "57e20db4-84cb-4f28-a180-23f488abfe38",
   "metadata": {},
   "outputs": [
    {
     "data": {
      "text/plain": [
       "['a', 'b', 'A', 4, 5, 'a', 'b', 'A', 4, 5]"
      ]
     },
     "execution_count": 58,
     "metadata": {},
     "output_type": "execute_result"
    }
   ],
   "source": [
    "lst1 * 2"
   ]
  },
  {
   "cell_type": "code",
   "execution_count": 59,
   "id": "b29b92ed-9222-4dee-8991-dc66da02beea",
   "metadata": {},
   "outputs": [
    {
     "name": "stdout",
     "output_type": "stream",
     "text": [
      "yes\n"
     ]
    }
   ],
   "source": [
    "for i in lst1:\n",
    "    if i==\"A\":\n",
    "        print(\"yes\")"
   ]
  },
  {
   "cell_type": "code",
   "execution_count": 60,
   "id": "4dc2692e-c850-422c-a227-9298edc1bac2",
   "metadata": {},
   "outputs": [
    {
     "name": "stdout",
     "output_type": "stream",
     "text": [
      "75\n"
     ]
    }
   ],
   "source": [
    "lst3=[1,2,3,4,5,6,9,6,43,34,75,23]\n",
    "print(max(lst3))"
   ]
  },
  {
   "cell_type": "code",
   "execution_count": 62,
   "id": "269e31e8-80e7-4021-bd8d-db5b861d99dc",
   "metadata": {},
   "outputs": [
    {
     "name": "stdout",
     "output_type": "stream",
     "text": [
      "sat\n"
     ]
    }
   ],
   "source": [
    "lst4=[\"cat\",\"mat\",\"sat\"]\n",
    "print(max(lst4)) #it takes asci value of the char"
   ]
  },
  {
   "cell_type": "code",
   "execution_count": 67,
   "id": "4d1ca300-1f7b-48b2-ab35-494e9483bb4d",
   "metadata": {},
   "outputs": [
    {
     "data": {
      "text/plain": [
       "[1, 2, 3, 4, 5, 6, 9, 6, 43, 34, 75, 23, 10, 10, 10, 1, 55]"
      ]
     },
     "execution_count": 67,
     "metadata": {},
     "output_type": "execute_result"
    }
   ],
   "source": [
    "lst3.append(55)\n",
    "lst3"
   ]
  },
  {
   "cell_type": "code",
   "execution_count": 68,
   "id": "34852637-c18a-454f-a3ca-6b8eba3d78be",
   "metadata": {},
   "outputs": [
    {
     "data": {
      "text/plain": [
       "[1, 2, 3, 4, 5, 6, 9, 6, 43, 34, 75, 23, 10, 10, 10, 1]"
      ]
     },
     "execution_count": 68,
     "metadata": {},
     "output_type": "execute_result"
    }
   ],
   "source": [
    "lst3.pop()\n",
    "lst3"
   ]
  },
  {
   "cell_type": "code",
   "execution_count": 70,
   "id": "bc00877a-6e93-47c5-8c63-39ad723da2c3",
   "metadata": {},
   "outputs": [
    {
     "data": {
      "text/plain": [
       "['a', 'p', 'r', 'y']"
      ]
     },
     "execution_count": 70,
     "metadata": {},
     "output_type": "execute_result"
    }
   ],
   "source": [
    "new_lst=['p','a','y','r']\n",
    "new_lst.sort()\n",
    "new_lst"
   ]
  },
  {
   "cell_type": "code",
   "execution_count": 71,
   "id": "9324f68f-0bbe-41ba-8f94-0b4c373ca8bf",
   "metadata": {},
   "outputs": [
    {
     "data": {
      "text/plain": [
       "['y', 'r', 'p', 'a']"
      ]
     },
     "execution_count": 71,
     "metadata": {},
     "output_type": "execute_result"
    }
   ],
   "source": [
    "new_lst.reverse()\n",
    "new_lst"
   ]
  },
  {
   "cell_type": "markdown",
   "id": "fa0fd100-7f73-4eb3-bcc7-32feb531fa9b",
   "metadata": {},
   "source": [
    "***nested list****"
   ]
  },
  {
   "cell_type": "code",
   "execution_count": 74,
   "id": "75528214-500d-43d0-a276-ca9ed4045a27",
   "metadata": {},
   "outputs": [],
   "source": [
    "l1=[1,2,3]\n",
    "l2=[4,5,6]\n",
    "l3=[7,8,9]\n",
    "matrix=[l1,l2,l3]"
   ]
  },
  {
   "cell_type": "code",
   "execution_count": 75,
   "id": "37e6b3f6-29a6-4470-9634-c44d040e3b89",
   "metadata": {},
   "outputs": [
    {
     "data": {
      "text/plain": [
       "5"
      ]
     },
     "execution_count": 75,
     "metadata": {},
     "output_type": "execute_result"
    }
   ],
   "source": [
    "matrix[1][1]"
   ]
  },
  {
   "cell_type": "code",
   "execution_count": 76,
   "id": "2c3a35bc-89f5-4eb7-b9c9-f10b33c2a881",
   "metadata": {},
   "outputs": [
    {
     "data": {
      "text/plain": [
       "[[1, 2, 3], [4, 5, 6], [7, 8, 9]]"
      ]
     },
     "execution_count": 76,
     "metadata": {},
     "output_type": "execute_result"
    }
   ],
   "source": [
    "matrix[:][:]"
   ]
  },
  {
   "cell_type": "code",
   "execution_count": 77,
   "id": "13e168b5-07ae-4e2b-96c9-ba20fa14ff72",
   "metadata": {},
   "outputs": [
    {
     "data": {
      "text/plain": [
       "[0, 1, 2, 3, 4, 5, 6, 7, 8, 9, 10, 11, 12, 13, 14, 15, 16, 17, 18, 19]"
      ]
     },
     "execution_count": 77,
     "metadata": {},
     "output_type": "execute_result"
    }
   ],
   "source": [
    "#list comprehension\n",
    "[i for i in range(20)]"
   ]
  },
  {
   "cell_type": "code",
   "execution_count": 81,
   "id": "4c6d1c1e-43a1-4258-ac96-868263a57ddd",
   "metadata": {},
   "outputs": [
    {
     "data": {
      "text/plain": [
       "[0, '', 2, '', 4, '', 6, '', 8, '', 10, '', 12, '', 14, '', 16, '', 18, '']"
      ]
     },
     "execution_count": 81,
     "metadata": {},
     "output_type": "execute_result"
    }
   ],
   "source": [
    "#even numbers\n",
    "[ i if i%2==0 else \"\" for i in range(20)]"
   ]
  },
  {
   "cell_type": "code",
   "execution_count": 82,
   "id": "6b3ec669-ed2d-4b31-b0a1-37cc364edf4d",
   "metadata": {},
   "outputs": [
    {
     "data": {
      "text/plain": [
       "20"
      ]
     },
     "execution_count": 82,
     "metadata": {},
     "output_type": "execute_result"
    }
   ],
   "source": [
    "lst=[1,2,3,4,5,6,7,8,9]\n",
    "sum([i for i in lst if i%2==0])"
   ]
  },
  {
   "cell_type": "code",
   "execution_count": 83,
   "id": "b1a3c5b7-b5c2-4dfb-bea6-7c55f9e61a99",
   "metadata": {},
   "outputs": [
    {
     "data": {
      "text/plain": [
       "[32.0, 50.0, 68.0, 86.0, 104.0, 122.0]"
      ]
     },
     "execution_count": 83,
     "metadata": {},
     "output_type": "execute_result"
    }
   ],
   "source": [
    "#celcius to fahrenheit\n",
    "cel=[0,10,20,30,40,50]\n",
    "[(9/5)*i +32 for i in cel]"
   ]
  },
  {
   "cell_type": "code",
   "execution_count": null,
   "id": "fb816cf9-9800-4a26-80cf-119912cf9ed7",
   "metadata": {},
   "outputs": [],
   "source": []
  }
 ],
 "metadata": {
  "kernelspec": {
   "display_name": "Python 3 (ipykernel)",
   "language": "python",
   "name": "python3"
  },
  "language_info": {
   "codemirror_mode": {
    "name": "ipython",
    "version": 3
   },
   "file_extension": ".py",
   "mimetype": "text/x-python",
   "name": "python",
   "nbconvert_exporter": "python",
   "pygments_lexer": "ipython3",
   "version": "3.10.8"
  }
 },
 "nbformat": 4,
 "nbformat_minor": 5
}
