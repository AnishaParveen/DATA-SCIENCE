{
 "cells": [
  {
   "cell_type": "markdown",
   "id": "b95660b1-67fc-492d-9a12-155fe72703f8",
   "metadata": {},
   "source": [
    "#TUPLE"
   ]
  },
  {
   "cell_type": "code",
   "execution_count": 1,
   "id": "a5e29a59-e1ef-449e-99bc-816d26ff3c46",
   "metadata": {},
   "outputs": [
    {
     "data": {
      "text/plain": [
       "tuple"
      ]
     },
     "execution_count": 1,
     "metadata": {},
     "output_type": "execute_result"
    }
   ],
   "source": [
    "\n",
    "t=()\n",
    "type(t)\n"
   ]
  },
  {
   "cell_type": "code",
   "execution_count": 37,
   "id": "b29ea1c7-33f7-4df9-968d-5d5cbdb1d7e8",
   "metadata": {},
   "outputs": [],
   "source": [
    "t1=(1,2,3,4,45,45.5,3+7j,\"hello\",True)"
   ]
  },
  {
   "cell_type": "code",
   "execution_count": 4,
   "id": "58730576-490e-4b4b-b112-f0d86bb339ca",
   "metadata": {},
   "outputs": [
    {
     "data": {
      "text/plain": [
       "tuple"
      ]
     },
     "execution_count": 4,
     "metadata": {},
     "output_type": "execute_result"
    }
   ],
   "source": [
    "type(t1)"
   ]
  },
  {
   "cell_type": "code",
   "execution_count": 5,
   "id": "1db0dace-69f7-4ddd-b1c8-141c5b80b854",
   "metadata": {},
   "outputs": [
    {
     "data": {
      "text/plain": [
       "list"
      ]
     },
     "execution_count": 5,
     "metadata": {},
     "output_type": "execute_result"
    }
   ],
   "source": [
    "l=[1,3,6,\"u\"]\n",
    "type(l)"
   ]
  },
  {
   "cell_type": "code",
   "execution_count": 6,
   "id": "e2a3694d-7d22-4601-afcc-e1e733c47a1e",
   "metadata": {},
   "outputs": [
    {
     "data": {
      "text/plain": [
       "(1, 2, 3, 4, 45, 45.5, (3+7j), 'hello', True)"
      ]
     },
     "execution_count": 6,
     "metadata": {},
     "output_type": "execute_result"
    }
   ],
   "source": [
    "t1"
   ]
  },
  {
   "cell_type": "code",
   "execution_count": 7,
   "id": "ee6f772c-17ea-4a58-b86a-8220d2de9327",
   "metadata": {},
   "outputs": [
    {
     "data": {
      "text/plain": [
       "1"
      ]
     },
     "execution_count": 7,
     "metadata": {},
     "output_type": "execute_result"
    }
   ],
   "source": [
    "t1[0]"
   ]
  },
  {
   "cell_type": "code",
   "execution_count": 8,
   "id": "89107e9c-cfd1-4c56-8239-8dad3b050be8",
   "metadata": {},
   "outputs": [
    {
     "data": {
      "text/plain": [
       "True"
      ]
     },
     "execution_count": 8,
     "metadata": {},
     "output_type": "execute_result"
    }
   ],
   "source": [
    "t1[8]"
   ]
  },
  {
   "cell_type": "code",
   "execution_count": 9,
   "id": "fceecc45-6d62-4f35-893c-6fd69092e434",
   "metadata": {},
   "outputs": [
    {
     "data": {
      "text/plain": [
       "(True, 'hello', (3+7j), 45.5, 45, 4, 3, 2, 1)"
      ]
     },
     "execution_count": 9,
     "metadata": {},
     "output_type": "execute_result"
    }
   ],
   "source": [
    "t1[::-1]"
   ]
  },
  {
   "cell_type": "code",
   "execution_count": 10,
   "id": "89a1491b-e27b-45b7-a05c-1e6b5e3e51c3",
   "metadata": {},
   "outputs": [
    {
     "data": {
      "text/plain": [
       "(1, 2, 3)"
      ]
     },
     "execution_count": 10,
     "metadata": {},
     "output_type": "execute_result"
    }
   ],
   "source": [
    "t1[0:3]"
   ]
  },
  {
   "cell_type": "code",
   "execution_count": 11,
   "id": "73dd8e2d-f36d-4628-89ec-ea56f4c20f52",
   "metadata": {},
   "outputs": [
    {
     "data": {
      "text/plain": [
       "2"
      ]
     },
     "execution_count": 11,
     "metadata": {},
     "output_type": "execute_result"
    }
   ],
   "source": [
    "t1.count(1)  #here true is stored as 1 thats why o/p is 2"
   ]
  },
  {
   "cell_type": "code",
   "execution_count": 12,
   "id": "991b3182-00a8-4e0f-b4a8-f0e9e1e4dcbc",
   "metadata": {},
   "outputs": [
    {
     "data": {
      "text/plain": [
       "4"
      ]
     },
     "execution_count": 12,
     "metadata": {},
     "output_type": "execute_result"
    }
   ],
   "source": [
    "t1.index(45)"
   ]
  },
  {
   "cell_type": "raw",
   "id": "74efb771-b2d7-414d-b3c5-b78f54634bd3",
   "metadata": {},
   "source": [
    "we can't do t1[0]=87 it is immutable"
   ]
  },
  {
   "cell_type": "code",
   "execution_count": 14,
   "id": "4905055e-dbde-4d9a-8120-3b9622b17ba8",
   "metadata": {},
   "outputs": [
    {
     "name": "stdout",
     "output_type": "stream",
     "text": [
      "1,2,3,4,45,45.5,(3+7j),hello,True,"
     ]
    }
   ],
   "source": [
    "#we can iterate in a tuple\n",
    "for i in t1:\n",
    "    print(i,end=\",\")"
   ]
  },
  {
   "cell_type": "code",
   "execution_count": 33,
   "id": "1ac4ad47-0e0f-488c-ad18-bec4a28845d3",
   "metadata": {},
   "outputs": [],
   "source": [
    "t2=(1,2,3,4)"
   ]
  },
  {
   "cell_type": "code",
   "execution_count": 18,
   "id": "e728c428-4bdd-45e5-b03c-5270f88f3d41",
   "metadata": {},
   "outputs": [
    {
     "data": {
      "text/plain": [
       "(1, 2, 3, 4, 1, 2, 3, 4, 1, 2, 3, 4)"
      ]
     },
     "execution_count": 18,
     "metadata": {},
     "output_type": "execute_result"
    }
   ],
   "source": [
    "t2*3"
   ]
  },
  {
   "cell_type": "code",
   "execution_count": 21,
   "id": "adbb214b-b7b2-4632-b888-1680b9ad2254",
   "metadata": {},
   "outputs": [
    {
     "data": {
      "text/plain": [
       "1"
      ]
     },
     "execution_count": 21,
     "metadata": {},
     "output_type": "execute_result"
    }
   ],
   "source": [
    "min(t2)"
   ]
  },
  {
   "cell_type": "code",
   "execution_count": 22,
   "id": "7a48674b-8e05-4119-8012-1e45a1e98016",
   "metadata": {},
   "outputs": [
    {
     "data": {
      "text/plain": [
       "4"
      ]
     },
     "execution_count": 22,
     "metadata": {},
     "output_type": "execute_result"
    }
   ],
   "source": [
    "max(t2)"
   ]
  },
  {
   "cell_type": "code",
   "execution_count": 38,
   "id": "9f2fe446-f0cf-4edd-83b9-f506c232e491",
   "metadata": {},
   "outputs": [],
   "source": [
    "t3=(t1,t2)"
   ]
  },
  {
   "cell_type": "code",
   "execution_count": 39,
   "id": "55235e5c-73de-4f8c-946f-69a94eebcf9c",
   "metadata": {},
   "outputs": [
    {
     "data": {
      "text/plain": [
       "((1, 2, 3, 4, 45, 45.5, (3+7j), 'hello', True), (1, 2, 3, 4))"
      ]
     },
     "execution_count": 39,
     "metadata": {},
     "output_type": "execute_result"
    }
   ],
   "source": [
    "t3"
   ]
  },
  {
   "cell_type": "code",
   "execution_count": 28,
   "id": "5c874356-7282-42d1-a144-4ab93649f7ac",
   "metadata": {},
   "outputs": [],
   "source": [
    "del t3 #WE USE IT  FOR DELETING A TUPLE"
   ]
  },
  {
   "cell_type": "code",
   "execution_count": 34,
   "id": "a06ef557-b7ff-45e8-82c2-3140edeacd9d",
   "metadata": {},
   "outputs": [
    {
     "data": {
      "text/plain": [
       "False"
      ]
     },
     "execution_count": 34,
     "metadata": {},
     "output_type": "execute_result"
    }
   ],
   "source": [
    "\"5\" in t2 #for checking it is present or not"
   ]
  },
  {
   "cell_type": "markdown",
   "id": "099ee152-694e-4c34-bf81-c8aac09f7ca2",
   "metadata": {},
   "source": [
    "SET"
   ]
  },
  {
   "cell_type": "code",
   "execution_count": 3,
   "id": "7967d725-4b25-45df-b552-4f02c9ba1db4",
   "metadata": {},
   "outputs": [
    {
     "data": {
      "text/plain": [
       "dict"
      ]
     },
     "execution_count": 3,
     "metadata": {},
     "output_type": "execute_result"
    }
   ],
   "source": [
    "s={}\n",
    "type(s)"
   ]
  },
  {
   "cell_type": "code",
   "execution_count": 7,
   "id": "4cbc8535-d4a2-45d7-8f5f-23bd618f0f01",
   "metadata": {},
   "outputs": [
    {
     "data": {
      "text/plain": [
       "set"
      ]
     },
     "execution_count": 7,
     "metadata": {},
     "output_type": "execute_result"
    }
   ],
   "source": [
    "s1={1,2,3,2,4,21}\n",
    "type(s1)"
   ]
  },
  {
   "cell_type": "code",
   "execution_count": 8,
   "id": "680dfaee-8051-4b1c-9995-ddc36881686c",
   "metadata": {},
   "outputs": [
    {
     "data": {
      "text/plain": [
       "{1, 2, 3, 4, 21}"
      ]
     },
     "execution_count": 8,
     "metadata": {},
     "output_type": "execute_result"
    }
   ],
   "source": [
    "s1 # set here removes all the duplicates and stores elements using hashing "
   ]
  },
  {
   "cell_type": "markdown",
   "id": "6d4336c6-adba-4c7b-8740-21869ad783fb",
   "metadata": {},
   "source": [
    "we can convert a set into a list and a tuple . and set is also case sensitive. it is immutable"
   ]
  },
  {
   "cell_type": "code",
   "execution_count": 9,
   "id": "a5edb0df-acda-4a22-b0d7-c16edc6a5db1",
   "metadata": {},
   "outputs": [
    {
     "data": {
      "text/plain": [
       "[1, 2, 3, 4, 21]"
      ]
     },
     "execution_count": 9,
     "metadata": {},
     "output_type": "execute_result"
    }
   ],
   "source": [
    "list(s1)"
   ]
  },
  {
   "cell_type": "code",
   "execution_count": 10,
   "id": "094dcbbd-6dc8-4bc6-a87c-469d4c6e1742",
   "metadata": {},
   "outputs": [
    {
     "data": {
      "text/plain": [
       "(1, 2, 3, 4, 21)"
      ]
     },
     "execution_count": 10,
     "metadata": {},
     "output_type": "execute_result"
    }
   ],
   "source": [
    "tuple(s1)"
   ]
  },
  {
   "cell_type": "markdown",
   "id": "92c3b393-c2dd-49b2-80b5-d6f008e799f6",
   "metadata": {},
   "source": [
    "we can include a tuple inside a set but we can't in list because list is mutable it can change the property of set"
   ]
  },
  {
   "cell_type": "code",
   "execution_count": 25,
   "id": "68b582f4-e0dd-42b5-a287-01f68f062cc1",
   "metadata": {},
   "outputs": [],
   "source": [
    "s2={1,2,3,(5,6,1)}"
   ]
  },
  {
   "cell_type": "code",
   "execution_count": 12,
   "id": "afaee717-5fa8-4f24-b643-bed81bb56759",
   "metadata": {},
   "outputs": [
    {
     "data": {
      "text/plain": [
       "{(5, 6, 1), 1, 2, 3}"
      ]
     },
     "execution_count": 12,
     "metadata": {},
     "output_type": "execute_result"
    }
   ],
   "source": [
    "s2"
   ]
  },
  {
   "cell_type": "raw",
   "id": "875a4c6a-8d7a-475d-8e61-659dd0555f37",
   "metadata": {},
   "source": [
    "s2={1,2,3,[2,4]} it will show error"
   ]
  },
  {
   "cell_type": "markdown",
   "id": "0786904b-554a-423a-9f62-d7724da5836d",
   "metadata": {},
   "source": [
    "we also cannot use indexing and slicing operation"
   ]
  },
  {
   "cell_type": "raw",
   "id": "816877df-4d35-4fc3-a39e-c56fc6ac363e",
   "metadata": {},
   "source": [
    "s2[0]"
   ]
  },
  {
   "cell_type": "raw",
   "id": "c410bcc5-7888-45de-aa3a-ba4dbd4a7532",
   "metadata": {},
   "source": [
    "s2[::-1]"
   ]
  },
  {
   "cell_type": "raw",
   "id": "791cd629-0ebd-4480-bd30-333410e2abb2",
   "metadata": {},
   "source": [
    "we have to use iterative method"
   ]
  },
  {
   "cell_type": "code",
   "execution_count": 16,
   "id": "666dddca-dd7a-4bf2-a371-0261c67525da",
   "metadata": {},
   "outputs": [
    {
     "name": "stdout",
     "output_type": "stream",
     "text": [
      "1\n",
      "2\n",
      "3\n",
      "(5, 6, 1)\n"
     ]
    }
   ],
   "source": [
    "for i in s2:\n",
    "    print(i)"
   ]
  },
  {
   "cell_type": "raw",
   "id": "94314be5-a9fb-43cd-a849-95e36a7f8efc",
   "metadata": {},
   "source": [
    "it adds and remove elements depending upon the hashing internally not sequencially"
   ]
  },
  {
   "cell_type": "code",
   "execution_count": 17,
   "id": "e3d99d50-477e-458d-9c66-4ff2c1cf6a76",
   "metadata": {},
   "outputs": [],
   "source": [
    "s2.add(15)"
   ]
  },
  {
   "cell_type": "code",
   "execution_count": 18,
   "id": "6d25bc6e-0520-43a1-9dcf-1a857ce1ecf3",
   "metadata": {},
   "outputs": [
    {
     "data": {
      "text/plain": [
       "{(5, 6, 1), 1, 15, 2, 3}"
      ]
     },
     "execution_count": 18,
     "metadata": {},
     "output_type": "execute_result"
    }
   ],
   "source": [
    "s2"
   ]
  },
  {
   "cell_type": "code",
   "execution_count": 19,
   "id": "d5907ccd-b32b-421a-bd75-a22b53d093e1",
   "metadata": {},
   "outputs": [
    {
     "data": {
      "text/plain": [
       "{(5, 6, 1), 15, 2, 3}"
      ]
     },
     "execution_count": 19,
     "metadata": {},
     "output_type": "execute_result"
    }
   ],
   "source": [
    "s2.pop()\n",
    "s2"
   ]
  },
  {
   "cell_type": "code",
   "execution_count": 20,
   "id": "435fdb39-99e4-4b0e-a967-aed5e4433f20",
   "metadata": {},
   "outputs": [],
   "source": [
    "s2.clear()"
   ]
  },
  {
   "cell_type": "code",
   "execution_count": 21,
   "id": "2f07fd8b-a80e-46c0-90ed-13afda708c4d",
   "metadata": {},
   "outputs": [
    {
     "data": {
      "text/plain": [
       "set()"
      ]
     },
     "execution_count": 21,
     "metadata": {},
     "output_type": "execute_result"
    }
   ],
   "source": [
    "s2"
   ]
  },
  {
   "cell_type": "code",
   "execution_count": 27,
   "id": "0e571ac6-b459-4d62-9140-7ceb3a4394b1",
   "metadata": {},
   "outputs": [],
   "source": [
    "s3={1,2,3,4}\n",
    "s4={1,2,3,5}"
   ]
  },
  {
   "cell_type": "code",
   "execution_count": 29,
   "id": "af8b0ed7-a4fb-4447-90af-13b64341c7c7",
   "metadata": {},
   "outputs": [
    {
     "data": {
      "text/plain": [
       "4"
      ]
     },
     "execution_count": 29,
     "metadata": {},
     "output_type": "execute_result"
    }
   ],
   "source": [
    "len(s3)"
   ]
  },
  {
   "cell_type": "code",
   "execution_count": 30,
   "id": "39113609-e3d6-4f42-a3b8-573a0b885744",
   "metadata": {},
   "outputs": [
    {
     "data": {
      "text/plain": [
       "{4}"
      ]
     },
     "execution_count": 30,
     "metadata": {},
     "output_type": "execute_result"
    }
   ],
   "source": [
    "s3.difference(s4)"
   ]
  },
  {
   "cell_type": "code",
   "execution_count": 40,
   "id": "6ca9c397-935c-4ddc-ba9e-b8a7e88faf50",
   "metadata": {},
   "outputs": [
    {
     "data": {
      "text/plain": [
       "{5}"
      ]
     },
     "execution_count": 40,
     "metadata": {},
     "output_type": "execute_result"
    }
   ],
   "source": [
    "s4.difference(s3)"
   ]
  },
  {
   "cell_type": "markdown",
   "id": "265cde0f-7d68-4a0e-ae24-65f059bfc8ec",
   "metadata": {},
   "source": [
    "DICTIONARY"
   ]
  },
  {
   "cell_type": "code",
   "execution_count": 1,
   "id": "71462141-ba2c-49ab-badc-96dbe19b5b6a",
   "metadata": {},
   "outputs": [
    {
     "data": {
      "text/plain": [
       "dict"
      ]
     },
     "execution_count": 1,
     "metadata": {},
     "output_type": "execute_result"
    }
   ],
   "source": [
    "d={}\n",
    "type(d)"
   ]
  },
  {
   "cell_type": "code",
   "execution_count": 2,
   "id": "15ed8aaf-2955-465b-9eb1-b1cb40f52942",
   "metadata": {},
   "outputs": [
    {
     "data": {
      "text/plain": [
       "{'name': 'anisha', 'roll': 12345, 'class': 'sem 4'}"
      ]
     },
     "execution_count": 2,
     "metadata": {},
     "output_type": "execute_result"
    }
   ],
   "source": [
    "#for string as key\n",
    "d1={\"name\":\"anisha\",\"roll\":12345,\"class\":\"sem 4\"}\n",
    "d1"
   ]
  },
  {
   "cell_type": "code",
   "execution_count": 3,
   "id": "ba5b439c-81da-427f-97d4-639347153668",
   "metadata": {},
   "outputs": [
    {
     "data": {
      "text/plain": [
       "dict"
      ]
     },
     "execution_count": 3,
     "metadata": {},
     "output_type": "execute_result"
    }
   ],
   "source": [
    "type(d1)"
   ]
  },
  {
   "cell_type": "code",
   "execution_count": 4,
   "id": "1d615949-b9ca-4348-88c9-3b0f0eb4c45c",
   "metadata": {},
   "outputs": [
    {
     "data": {
      "text/plain": [
       "{'name': 'tanisha'}"
      ]
     },
     "execution_count": 4,
     "metadata": {},
     "output_type": "execute_result"
    }
   ],
   "source": [
    "d2={\"name\":\"anisha\",\"name\":\"tanisha\"}\n",
    "d2 #key should be always unique else first one will be over write"
   ]
  },
  {
   "cell_type": "code",
   "execution_count": 5,
   "id": "eb2b3ddc-6297-4f71-97a6-94d132f89ea5",
   "metadata": {},
   "outputs": [
    {
     "data": {
      "text/plain": [
       "{123: 'abc'}"
      ]
     },
     "execution_count": 5,
     "metadata": {},
     "output_type": "execute_result"
    }
   ],
   "source": [
    "#for int as key\n",
    "d3={123:\"abc\"}\n",
    "d3"
   ]
  },
  {
   "cell_type": "code",
   "execution_count": 6,
   "id": "7bfcd80f-9dc0-4c45-8152-808e9daf5f7a",
   "metadata": {},
   "outputs": [
    {
     "data": {
      "text/plain": [
       "{12.35: 'abc'}"
      ]
     },
     "execution_count": 6,
     "metadata": {},
     "output_type": "execute_result"
    }
   ],
   "source": [
    "#for float as key\n",
    "d4={12.35:\"abc\"}\n",
    "d4"
   ]
  },
  {
   "cell_type": "code",
   "execution_count": null,
   "id": "d775291a-c624-4875-8cf8-1054708769e3",
   "metadata": {},
   "outputs": [],
   "source": [
    "#for bool as key\n",
    "d5={True:\"abc\"}\n",
    "d5"
   ]
  },
  {
   "cell_type": "code",
   "execution_count": 7,
   "id": "4a107a00-ff60-491e-99fd-c320e3bbcdef",
   "metadata": {},
   "outputs": [
    {
     "data": {
      "text/plain": [
       "{(1, 2, 3): 'abc'}"
      ]
     },
     "execution_count": 7,
     "metadata": {},
     "output_type": "execute_result"
    }
   ],
   "source": [
    "#for tuple as key\n",
    "d6={(1,2,3):\"abc\"}\n",
    "d6"
   ]
  },
  {
   "cell_type": "code",
   "execution_count": null,
   "id": "a50d921b-0021-4ee4-b8e5-45b3613b7374",
   "metadata": {},
   "outputs": [],
   "source": [
    "#for tuple as key\n",
    "d6={(1,2,3):\"abc\"}\n",
    "d6"
   ]
  },
  {
   "cell_type": "raw",
   "id": "4b849850-1ba8-479b-82e3-754dcdb3cd23",
   "metadata": {},
   "source": [
    "we can't use special char,list ,set,dictionary it self as a key\n",
    "d6={@:\"abc\"}\n",
    "d6\n",
    "d6={#:\"abc\"}\n",
    "d6\n",
    "d7={[1,2,3]:\"abc\"}\n",
    "d7\n",
    "d8={{1,2,3}:\"abc\"}\n",
    "d8\n",
    "d9={{1:\"A\"}:\"abc\"}\n",
    "d9"
   ]
  },
  {
   "cell_type": "raw",
   "id": "e328e129-9d17-4ee7-b0f2-f9a28901f81c",
   "metadata": {},
   "source": [
    "data can be a list ,set,dictionary it self(nested dict)"
   ]
  },
  {
   "cell_type": "code",
   "execution_count": 17,
   "id": "ccc040cb-59b1-40af-ac09-9046fa80e6a3",
   "metadata": {},
   "outputs": [
    {
     "data": {
      "text/plain": [
       "{'key': [1, 3, 4]}"
      ]
     },
     "execution_count": 17,
     "metadata": {},
     "output_type": "execute_result"
    }
   ],
   "source": [
    "d10={\"key\":[1,3,4]}\n",
    "d10"
   ]
  },
  {
   "cell_type": "code",
   "execution_count": 18,
   "id": "edc6fea0-2a03-4d97-8e59-38d4dc8c3436",
   "metadata": {},
   "outputs": [
    {
     "data": {
      "text/plain": [
       "{'key': {1, 3, 4}}"
      ]
     },
     "execution_count": 18,
     "metadata": {},
     "output_type": "execute_result"
    }
   ],
   "source": [
    "d11={\"key\":{1,3,4}}\n",
    "d11"
   ]
  },
  {
   "cell_type": "code",
   "execution_count": 14,
   "id": "cc1399fe-51ef-4b5d-a4c2-a17e119b0c7c",
   "metadata": {},
   "outputs": [
    {
     "data": {
      "text/plain": [
       "{'key': {'course': 'DSM'}}"
      ]
     },
     "execution_count": 14,
     "metadata": {},
     "output_type": "execute_result"
    }
   ],
   "source": [
    "d12={\"key\":{\"course\":\"DSM\"}}\n",
    "d12"
   ]
  },
  {
   "cell_type": "code",
   "execution_count": 16,
   "id": "7788c8fa-f4d1-49d6-a60d-7b49d357ecae",
   "metadata": {},
   "outputs": [
    {
     "data": {
      "text/plain": [
       "{'key': '#'}"
      ]
     },
     "execution_count": 16,
     "metadata": {},
     "output_type": "execute_result"
    }
   ],
   "source": [
    "d13={\"key\":\"#\"}\n",
    "d13"
   ]
  },
  {
   "cell_type": "code",
   "execution_count": 31,
   "id": "8a4f4998-e078-4ed5-99e0-743155c83e76",
   "metadata": {},
   "outputs": [
    {
     "data": {
      "text/plain": [
       "{'name': ['riya', 'priya', 'rahul'], 'class': (2, 3, 2), 'id': {123, 456, 765}}"
      ]
     },
     "execution_count": 31,
     "metadata": {},
     "output_type": "execute_result"
    }
   ],
   "source": [
    "d14={\"name\":[\"riya\",\"priya\",\"rahul\"],\"class\":(2,3,2),\"id\":{123,456,765}}\n",
    "d14"
   ]
  },
  {
   "cell_type": "code",
   "execution_count": 20,
   "id": "a7bf4ad5-6801-47b7-9995-833330a0d7eb",
   "metadata": {},
   "outputs": [
    {
     "data": {
      "text/plain": [
       "['riya', 'priya', 'rahul']"
      ]
     },
     "execution_count": 20,
     "metadata": {},
     "output_type": "execute_result"
    }
   ],
   "source": [
    "d14[\"name\"]"
   ]
  },
  {
   "cell_type": "code",
   "execution_count": 21,
   "id": "8ee94166-d455-4095-9ce5-a36d4cc626a3",
   "metadata": {},
   "outputs": [
    {
     "data": {
      "text/plain": [
       "list"
      ]
     },
     "execution_count": 21,
     "metadata": {},
     "output_type": "execute_result"
    }
   ],
   "source": [
    "type(d14[\"name\"])"
   ]
  },
  {
   "cell_type": "code",
   "execution_count": 39,
   "id": "de95be85-6131-4cd7-9742-31e3d6d9dac1",
   "metadata": {},
   "outputs": [],
   "source": [
    "d14[\"age\"]= (5,4,4)\n"
   ]
  },
  {
   "cell_type": "code",
   "execution_count": 40,
   "id": "016bbc86-838b-4fc9-9118-6209e0e19d37",
   "metadata": {},
   "outputs": [
    {
     "data": {
      "text/plain": [
       "{'name': ['riya', 'priya', 'rahul'],\n",
       " 'class': (2, 3, 2),\n",
       " 'id': {123, 456, 765},\n",
       " 'age': (5, 4, 4)}"
      ]
     },
     "execution_count": 40,
     "metadata": {},
     "output_type": "execute_result"
    }
   ],
   "source": [
    "d14"
   ]
  },
  {
   "cell_type": "code",
   "execution_count": 41,
   "id": "5b58875a-55bd-42be-bea4-9a3383bb9d26",
   "metadata": {},
   "outputs": [
    {
     "data": {
      "text/plain": [
       "tuple"
      ]
     },
     "execution_count": 41,
     "metadata": {},
     "output_type": "execute_result"
    }
   ],
   "source": [
    "type(d14[\"age\"])"
   ]
  },
  {
   "cell_type": "code",
   "execution_count": 43,
   "id": "386bfe66-e5a1-4eda-b0d7-e3c2fb414bdd",
   "metadata": {},
   "outputs": [
    {
     "data": {
      "text/plain": [
       "{'key': {'course': 'DSM', 'id': 12356, 'date': 'feb 10'}}"
      ]
     },
     "execution_count": 43,
     "metadata": {},
     "output_type": "execute_result"
    }
   ],
   "source": [
    "d15={\"key\":{\"course\":\"DSM\",\"id\":12356,\"date\":\"feb 10\"}}\n",
    "d15"
   ]
  },
  {
   "cell_type": "code",
   "execution_count": 44,
   "id": "5c4a4308-1624-4471-81e1-5df2ac6862e4",
   "metadata": {},
   "outputs": [
    {
     "data": {
      "text/plain": [
       "{'course': 'DSM', 'id': 12356, 'date': 'feb 10'}"
      ]
     },
     "execution_count": 44,
     "metadata": {},
     "output_type": "execute_result"
    }
   ],
   "source": [
    "d15[\"key\"]"
   ]
  },
  {
   "cell_type": "code",
   "execution_count": 45,
   "id": "c3def8a6-ec63-440b-a145-483afe2d1626",
   "metadata": {},
   "outputs": [
    {
     "data": {
      "text/plain": [
       "12356"
      ]
     },
     "execution_count": 45,
     "metadata": {},
     "output_type": "execute_result"
    }
   ],
   "source": [
    "d15[\"key\"][\"id\"]"
   ]
  },
  {
   "cell_type": "code",
   "execution_count": 46,
   "id": "f16388e8-5f1c-40d0-b1dd-d956278254c9",
   "metadata": {},
   "outputs": [],
   "source": [
    "del d15[\"key\"][\"id\"]"
   ]
  },
  {
   "cell_type": "code",
   "execution_count": 47,
   "id": "4b5c28c9-fcdf-4a76-9a26-a921183b9f16",
   "metadata": {},
   "outputs": [
    {
     "data": {
      "text/plain": [
       "{'course': 'DSM', 'date': 'feb 10'}"
      ]
     },
     "execution_count": 47,
     "metadata": {},
     "output_type": "execute_result"
    }
   ],
   "source": [
    "d15[\"key\"]"
   ]
  },
  {
   "cell_type": "code",
   "execution_count": 49,
   "id": "b81a0389-4a5d-43a3-9afe-040c9c7166b7",
   "metadata": {},
   "outputs": [
    {
     "data": {
      "text/plain": [
       "{}"
      ]
     },
     "execution_count": 49,
     "metadata": {},
     "output_type": "execute_result"
    }
   ],
   "source": [
    "d15.clear()\n",
    "d15"
   ]
  },
  {
   "cell_type": "code",
   "execution_count": 50,
   "id": "609aab72-397a-468f-9fff-e5afc1843451",
   "metadata": {},
   "outputs": [
    {
     "data": {
      "text/plain": [
       "dict_keys(['name', 'class', 'id', 'age'])"
      ]
     },
     "execution_count": 50,
     "metadata": {},
     "output_type": "execute_result"
    }
   ],
   "source": [
    "d14.keys()"
   ]
  },
  {
   "cell_type": "code",
   "execution_count": 51,
   "id": "41418131-5d5d-4747-906c-c11177cb5d71",
   "metadata": {},
   "outputs": [
    {
     "data": {
      "text/plain": [
       "[['riya', 'priya', 'rahul'], (2, 3, 2), {123, 456, 765}, (5, 4, 4)]"
      ]
     },
     "execution_count": 51,
     "metadata": {},
     "output_type": "execute_result"
    }
   ],
   "source": [
    "list(d14.values())"
   ]
  },
  {
   "cell_type": "markdown",
   "id": "14d2833c-8201-46b2-b2f4-b8b08fce4ed1",
   "metadata": {},
   "source": [
    "set(d14.values()) we can't convert"
   ]
  },
  {
   "cell_type": "code",
   "execution_count": 53,
   "id": "7fe1e230-70f5-4e14-b09b-878b60ae82af",
   "metadata": {},
   "outputs": [
    {
     "data": {
      "text/plain": [
       "(['riya', 'priya', 'rahul'], (2, 3, 2), {123, 456, 765}, (5, 4, 4))"
      ]
     },
     "execution_count": 53,
     "metadata": {},
     "output_type": "execute_result"
    }
   ],
   "source": [
    "tuple(d14.values())"
   ]
  },
  {
   "cell_type": "code",
   "execution_count": 54,
   "id": "99bf11b4-7ac2-42ae-a6b3-051e0764bd9e",
   "metadata": {},
   "outputs": [
    {
     "data": {
      "text/plain": [
       "{'name': ['riya', 'priya', 'rahul'],\n",
       " 'class': (2, 3, 2),\n",
       " 'id': {123, 456, 765},\n",
       " 'age': (5, 4, 4)}"
      ]
     },
     "execution_count": 54,
     "metadata": {},
     "output_type": "execute_result"
    }
   ],
   "source": [
    "#deep copy\n",
    "d16=d14.copy()\n",
    "d16"
   ]
  },
  {
   "cell_type": "code",
   "execution_count": 55,
   "id": "13ea9d46-912c-4cf5-8c64-db5af2ef690d",
   "metadata": {},
   "outputs": [
    {
     "data": {
      "text/plain": [
       "{'name': ['riya', 'priya', 'rahul'],\n",
       " 'class': (2, 3, 2),\n",
       " 'id': {123, 456, 765},\n",
       " 'age': (5, 4, 4)}"
      ]
     },
     "execution_count": 55,
     "metadata": {},
     "output_type": "execute_result"
    }
   ],
   "source": [
    "#shallow copy\n",
    "d16=d14\n",
    "d16"
   ]
  },
  {
   "cell_type": "code",
   "execution_count": 56,
   "id": "6eb4652d-bf06-46ca-b517-f473270cb2c1",
   "metadata": {},
   "outputs": [
    {
     "data": {
      "text/plain": [
       "{'name': ['riya', 'priya', 'rahul'], 'class': (2, 3, 2), 'age': (5, 4, 4)}"
      ]
     },
     "execution_count": 56,
     "metadata": {},
     "output_type": "execute_result"
    }
   ],
   "source": [
    "d14.pop(\"id\")\n",
    "d14"
   ]
  },
  {
   "cell_type": "code",
   "execution_count": 62,
   "id": "7dbb27bf-d62d-45de-b95e-25b6a55d8687",
   "metadata": {},
   "outputs": [
    {
     "data": {
      "text/plain": [
       "{1: ('a', 'b', 'c'), 2: ('a', 'b', 'c'), 3: ('a', 'b', 'c')}"
      ]
     },
     "execution_count": 62,
     "metadata": {},
     "output_type": "execute_result"
    }
   ],
   "source": [
    "d17={}\n",
    "d17.fromkeys((1,2,3) , ('a','b','c'))\n"
   ]
  },
  {
   "cell_type": "code",
   "execution_count": 63,
   "id": "c838c976-2ae9-4349-8505-73d8c37db17b",
   "metadata": {},
   "outputs": [],
   "source": [
    "d18={\"key1\":\"value1\",\"key2\":\"value2\"}\n",
    "d19={\"key3\":\"value3\",\"key4\":\"value4\"}"
   ]
  },
  {
   "cell_type": "code",
   "execution_count": 64,
   "id": "be800974-5002-4dbd-83b2-ecfe82f06775",
   "metadata": {},
   "outputs": [],
   "source": [
    "t1=(d18,d19)"
   ]
  },
  {
   "cell_type": "code",
   "execution_count": 65,
   "id": "acd57b03-c0ef-431d-8c70-d588e273e52e",
   "metadata": {},
   "outputs": [
    {
     "data": {
      "text/plain": [
       "{'key1': 'value1', 'key2': 'value2', 'key3': 'value3', 'key4': 'value4'}"
      ]
     },
     "execution_count": 65,
     "metadata": {},
     "output_type": "execute_result"
    }
   ],
   "source": [
    "d18.update(d19)\n",
    "d18"
   ]
  },
  {
   "cell_type": "code",
   "execution_count": 66,
   "id": "e7206f46-6819-4fe9-876d-8ab4b90e30e0",
   "metadata": {},
   "outputs": [
    {
     "data": {
      "text/plain": [
       "{'key3': 'value3', 'key4': 'value4', 'key1': 'value1', 'key2': 'value2'}"
      ]
     },
     "execution_count": 66,
     "metadata": {},
     "output_type": "execute_result"
    }
   ],
   "source": [
    "d19.update(d18)\n",
    "d19"
   ]
  },
  {
   "cell_type": "markdown",
   "id": "05ef3e51-5848-4744-8166-5287a26fac1a",
   "metadata": {},
   "source": [
    "dictionary comprehention"
   ]
  },
  {
   "cell_type": "code",
   "execution_count": 68,
   "id": "b4cda039-a3ec-4979-9e19-5db2d68a7872",
   "metadata": {},
   "outputs": [
    {
     "data": {
      "text/plain": [
       "{1: 1, 2: 4, 3: 9, 4: 16, 5: 25, 6: 36, 7: 49, 8: 64, 9: 81, 10: 100}"
      ]
     },
     "execution_count": 68,
     "metadata": {},
     "output_type": "execute_result"
    }
   ],
   "source": [
    "{i: i**2 for i in range(1,11)}"
   ]
  },
  {
   "cell_type": "code",
   "execution_count": 73,
   "id": "433354f3-1c52-40e9-8e54-59864fa77d2b",
   "metadata": {},
   "outputs": [
    {
     "data": {
      "text/plain": [
       "{1: 0.0,\n",
       " 2: 0.3010299956639812,\n",
       " 3: 0.47712125471966244,\n",
       " 4: 0.6020599913279624,\n",
       " 5: 0.6989700043360189,\n",
       " 6: 0.7781512503836436,\n",
       " 7: 0.8450980400142568,\n",
       " 8: 0.9030899869919435,\n",
       " 9: 0.9542425094393249,\n",
       " 10: 1.0}"
      ]
     },
     "execution_count": 73,
     "metadata": {},
     "output_type": "execute_result"
    }
   ],
   "source": [
    "import math\n",
    "d20={i: math.log10(i) for i in range(1,11)}\n",
    "d20"
   ]
  },
  {
   "cell_type": "code",
   "execution_count": 76,
   "id": "2a0807b2-cbdb-4e82-b7bb-3fab313a3c68",
   "metadata": {},
   "outputs": [
    {
     "data": {
      "text/plain": [
       "False"
      ]
     },
     "execution_count": 76,
     "metadata": {},
     "output_type": "execute_result"
    }
   ],
   "source": [
    "8.5 in d20"
   ]
  },
  {
   "cell_type": "code",
   "execution_count": 77,
   "id": "042f89e9-60d1-427b-b2be-15e5809e3a26",
   "metadata": {},
   "outputs": [
    {
     "data": {
      "text/plain": [
       "True"
      ]
     },
     "execution_count": 77,
     "metadata": {},
     "output_type": "execute_result"
    }
   ],
   "source": [
    "7 in d20"
   ]
  },
  {
   "cell_type": "code",
   "execution_count": 81,
   "id": "54abafee-615a-4ceb-bb94-f0b703eaa9cd",
   "metadata": {},
   "outputs": [
    {
     "name": "stdout",
     "output_type": "stream",
     "text": [
      "0.3010299956639812\n",
      "0.6020599913279624\n",
      "0.7781512503836436\n",
      "0.9030899869919435\n",
      "1.0\n"
     ]
    }
   ],
   "source": [
    "for i in d20.keys():\n",
    "    if(i%2==0):\n",
    "        print(d20.get(i))"
   ]
  },
  {
   "cell_type": "code",
   "execution_count": 82,
   "id": "05e56810-d062-426e-8070-2dfa30378501",
   "metadata": {},
   "outputs": [
    {
     "name": "stdout",
     "output_type": "stream",
     "text": [
      "400\n",
      "(200, 300, 400)\n"
     ]
    }
   ],
   "source": [
    "atuple = (100, 200, 300, 400, 500)\n",
    "\n",
    "print(atuple[-2])\n",
    "\n",
    "print(atuple[-4:-1])"
   ]
  },
  {
   "cell_type": "code",
   "execution_count": 83,
   "id": "6dbd8792-c760-460e-a4eb-a7b07a459226",
   "metadata": {},
   "outputs": [
    {
     "name": "stdout",
     "output_type": "stream",
     "text": [
      "<class 'str'>\n"
     ]
    }
   ],
   "source": [
    "atuple = (\"Orange\")\n",
    "\n",
    "print(type(atuple))"
   ]
  },
  {
   "cell_type": "code",
   "execution_count": 86,
   "id": "fb93f328-850c-43c0-aa32-697d6b204ba8",
   "metadata": {},
   "outputs": [
    {
     "data": {
      "text/plain": [
       "str"
      ]
     },
     "execution_count": 86,
     "metadata": {},
     "output_type": "execute_result"
    }
   ],
   "source": [
    "a=(\"a\")\n",
    "type(a)"
   ]
  },
  {
   "cell_type": "code",
   "execution_count": 87,
   "id": "3d47a103-3e00-407d-814a-8f747aae7ad6",
   "metadata": {},
   "outputs": [
    {
     "name": "stdout",
     "output_type": "stream",
     "text": [
      "(100, 100)\n"
     ]
    }
   ],
   "source": [
    "atuple = (100,)\n",
    "\n",
    "print(atuple * 2)"
   ]
  },
  {
   "cell_type": "code",
   "execution_count": 88,
   "id": "4158f0dd-05c1-478b-a238-e3827fbb13d4",
   "metadata": {},
   "outputs": [
    {
     "name": "stdout",
     "output_type": "stream",
     "text": [
      "None\n"
     ]
    }
   ],
   "source": [
    "dict1 = {\"name\": \"Mike\", \"salary\": 8000}\n",
    "\n",
    "temp = dict1.get(\"age\")\n",
    "\n",
    "print(temp)"
   ]
  },
  {
   "cell_type": "code",
   "execution_count": 89,
   "id": "bb39047b-9778-4f85-abf7-7820f080bb51",
   "metadata": {},
   "outputs": [
    {
     "name": "stdout",
     "output_type": "stream",
     "text": [
      "True\n"
     ]
    }
   ],
   "source": [
    "dict1 = {\"key1\":1, \"key2\":2}\n",
    "\n",
    "dict2 = {\"key2\":2, \"key1\":1}\n",
    "\n",
    "print(dict1 == dict2)"
   ]
  },
  {
   "cell_type": "code",
   "execution_count": null,
   "id": "7d2fbe2a-4d3d-4eef-af2c-d32cec3331cb",
   "metadata": {},
   "outputs": [],
   "source": [
    "set2 = set1.copy()\n",
    "\n",
    "set2 = set(set1)\n",
    "\n",
    "set2.update(set1)\n",
    "\n",
    "set2 = set1"
   ]
  },
  {
   "cell_type": "code",
   "execution_count": 97,
   "id": "9195f8af-262a-41a7-b5a8-d5723c3f4881",
   "metadata": {},
   "outputs": [],
   "source": [
    "set1={1,2}\n",
    "set2=set1"
   ]
  },
  {
   "cell_type": "code",
   "execution_count": 98,
   "id": "142fa738-b23b-4ab2-a531-8d982ea67f77",
   "metadata": {},
   "outputs": [
    {
     "data": {
      "text/plain": [
       "{1, 2}"
      ]
     },
     "execution_count": 98,
     "metadata": {},
     "output_type": "execute_result"
    }
   ],
   "source": [
    "set2"
   ]
  },
  {
   "cell_type": "code",
   "execution_count": 99,
   "id": "63806e15-1431-403a-a0ba-cdaffa4b1b0d",
   "metadata": {},
   "outputs": [
    {
     "name": "stdout",
     "output_type": "stream",
     "text": [
      "{'Pink', 'Blue'}\n"
     ]
    }
   ],
   "source": [
    "set1 = {\"Yellow\", \"Orange\", \"Black\"}\n",
    "\n",
    "set2 = {\"Orange\", \"Blue\", \"Pink\"}\n",
    "\n",
    "set3 = set2.difference(set1)\n",
    "\n",
    "print(set3)"
   ]
  },
  {
   "cell_type": "code",
   "execution_count": null,
   "id": "83a9a31d-9d91-4560-b648-f4b32f6567ae",
   "metadata": {},
   "outputs": [],
   "source": []
  }
 ],
 "metadata": {
  "kernelspec": {
   "display_name": "Python 3 (ipykernel)",
   "language": "python",
   "name": "python3"
  },
  "language_info": {
   "codemirror_mode": {
    "name": "ipython",
    "version": 3
   },
   "file_extension": ".py",
   "mimetype": "text/x-python",
   "name": "python",
   "nbconvert_exporter": "python",
   "pygments_lexer": "ipython3",
   "version": "3.10.8"
  }
 },
 "nbformat": 4,
 "nbformat_minor": 5
}
