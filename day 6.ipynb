{
 "cells": [
  {
   "cell_type": "markdown",
   "id": "7e78e523-b98d-4eb9-9eec-66fef461d1fd",
   "metadata": {},
   "source": [
    "# FUNCTION"
   ]
  },
  {
   "cell_type": "code",
   "execution_count": 1,
   "id": "0e654c19-0bb4-460d-bd51-fe560e3ad4bd",
   "metadata": {},
   "outputs": [
    {
     "name": "stdout",
     "output_type": "stream",
     "text": [
      "this is my prog\n"
     ]
    }
   ],
   "source": [
    "print(\"this is my prog\")"
   ]
  },
  {
   "cell_type": "code",
   "execution_count": 2,
   "id": "ab806d4b-763b-4da8-997a-cd2b70d78ad4",
   "metadata": {},
   "outputs": [
    {
     "data": {
      "text/plain": [
       "4"
      ]
     },
     "execution_count": 2,
     "metadata": {},
     "output_type": "execute_result"
    }
   ],
   "source": [
    "l=[1,2,3,4]\n",
    "len(l)"
   ]
  },
  {
   "cell_type": "code",
   "execution_count": 4,
   "id": "cd42f8ea-5a61-499b-9655-c7b461433ce9",
   "metadata": {},
   "outputs": [],
   "source": [
    "def test():\n",
    "    pass"
   ]
  },
  {
   "cell_type": "code",
   "execution_count": 5,
   "id": "8db7522e-6d12-415b-9403-849284514c5c",
   "metadata": {},
   "outputs": [],
   "source": [
    "def test1():\n",
    "    print(\"this is my first function\")"
   ]
  },
  {
   "cell_type": "code",
   "execution_count": 6,
   "id": "e7365be5-7c2d-4f53-b50c-c8027b024d65",
   "metadata": {},
   "outputs": [
    {
     "name": "stdout",
     "output_type": "stream",
     "text": [
      "this is my first function\n"
     ]
    }
   ],
   "source": [
    "test1()"
   ]
  },
  {
   "cell_type": "code",
   "execution_count": 7,
   "id": "a43919fe-d19d-4567-bbc9-8fb27facec2b",
   "metadata": {},
   "outputs": [
    {
     "data": {
      "text/plain": [
       "' test1() + \"name\" \\nit is not possible because test1 returns nonetype .to resilve this we have return something first.'"
      ]
     },
     "execution_count": 7,
     "metadata": {},
     "output_type": "execute_result"
    }
   ],
   "source": [
    "\"\"\" test1() + \"name\"  it is not possible because test1 returns nonetype .to resilve this we have return something first.\"\"\""
   ]
  },
  {
   "cell_type": "code",
   "execution_count": 8,
   "id": "1173efc2-10f5-423e-a0d0-39638e260ea4",
   "metadata": {},
   "outputs": [],
   "source": [
    "def test2():\n",
    "    return \"what is your \""
   ]
  },
  {
   "cell_type": "code",
   "execution_count": 9,
   "id": "9fed29e3-0d1d-409e-84a7-6863ab333194",
   "metadata": {},
   "outputs": [
    {
     "data": {
      "text/plain": [
       "'what is your name?'"
      ]
     },
     "execution_count": 9,
     "metadata": {},
     "output_type": "execute_result"
    }
   ],
   "source": [
    "test2() + \"name?\""
   ]
  },
  {
   "cell_type": "code",
   "execution_count": 10,
   "id": "6270a4c2-e4be-4e1f-a85a-9441772165fd",
   "metadata": {},
   "outputs": [],
   "source": [
    "def test3():\n",
    "    return 1,2,\"hi\",3.3"
   ]
  },
  {
   "cell_type": "code",
   "execution_count": 11,
   "id": "ab60eb60-1a7e-49b3-9484-c6e36baa8a45",
   "metadata": {},
   "outputs": [
    {
     "data": {
      "text/plain": [
       "(1, 2, 'hi', 3.3)"
      ]
     },
     "execution_count": 11,
     "metadata": {},
     "output_type": "execute_result"
    }
   ],
   "source": [
    "test3()"
   ]
  },
  {
   "cell_type": "code",
   "execution_count": 26,
   "id": "c83d1740-cd8b-48bf-a01f-f76a1cad7705",
   "metadata": {},
   "outputs": [
    {
     "data": {
      "text/plain": [
       "1"
      ]
     },
     "execution_count": 26,
     "metadata": {},
     "output_type": "execute_result"
    }
   ],
   "source": [
    "test3()[0]"
   ]
  },
  {
   "cell_type": "code",
   "execution_count": 27,
   "id": "3b16f416-f4db-4eb6-93d7-3e8050875be4",
   "metadata": {},
   "outputs": [
    {
     "data": {
      "text/plain": [
       "'hi'"
      ]
     },
     "execution_count": 27,
     "metadata": {},
     "output_type": "execute_result"
    }
   ],
   "source": [
    "test3()[2]"
   ]
  },
  {
   "cell_type": "code",
   "execution_count": 30,
   "id": "e7e9c2ab-b9b5-492f-99c6-23344e1eaa62",
   "metadata": {},
   "outputs": [
    {
     "data": {
      "text/plain": [
       "'hi'"
      ]
     },
     "execution_count": 30,
     "metadata": {},
     "output_type": "execute_result"
    }
   ],
   "source": [
    "A,B,C,D=test3()\n",
    "C"
   ]
  },
  {
   "cell_type": "code",
   "execution_count": 29,
   "id": "c0a1983f-51f0-4ef1-8f8b-6ca199826edc",
   "metadata": {},
   "outputs": [
    {
     "data": {
      "text/plain": [
       "1"
      ]
     },
     "execution_count": 29,
     "metadata": {},
     "output_type": "execute_result"
    }
   ],
   "source": [
    "A"
   ]
  },
  {
   "cell_type": "code",
   "execution_count": 14,
   "id": "5d7bdec4-80d1-4b46-b232-9ae21dadb93d",
   "metadata": {},
   "outputs": [
    {
     "data": {
      "text/plain": [
       "(1, 2, 3)"
      ]
     },
     "execution_count": 14,
     "metadata": {},
     "output_type": "execute_result"
    }
   ],
   "source": [
    "a=1,2,3\n",
    "a"
   ]
  },
  {
   "cell_type": "code",
   "execution_count": 15,
   "id": "952c8f37-1996-4689-90d0-c6959e19ba76",
   "metadata": {},
   "outputs": [
    {
     "data": {
      "text/plain": [
       "(1, 2.3, 'hii')"
      ]
     },
     "execution_count": 15,
     "metadata": {},
     "output_type": "execute_result"
    }
   ],
   "source": [
    "b=1,2.3,\"hii\"\n",
    "b"
   ]
  },
  {
   "cell_type": "code",
   "execution_count": 24,
   "id": "860ea90e-4f4b-44e8-b074-ad1ebaf59a15",
   "metadata": {},
   "outputs": [],
   "source": [
    "a,b,c,d=1,2.3,\"hii\",False"
   ]
  },
  {
   "cell_type": "code",
   "execution_count": 17,
   "id": "c3122067-bce5-4b40-beea-bb2a24a41673",
   "metadata": {},
   "outputs": [
    {
     "data": {
      "text/plain": [
       "1"
      ]
     },
     "execution_count": 17,
     "metadata": {},
     "output_type": "execute_result"
    }
   ],
   "source": [
    "a"
   ]
  },
  {
   "cell_type": "code",
   "execution_count": 18,
   "id": "de615a3c-2828-4186-ac30-369493f6ef70",
   "metadata": {},
   "outputs": [
    {
     "data": {
      "text/plain": [
       "2.3"
      ]
     },
     "execution_count": 18,
     "metadata": {},
     "output_type": "execute_result"
    }
   ],
   "source": [
    "b"
   ]
  },
  {
   "cell_type": "code",
   "execution_count": 19,
   "id": "3603475a-dcc5-489e-a906-1978a9550f2e",
   "metadata": {},
   "outputs": [
    {
     "data": {
      "text/plain": [
       "'hii'"
      ]
     },
     "execution_count": 19,
     "metadata": {},
     "output_type": "execute_result"
    }
   ],
   "source": [
    "c"
   ]
  },
  {
   "cell_type": "code",
   "execution_count": 20,
   "id": "5892508e-7901-4718-a277-97fb8caeb344",
   "metadata": {},
   "outputs": [
    {
     "data": {
      "text/plain": [
       "False"
      ]
     },
     "execution_count": 20,
     "metadata": {},
     "output_type": "execute_result"
    }
   ],
   "source": [
    "d"
   ]
  },
  {
   "cell_type": "code",
   "execution_count": 31,
   "id": "1cc693e4-6053-4f29-9e15-bcf186b1f830",
   "metadata": {},
   "outputs": [],
   "source": [
    "def test4():\n",
    "    a=3*4+5\n",
    "    return a"
   ]
  },
  {
   "cell_type": "code",
   "execution_count": 32,
   "id": "d62d2cde-07ad-4de1-b983-3bab96cbd9dc",
   "metadata": {},
   "outputs": [
    {
     "data": {
      "text/plain": [
       "17"
      ]
     },
     "execution_count": 32,
     "metadata": {},
     "output_type": "execute_result"
    }
   ],
   "source": [
    "test4()"
   ]
  },
  {
   "cell_type": "code",
   "execution_count": 33,
   "id": "65b48f98-f063-4f85-ab18-900c046e3778",
   "metadata": {},
   "outputs": [
    {
     "data": {
      "text/plain": [
       "int"
      ]
     },
     "execution_count": 33,
     "metadata": {},
     "output_type": "execute_result"
    }
   ],
   "source": [
    "type(test4())"
   ]
  },
  {
   "cell_type": "code",
   "execution_count": 2,
   "id": "313d7a8f-6e06-45df-a57b-801838ae0b01",
   "metadata": {},
   "outputs": [],
   "source": [
    "def test5(a,b):\n",
    "    c=a+b\n",
    "    return c"
   ]
  },
  {
   "cell_type": "code",
   "execution_count": 35,
   "id": "1ff514a2-7df8-4a9c-a88f-531746e60fe7",
   "metadata": {},
   "outputs": [
    {
     "data": {
      "text/plain": [
       "10"
      ]
     },
     "execution_count": 35,
     "metadata": {},
     "output_type": "execute_result"
    }
   ],
   "source": [
    "test5(5,5)"
   ]
  },
  {
   "cell_type": "code",
   "execution_count": 3,
   "id": "b38438f0-50d6-47ce-a46e-fa36ce1f980e",
   "metadata": {},
   "outputs": [
    {
     "data": {
      "text/plain": [
       "10"
      ]
     },
     "execution_count": 3,
     "metadata": {},
     "output_type": "execute_result"
    }
   ],
   "source": [
    "test5(b=5,a=5)"
   ]
  },
  {
   "cell_type": "code",
   "execution_count": 36,
   "id": "736c439b-9578-4547-964a-ef7c66a1f909",
   "metadata": {},
   "outputs": [
    {
     "data": {
      "text/plain": [
       "'how are you?'"
      ]
     },
     "execution_count": 36,
     "metadata": {},
     "output_type": "execute_result"
    }
   ],
   "source": [
    "test5(\"how are you\",\"?\")"
   ]
  },
  {
   "cell_type": "code",
   "execution_count": 37,
   "id": "76c12ad7-0529-49a7-affa-2a947aec7ada",
   "metadata": {},
   "outputs": [
    {
     "data": {
      "text/plain": [
       "1"
      ]
     },
     "execution_count": 37,
     "metadata": {},
     "output_type": "execute_result"
    }
   ],
   "source": [
    "test5(True,False)"
   ]
  },
  {
   "cell_type": "code",
   "execution_count": 38,
   "id": "a9ee2f44-9fe1-48b3-a478-d4b61b8e5815",
   "metadata": {},
   "outputs": [
    {
     "data": {
      "text/plain": [
       "[1, 2, 3, 2, 4, 6]"
      ]
     },
     "execution_count": 38,
     "metadata": {},
     "output_type": "execute_result"
    }
   ],
   "source": [
    "test5([1,2,3],[2,4,6])"
   ]
  },
  {
   "cell_type": "code",
   "execution_count": 39,
   "id": "4192be4f-d930-4d3a-a82f-9d9fbb51372f",
   "metadata": {},
   "outputs": [
    {
     "data": {
      "text/plain": [
       "(1, 2, 3, 2, 4, 6)"
      ]
     },
     "execution_count": 39,
     "metadata": {},
     "output_type": "execute_result"
    }
   ],
   "source": [
    "test5((1,2,3),(2,4,6))"
   ]
  },
  {
   "cell_type": "code",
   "execution_count": 41,
   "id": "34db5df4-4f9d-4be9-a4b6-a9fe111df55d",
   "metadata": {},
   "outputs": [],
   "source": [
    "#test5({1,2,3},{2,4,6})  we can't do this for set as it is immutable"
   ]
  },
  {
   "cell_type": "code",
   "execution_count": null,
   "id": "46cedb87-e07d-49f9-9017-7eba44994d65",
   "metadata": {},
   "outputs": [],
   "source": [
    "#create a function which will take i/p as list and give a final list with all numeric value"
   ]
  },
  {
   "cell_type": "code",
   "execution_count": 24,
   "id": "323e3464-d65c-4fe8-a433-52abc11b7107",
   "metadata": {},
   "outputs": [],
   "source": [
    "def findnumber(a):\n",
    "    l=[]\n",
    "    for i in a:\n",
    "        if type(i)==int or type(i)==float:\n",
    "                l.append(i)\n",
    "        \n",
    "    return l     \n",
    "            "
   ]
  },
  {
   "cell_type": "code",
   "execution_count": 25,
   "id": "f20f23eb-d80e-4643-829b-a2942ef45398",
   "metadata": {},
   "outputs": [
    {
     "data": {
      "text/plain": [
       "[1, 2, 3, 4.4, 5]"
      ]
     },
     "execution_count": 25,
     "metadata": {},
     "output_type": "execute_result"
    }
   ],
   "source": [
    "l1=[1,2,3,4.4,5,\"a\",'c',False,]\n",
    "findnumber(l1)"
   ]
  },
  {
   "cell_type": "code",
   "execution_count": 1,
   "id": "4ea75ca8-fc7c-4e63-9b1c-c259ea419e6b",
   "metadata": {},
   "outputs": [],
   "source": [
    "def test1(*args):\n",
    "        return args"
   ]
  },
  {
   "cell_type": "code",
   "execution_count": 2,
   "id": "cc5985ff-890a-4f7d-97b2-355218171eec",
   "metadata": {},
   "outputs": [
    {
     "data": {
      "text/plain": [
       "()"
      ]
     },
     "execution_count": 2,
     "metadata": {},
     "output_type": "execute_result"
    }
   ],
   "source": [
    "test1()"
   ]
  },
  {
   "cell_type": "code",
   "execution_count": 3,
   "id": "7ddc5530-5042-4ee7-a5bc-a21d6263f06d",
   "metadata": {},
   "outputs": [
    {
     "data": {
      "text/plain": [
       "(1, 2, 3)"
      ]
     },
     "execution_count": 3,
     "metadata": {},
     "output_type": "execute_result"
    }
   ],
   "source": [
    "test1(1,2,3)"
   ]
  },
  {
   "cell_type": "code",
   "execution_count": 4,
   "id": "269c8843-33eb-4a27-a3e7-31e58280e960",
   "metadata": {},
   "outputs": [
    {
     "data": {
      "text/plain": [
       "(1, 2, 3, 4.4, 'hiii')"
      ]
     },
     "execution_count": 4,
     "metadata": {},
     "output_type": "execute_result"
    }
   ],
   "source": [
    "test1(1,2,3,4.4,\"hiii\")"
   ]
  },
  {
   "cell_type": "code",
   "execution_count": 12,
   "id": "272c49f2-727c-4a3d-a06e-a92e8d1244f4",
   "metadata": {},
   "outputs": [],
   "source": [
    "def test2(*args,a):\n",
    "        return args,a"
   ]
  },
  {
   "cell_type": "code",
   "execution_count": 15,
   "id": "e8dd8888-feae-4563-956a-4ee01389a5d0",
   "metadata": {},
   "outputs": [
    {
     "data": {
      "text/plain": [
       "((2,), 1)"
      ]
     },
     "execution_count": 15,
     "metadata": {},
     "output_type": "execute_result"
    }
   ],
   "source": [
    "test2(2,a=1)"
   ]
  },
  {
   "cell_type": "code",
   "execution_count": 16,
   "id": "5a477081-c65a-4e15-ae60-a1cc26d02f3d",
   "metadata": {},
   "outputs": [],
   "source": [
    "def test3(*args):\n",
    "    l=[]\n",
    "    for i in args:\n",
    "        if type(i)== list:\n",
    "            l.append(i)\n",
    "    return l"
   ]
  },
  {
   "cell_type": "code",
   "execution_count": 17,
   "id": "77bc5402-686a-4c0a-b3fa-af6b3637deca",
   "metadata": {},
   "outputs": [
    {
     "data": {
      "text/plain": [
       "[[5, 5, 6, 7, 8]]"
      ]
     },
     "execution_count": 17,
     "metadata": {},
     "output_type": "execute_result"
    }
   ],
   "source": [
    "test3(1,2,3.3,[5,5,6,7,8],(7,9),\"hiii\",{0,1})"
   ]
  },
  {
   "cell_type": "code",
   "execution_count": 18,
   "id": "62316b34-c931-4645-b6da-a96bc4bba077",
   "metadata": {},
   "outputs": [],
   "source": [
    "def test4(**args):\n",
    "        return args"
   ]
  },
  {
   "cell_type": "code",
   "execution_count": 19,
   "id": "f1e8e7de-4726-4c15-a41e-88c1cc997311",
   "metadata": {},
   "outputs": [
    {
     "data": {
      "text/plain": [
       "dict"
      ]
     },
     "execution_count": 19,
     "metadata": {},
     "output_type": "execute_result"
    }
   ],
   "source": [
    "type(test4())"
   ]
  },
  {
   "cell_type": "code",
   "execution_count": 20,
   "id": "042ee5ee-6536-4516-802a-efba788a2fb9",
   "metadata": {},
   "outputs": [
    {
     "data": {
      "text/plain": [
       "{'a': 2, 'b': 4, 'c': 6}"
      ]
     },
     "execution_count": 20,
     "metadata": {},
     "output_type": "execute_result"
    }
   ],
   "source": [
    "test4(a=2,b=4,c=6)"
   ]
  },
  {
   "cell_type": "code",
   "execution_count": 23,
   "id": "e22568a3-cbf7-4419-b49a-945696cb4db9",
   "metadata": {},
   "outputs": [],
   "source": [
    "def test3(**args):\n",
    "    for i in args.keys():\n",
    "        if type(args[i])== list:\n",
    "            return i,args[i]"
   ]
  },
  {
   "cell_type": "code",
   "execution_count": 24,
   "id": "dd7feb60-6224-4f61-9965-863068057599",
   "metadata": {},
   "outputs": [
    {
     "data": {
      "text/plain": [
       "('c', [5, 6, 7])"
      ]
     },
     "execution_count": 24,
     "metadata": {},
     "output_type": "execute_result"
    }
   ],
   "source": [
    "test3(a=1,b=2,c=[5,6,7],d=(1,2,3))"
   ]
  },
  {
   "cell_type": "code",
   "execution_count": 25,
   "id": "f42a0ca2-8897-4796-aea4-6c88776e0bce",
   "metadata": {},
   "outputs": [],
   "source": [
    "def test4(*args,**kargs):\n",
    "    return args,kargs"
   ]
  },
  {
   "cell_type": "code",
   "execution_count": 26,
   "id": "3fe5d8de-3569-49ff-a18b-bbad2bc42de4",
   "metadata": {},
   "outputs": [
    {
     "data": {
      "text/plain": [
       "((1, 2, 3), {'a': 1, 'b': 2})"
      ]
     },
     "execution_count": 26,
     "metadata": {},
     "output_type": "execute_result"
    }
   ],
   "source": [
    "test4(1,2,3,a=1,b=2)"
   ]
  },
  {
   "cell_type": "markdown",
   "id": "6eddc1b6-5e8f-43dc-a4a5-6cea2143d289",
   "metadata": {},
   "source": [
    "# generator funtion"
   ]
  },
  {
   "cell_type": "code",
   "execution_count": 27,
   "id": "b864d40a-abf9-482f-b16b-0456efe97cce",
   "metadata": {},
   "outputs": [
    {
     "data": {
      "text/plain": [
       "range(1, 11)"
      ]
     },
     "execution_count": 27,
     "metadata": {},
     "output_type": "execute_result"
    }
   ],
   "source": [
    "range(1,11)"
   ]
  },
  {
   "cell_type": "code",
   "execution_count": 28,
   "id": "4a8b25d9-068a-421b-9d7d-17a162df7907",
   "metadata": {},
   "outputs": [
    {
     "name": "stdout",
     "output_type": "stream",
     "text": [
      "1,2,3,4,5,6,7,8,9,10,"
     ]
    }
   ],
   "source": [
    "for i in range(1,11):\n",
    "    print(i,end=\",\")"
   ]
  },
  {
   "cell_type": "code",
   "execution_count": 29,
   "id": "ccfbfd65-4c73-48b8-aac8-99e2ceb1042d",
   "metadata": {},
   "outputs": [],
   "source": [
    "#funtion to print fibonacci series till nth term\n",
    "def fibo(n):\n",
    "    a,b=0,1\n",
    "    for i in range(n):\n",
    "        yield a\n",
    "        a,b=b,a+b"
   ]
  },
  {
   "cell_type": "code",
   "execution_count": 30,
   "id": "9b9ba24a-bb5e-4d5e-8a3a-e75178283703",
   "metadata": {},
   "outputs": [
    {
     "data": {
      "text/plain": [
       "<generator object fibo at 0x7ff84db44ba0>"
      ]
     },
     "execution_count": 30,
     "metadata": {},
     "output_type": "execute_result"
    }
   ],
   "source": [
    "fibo(10)"
   ]
  },
  {
   "cell_type": "code",
   "execution_count": 32,
   "id": "731d8f5b-8127-4361-9aef-96f75728b1a1",
   "metadata": {},
   "outputs": [
    {
     "name": "stdout",
     "output_type": "stream",
     "text": [
      "0,1,1,2,3,5,8,13,21,34,"
     ]
    }
   ],
   "source": [
    "for i in fibo(10) :\n",
    "    print(i,end=\",\")"
   ]
  },
  {
   "cell_type": "code",
   "execution_count": 35,
   "id": "fb412cfe-3c20-4bd5-a0a6-d8a1a35989e1",
   "metadata": {},
   "outputs": [],
   "source": [
    "#funtion to print fibonacci series till n term\n",
    "def fib(n):\n",
    "    a,b=0,1\n",
    "    while(a<=n):\n",
    "        yield a\n",
    "        a,b=b,a+b"
   ]
  },
  {
   "cell_type": "code",
   "execution_count": 37,
   "id": "e0eb9312-ca0e-4d88-b360-df681cfbfdfa",
   "metadata": {},
   "outputs": [
    {
     "name": "stdout",
     "output_type": "stream",
     "text": [
      "0,1,1,2,3,5,8,"
     ]
    }
   ],
   "source": [
    "for i in fib(10) :\n",
    "    print(i,end=\",\")"
   ]
  },
  {
   "cell_type": "code",
   "execution_count": null,
   "id": "8000e8b6-ae3a-473f-93c9-71ef92dfc95a",
   "metadata": {},
   "outputs": [],
   "source": []
  },
  {
   "cell_type": "code",
   "execution_count": null,
   "id": "7c90533d-0f6c-4b8e-a5ba-77f2a3108644",
   "metadata": {},
   "outputs": [],
   "source": []
  },
  {
   "cell_type": "code",
   "execution_count": null,
   "id": "05f854be-d198-4399-939f-4bd8fa3bc147",
   "metadata": {},
   "outputs": [],
   "source": []
  }
 ],
 "metadata": {
  "kernelspec": {
   "display_name": "Python 3 (ipykernel)",
   "language": "python",
   "name": "python3"
  },
  "language_info": {
   "codemirror_mode": {
    "name": "ipython",
    "version": 3
   },
   "file_extension": ".py",
   "mimetype": "text/x-python",
   "name": "python",
   "nbconvert_exporter": "python",
   "pygments_lexer": "ipython3",
   "version": "3.10.8"
  }
 },
 "nbformat": 4,
 "nbformat_minor": 5
}
