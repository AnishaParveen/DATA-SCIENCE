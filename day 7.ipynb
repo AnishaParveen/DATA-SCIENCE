{
 "cells": [
  {
   "cell_type": "markdown",
   "id": "af430622-e306-4588-b730-e42c2bdc9679",
   "metadata": {},
   "source": [
    "# Lambda Function"
   ]
  },
  {
   "cell_type": "code",
   "execution_count": 1,
   "id": "999db61e-9bac-4555-841e-3ba3cf65fb03",
   "metadata": {},
   "outputs": [],
   "source": [
    "def power(n,p):\n",
    "    return n**p"
   ]
  },
  {
   "cell_type": "code",
   "execution_count": 2,
   "id": "93b4eaac-67e2-40d2-b796-49313ba5e086",
   "metadata": {},
   "outputs": [
    {
     "data": {
      "text/plain": [
       "9"
      ]
     },
     "execution_count": 2,
     "metadata": {},
     "output_type": "execute_result"
    }
   ],
   "source": [
    "power(3,2)"
   ]
  },
  {
   "cell_type": "code",
   "execution_count": 3,
   "id": "cfeddfbf-4f39-405c-b717-37a3f897b0e8",
   "metadata": {},
   "outputs": [
    {
     "data": {
      "text/plain": [
       "<function __main__.<lambda>(n, p)>"
      ]
     },
     "execution_count": 3,
     "metadata": {},
     "output_type": "execute_result"
    }
   ],
   "source": [
    "lambda n,p:n**p"
   ]
  },
  {
   "cell_type": "code",
   "execution_count": 5,
   "id": "d43af8d4-ad1a-41a4-9aa6-6b9294162f9d",
   "metadata": {},
   "outputs": [],
   "source": [
    "a=lambda n,p:n**p"
   ]
  },
  {
   "cell_type": "code",
   "execution_count": 6,
   "id": "4f785844-530f-4991-959e-fec9f471dd81",
   "metadata": {},
   "outputs": [
    {
     "data": {
      "text/plain": [
       "9"
      ]
     },
     "execution_count": 6,
     "metadata": {},
     "output_type": "execute_result"
    }
   ],
   "source": [
    "a(3,2)"
   ]
  },
  {
   "cell_type": "code",
   "execution_count": 7,
   "id": "179e0dd4-23de-4f2b-8f1e-d59c33235aa5",
   "metadata": {},
   "outputs": [],
   "source": [
    "add=lambda a,b:a+b"
   ]
  },
  {
   "cell_type": "code",
   "execution_count": 8,
   "id": "667ef7a9-9b53-404a-aa93-5291e2444b43",
   "metadata": {},
   "outputs": [
    {
     "data": {
      "text/plain": [
       "20"
      ]
     },
     "execution_count": 8,
     "metadata": {},
     "output_type": "execute_result"
    }
   ],
   "source": [
    "add(5,15)"
   ]
  },
  {
   "cell_type": "code",
   "execution_count": 9,
   "id": "a28591d3-7f74-424f-a3e8-c862e23473a5",
   "metadata": {},
   "outputs": [],
   "source": [
    "c_to_f= lambda c: (9/5)*c+32"
   ]
  },
  {
   "cell_type": "code",
   "execution_count": 10,
   "id": "6f33d7ff-4cd4-4c6b-81a9-3f05ad0c096c",
   "metadata": {},
   "outputs": [
    {
     "data": {
      "text/plain": [
       "93.2"
      ]
     },
     "execution_count": 10,
     "metadata": {},
     "output_type": "execute_result"
    }
   ],
   "source": [
    "c_to_f(34)"
   ]
  },
  {
   "cell_type": "code",
   "execution_count": 12,
   "id": "81769477-749a-4028-8b79-49a4c7b747d2",
   "metadata": {},
   "outputs": [],
   "source": [
    "max=lambda a,b: a if a>b else b"
   ]
  },
  {
   "cell_type": "code",
   "execution_count": 13,
   "id": "3ecf988d-da98-413e-b15c-8b6324544f34",
   "metadata": {},
   "outputs": [
    {
     "data": {
      "text/plain": [
       "5"
      ]
     },
     "execution_count": 13,
     "metadata": {},
     "output_type": "execute_result"
    }
   ],
   "source": [
    "max(5,1)"
   ]
  },
  {
   "cell_type": "code",
   "execution_count": 15,
   "id": "da7d9291-5717-4417-92aa-85e23269a528",
   "metadata": {},
   "outputs": [],
   "source": [
    "s=\"pwskills\""
   ]
  },
  {
   "cell_type": "code",
   "execution_count": 14,
   "id": "a8b31e47-7e36-4863-8a96-7958f336971d",
   "metadata": {},
   "outputs": [],
   "source": [
    "Len=lambda s: len(s)"
   ]
  },
  {
   "cell_type": "code",
   "execution_count": 16,
   "id": "97c92d97-b24b-4e38-9c46-9b1094220162",
   "metadata": {},
   "outputs": [
    {
     "data": {
      "text/plain": [
       "8"
      ]
     },
     "execution_count": 16,
     "metadata": {},
     "output_type": "execute_result"
    }
   ],
   "source": [
    "Len(s)"
   ]
  },
  {
   "cell_type": "markdown",
   "id": "9598a9d9-22b3-4afb-b3d4-80d08a245660",
   "metadata": {},
   "source": [
    "# Map , Reduce , Filter Function"
   ]
  },
  {
   "cell_type": "code",
   "execution_count": 17,
   "id": "b3f36c83-3c24-4dc8-a880-10ad190e906d",
   "metadata": {},
   "outputs": [],
   "source": [
    "l=[1,2,3,4,5]"
   ]
  },
  {
   "cell_type": "code",
   "execution_count": 21,
   "id": "4b5425a8-1ec2-466a-bd5f-da2a77dcf88b",
   "metadata": {},
   "outputs": [],
   "source": [
    "def sq(l):\n",
    "    l1=[]\n",
    "    for i in l:\n",
    "        l1.append(i**2)\n",
    "    return l1"
   ]
  },
  {
   "cell_type": "code",
   "execution_count": 22,
   "id": "9e1ae9a1-07eb-4e10-9fc3-bb31532557f2",
   "metadata": {},
   "outputs": [
    {
     "data": {
      "text/plain": [
       "[1, 4, 9, 16, 25]"
      ]
     },
     "execution_count": 22,
     "metadata": {},
     "output_type": "execute_result"
    }
   ],
   "source": [
    "sq(l)"
   ]
  },
  {
   "cell_type": "code",
   "execution_count": 23,
   "id": "b186e8c0-fd3f-4f2f-bd43-1130683d35c7",
   "metadata": {},
   "outputs": [],
   "source": [
    "def sq1(x):\n",
    "    return x**2"
   ]
  },
  {
   "cell_type": "code",
   "execution_count": 25,
   "id": "13af6488-3b14-4d6b-9cf0-e2b504f911e9",
   "metadata": {},
   "outputs": [
    {
     "data": {
      "text/plain": [
       "[1, 4, 9, 16, 25]"
      ]
     },
     "execution_count": 25,
     "metadata": {},
     "output_type": "execute_result"
    }
   ],
   "source": [
    "l=[1,2,3,4,5]\n",
    "list(map(sq1,l))"
   ]
  },
  {
   "cell_type": "code",
   "execution_count": 26,
   "id": "35e36a63-45a7-4976-bafd-4387e4ef7ab7",
   "metadata": {},
   "outputs": [
    {
     "data": {
      "text/plain": [
       "[1, 4, 9, 16, 25]"
      ]
     },
     "execution_count": 26,
     "metadata": {},
     "output_type": "execute_result"
    }
   ],
   "source": [
    "list(map(lambda x: x**2,l))"
   ]
  },
  {
   "cell_type": "code",
   "execution_count": 27,
   "id": "1c46b365-02cd-4155-9794-8373b68dedb3",
   "metadata": {},
   "outputs": [],
   "source": [
    "l1=[1,2,3,4,5]\n",
    "l2=[6,7,8,9,10]"
   ]
  },
  {
   "cell_type": "code",
   "execution_count": 28,
   "id": "15261b2a-8b67-470c-9aec-848959db1585",
   "metadata": {},
   "outputs": [
    {
     "data": {
      "text/plain": [
       "[7, 9, 11, 13, 15]"
      ]
     },
     "execution_count": 28,
     "metadata": {},
     "output_type": "execute_result"
    }
   ],
   "source": [
    "list(map(lambda x,y:x+y,l1,l2))"
   ]
  },
  {
   "cell_type": "code",
   "execution_count": 29,
   "id": "3296bf2b-f778-4cd2-ac04-9755c9181111",
   "metadata": {},
   "outputs": [],
   "source": [
    "s=\"pwskills\"\n",
    "up=lambda x: x.upper()"
   ]
  },
  {
   "cell_type": "code",
   "execution_count": 30,
   "id": "8f7c04f5-fb1e-449d-9ce5-d602fdd5670f",
   "metadata": {},
   "outputs": [
    {
     "data": {
      "text/plain": [
       "['P', 'W', 'S', 'K', 'I', 'L', 'L', 'S']"
      ]
     },
     "execution_count": 30,
     "metadata": {},
     "output_type": "execute_result"
    }
   ],
   "source": [
    "list(map(up,s))"
   ]
  },
  {
   "cell_type": "code",
   "execution_count": 32,
   "id": "62225019-8ba8-4074-b6d6-be750527c9c6",
   "metadata": {},
   "outputs": [
    {
     "data": {
      "text/plain": [
       "15"
      ]
     },
     "execution_count": 32,
     "metadata": {},
     "output_type": "execute_result"
    }
   ],
   "source": [
    "from functools import reduce\n",
    "l=[1,2,3,4,5]\n",
    "reduce(lambda x,y:x+y,l)"
   ]
  },
  {
   "cell_type": "markdown",
   "id": "d83ff6f5-f7d5-4657-96bd-88e96531f9c0",
   "metadata": {},
   "source": [
    "when reduce function will not work"
   ]
  },
  {
   "cell_type": "code",
   "execution_count": 37,
   "id": "a72d6bcd-b69f-4280-a30d-c5892be8e8cd",
   "metadata": {},
   "outputs": [],
   "source": [
    "\"\"\"from functools import reduce\n",
    "l=[1,2,3,4,5]\n",
    "reduce(lambda x,y,z:x+y+z,l)\n",
    "more than two parameter will not work\"\"\""
   ]
  },
  {
   "cell_type": "code",
   "execution_count": null,
   "id": "fd4032ad-c6c8-4bb9-a937-6d661c482804",
   "metadata": {},
   "outputs": [],
   "source": [
    "\"\"\"from functools import reduce\n",
    "l=[]\n",
    "reduce(lambda x,y:x+y,l)\n",
    "empty list will not work as it requires a initial value\"\"\""
   ]
  },
  {
   "cell_type": "code",
   "execution_count": 40,
   "id": "4a1d8451-8264-4a77-aa55-1ed834aef029",
   "metadata": {},
   "outputs": [
    {
     "data": {
      "text/plain": [
       "5"
      ]
     },
     "execution_count": 40,
     "metadata": {},
     "output_type": "execute_result"
    }
   ],
   "source": [
    "l=[1,2,3,4,5]\n",
    "reduce(lambda x,y:x if x>y else y,l)"
   ]
  },
  {
   "cell_type": "code",
   "execution_count": null,
   "id": "7db96185-8e5f-4457-913a-ee3867f41b3f",
   "metadata": {},
   "outputs": [],
   "source": [
    "list(filter(lambda x: x %2 == 0,l))"
   ]
  },
  {
   "cell_type": "code",
   "execution_count": 42,
   "id": "b3435d94-8609-434f-bcf6-55d3ba9bfbb6",
   "metadata": {},
   "outputs": [
    {
     "data": {
      "text/plain": [
       "[-1, -3]"
      ]
     },
     "execution_count": 42,
     "metadata": {},
     "output_type": "execute_result"
    }
   ],
   "source": [
    "l=[-1,2,-3,4,5]\n",
    "list(filter(lambda x: x <0,l))"
   ]
  },
  {
   "cell_type": "code",
   "execution_count": 43,
   "id": "da4c8e01-9789-4fd5-a94d-b26d9add2a38",
   "metadata": {},
   "outputs": [
    {
     "data": {
      "text/plain": [
       "[2, 4, 5]"
      ]
     },
     "execution_count": 43,
     "metadata": {},
     "output_type": "execute_result"
    }
   ],
   "source": [
    "l=[-1,2,-3,4,5]\n",
    "list(filter(lambda x: x >0,l))"
   ]
  },
  {
   "cell_type": "code",
   "execution_count": 44,
   "id": "395be9b2-98d1-4925-a9d9-09852873f22c",
   "metadata": {},
   "outputs": [
    {
     "name": "stdout",
     "output_type": "stream",
     "text": [
      "120\n"
     ]
    }
   ],
   "source": [
    "numbers = [1, 2, 3, 4, 5]\n",
    "\n",
    "product = reduce(lambda x, y: x*y, numbers)\n",
    "\n",
    "print(product)"
   ]
  },
  {
   "cell_type": "code",
   "execution_count": null,
   "id": "51aaa612-0ec1-40b9-abdf-9024ef11b05d",
   "metadata": {},
   "outputs": [],
   "source": []
  },
  {
   "cell_type": "code",
   "execution_count": null,
   "id": "5a4a0d2c-7cc2-4ac4-b0a7-2f34593d8460",
   "metadata": {},
   "outputs": [],
   "source": []
  },
  {
   "cell_type": "code",
   "execution_count": null,
   "id": "6a106500-3325-4c9e-9429-1a3f51843027",
   "metadata": {},
   "outputs": [],
   "source": []
  },
  {
   "cell_type": "code",
   "execution_count": null,
   "id": "f40aaf01-7bbb-4aeb-a580-6c1a41117b14",
   "metadata": {},
   "outputs": [],
   "source": []
  }
 ],
 "metadata": {
  "kernelspec": {
   "display_name": "Python 3 (ipykernel)",
   "language": "python",
   "name": "python3"
  },
  "language_info": {
   "codemirror_mode": {
    "name": "ipython",
    "version": 3
   },
   "file_extension": ".py",
   "mimetype": "text/x-python",
   "name": "python",
   "nbconvert_exporter": "python",
   "pygments_lexer": "ipython3",
   "version": "3.10.8"
  }
 },
 "nbformat": 4,
 "nbformat_minor": 5
}
