{
 "cells": [
  {
   "cell_type": "markdown",
   "id": "69303847-161f-4b8b-8b5e-c98b8067f47b",
   "metadata": {},
   "source": [
    "# OOPs"
   ]
  },
  {
   "cell_type": "code",
   "execution_count": 2,
   "id": "2ef77ce6-7ac5-42eb-ad2e-b2cda026ecd9",
   "metadata": {},
   "outputs": [
    {
     "name": "stdout",
     "output_type": "stream",
     "text": [
      "<class 'int'>\n"
     ]
    }
   ],
   "source": [
    "a=1\n",
    "print(type(a))"
   ]
  },
  {
   "cell_type": "code",
   "execution_count": 3,
   "id": "bd368dc7-8a29-4453-b958-36a0ba5b8c4f",
   "metadata": {},
   "outputs": [
    {
     "name": "stdout",
     "output_type": "stream",
     "text": [
      "<class 'str'>\n"
     ]
    }
   ],
   "source": [
    "a=\"jdbsihbhgbvw\"\n",
    "print(type(a))"
   ]
  },
  {
   "cell_type": "code",
   "execution_count": 5,
   "id": "dbcb80cc-6318-4695-bd96-97d7eedbc70d",
   "metadata": {},
   "outputs": [],
   "source": [
    "#class\n",
    "class test:\n",
    "    pass"
   ]
  },
  {
   "cell_type": "code",
   "execution_count": 6,
   "id": "377cbf90-34c3-4d30-8866-00c6dc8cc92e",
   "metadata": {},
   "outputs": [],
   "source": [
    "#object\n",
    "a=test()"
   ]
  },
  {
   "cell_type": "code",
   "execution_count": 7,
   "id": "867bbb68-65c6-4267-a263-784a5b0c4057",
   "metadata": {},
   "outputs": [
    {
     "name": "stdout",
     "output_type": "stream",
     "text": [
      "<class '__main__.test'>\n"
     ]
    }
   ],
   "source": [
    "print(type(a))"
   ]
  },
  {
   "cell_type": "code",
   "execution_count": 10,
   "id": "defae6fe-27d5-4793-a81e-f82f16baa0f2",
   "metadata": {},
   "outputs": [],
   "source": [
    "class pwskills:\n",
    "    def welcome(self):\n",
    "        print(\"welcome to pwskills\")"
   ]
  },
  {
   "cell_type": "code",
   "execution_count": 12,
   "id": "f2e0397a-580b-4370-bec8-f154240e07c1",
   "metadata": {},
   "outputs": [
    {
     "name": "stdout",
     "output_type": "stream",
     "text": [
      "welcome to pwskills\n"
     ]
    }
   ],
   "source": [
    "ob = pwskills()\n",
    "ob.welcome()"
   ]
  },
  {
   "cell_type": "code",
   "execution_count": 20,
   "id": "af505283-858e-4b03-924e-db9085b0c64c",
   "metadata": {},
   "outputs": [],
   "source": [
    "#constructor\n",
    "class pw:\n",
    "    def __init__(self,ph,e_id,s_id):\n",
    "        self.ph=ph\n",
    "        self.e_id=e_id\n",
    "        self.s_id=s_id\n",
    "    def display_details(self):\n",
    "        return self.ph,self.e_id,self.s_id"
   ]
  },
  {
   "cell_type": "code",
   "execution_count": 22,
   "id": "e6dc137c-9010-408e-b668-2f05942ca0e1",
   "metadata": {},
   "outputs": [
    {
     "data": {
      "text/plain": [
       "(545465, 'bdwo@gmail.com', 546)"
      ]
     },
     "execution_count": 22,
     "metadata": {},
     "output_type": "execute_result"
    }
   ],
   "source": [
    "rohan=pw(545465,\"bdwo@gmail.com\",546)\n",
    "rohan.display_details()"
   ]
  },
  {
   "cell_type": "code",
   "execution_count": 23,
   "id": "8925031c-4a56-4dc4-bd39-b1d9b42a7034",
   "metadata": {},
   "outputs": [],
   "source": [
    "#self is not a keyword we can use ani variable instead of self\n",
    "class pw1:\n",
    "    def __init__(a,ph,e_id,s_id):\n",
    "        a.ph=ph\n",
    "        a.e_id=e_id\n",
    "        a.s_id=s_id\n",
    "    def display_details(a):\n",
    "        return a.ph,a.e_id,a.s_id"
   ]
  },
  {
   "cell_type": "code",
   "execution_count": 24,
   "id": "90334af8-8243-40a0-8506-84de846dc04f",
   "metadata": {},
   "outputs": [
    {
     "data": {
      "text/plain": [
       "(545465, 'bdwo@gmail.com', 546)"
      ]
     },
     "execution_count": 24,
     "metadata": {},
     "output_type": "execute_result"
    }
   ],
   "source": [
    "rohan=pw1(545465,\"bdwo@gmail.com\",546)\n",
    "rohan.display_details()"
   ]
  },
  {
   "cell_type": "code",
   "execution_count": null,
   "id": "9f87b122-fcb5-4098-bd66-c048ea32289a",
   "metadata": {},
   "outputs": [],
   "source": []
  }
 ],
 "metadata": {
  "kernelspec": {
   "display_name": "Python 3 (ipykernel)",
   "language": "python",
   "name": "python3"
  },
  "language_info": {
   "codemirror_mode": {
    "name": "ipython",
    "version": 3
   },
   "file_extension": ".py",
   "mimetype": "text/x-python",
   "name": "python",
   "nbconvert_exporter": "python",
   "pygments_lexer": "ipython3",
   "version": "3.10.8"
  }
 },
 "nbformat": 4,
 "nbformat_minor": 5
}
