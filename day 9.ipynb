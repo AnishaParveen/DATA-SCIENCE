{
 "cells": [
  {
   "cell_type": "markdown",
   "id": "72d26694-d449-4144-aee9-9310b8bd044f",
   "metadata": {},
   "source": [
    "# polymorphism"
   ]
  },
  {
   "cell_type": "code",
   "execution_count": 1,
   "id": "4b853ad5-82db-434f-a685-51fcbd852409",
   "metadata": {},
   "outputs": [],
   "source": [
    "def test(a,b):\n",
    "    return a+b"
   ]
  },
  {
   "cell_type": "code",
   "execution_count": 2,
   "id": "6d5231dc-51ef-42f0-bfd0-6d0f6f3d0735",
   "metadata": {},
   "outputs": [
    {
     "data": {
      "text/plain": [
       "9"
      ]
     },
     "execution_count": 2,
     "metadata": {},
     "output_type": "execute_result"
    }
   ],
   "source": [
    "test(4,5)"
   ]
  },
  {
   "cell_type": "code",
   "execution_count": 6,
   "id": "a95db136-0c15-43ca-9b58-2e4650917d79",
   "metadata": {},
   "outputs": [
    {
     "data": {
      "text/plain": [
       "'how are you'"
      ]
     },
     "execution_count": 6,
     "metadata": {},
     "output_type": "execute_result"
    }
   ],
   "source": [
    "test(\"how are \",\"you\")"
   ]
  },
  {
   "cell_type": "code",
   "execution_count": 5,
   "id": "07367e3d-695f-486b-8780-34371d4eb3e3",
   "metadata": {},
   "outputs": [
    {
     "data": {
      "text/plain": [
       "[1, 2, 3, 4, 6]"
      ]
     },
     "execution_count": 5,
     "metadata": {},
     "output_type": "execute_result"
    }
   ],
   "source": [
    "test([1,2,3],[4,6])"
   ]
  },
  {
   "cell_type": "code",
   "execution_count": 11,
   "id": "157d21c4-b5af-470e-97e6-49c3919062ef",
   "metadata": {},
   "outputs": [],
   "source": [
    "class DSM:\n",
    "    def syllabus(self):\n",
    "        print(\"the syllabus of DSM\")\n",
    "class WEB:\n",
    "    def syllabus(self):\n",
    "        print(\"the syllabus of WEB\")\n",
    "def class_parcer(class_obj):\n",
    "    for i in class_obj:\n",
    "        i.syllabus()"
   ]
  },
  {
   "cell_type": "code",
   "execution_count": 12,
   "id": "2748a99e-f9d7-4621-a257-ad58cd8cc1ef",
   "metadata": {},
   "outputs": [
    {
     "name": "stdout",
     "output_type": "stream",
     "text": [
      "the syllabus of DSM\n",
      "the syllabus of WEB\n"
     ]
    }
   ],
   "source": [
    "obj1 = DSM()\n",
    "obj2 = WEB()\n",
    "class_obj=[obj1,obj2]\n",
    "class_parcer(class_obj)"
   ]
  },
  {
   "cell_type": "markdown",
   "id": "ad602320-a2d4-41be-8f3e-280b3492666f",
   "metadata": {},
   "source": [
    "# Encapsulation"
   ]
  },
  {
   "cell_type": "code",
   "execution_count": 13,
   "id": "fc82c4a6-7f58-4fb9-ace7-57eea18f5c83",
   "metadata": {},
   "outputs": [],
   "source": [
    "class test:\n",
    "    def __init__(self,a,b):\n",
    "        self.a=a\n",
    "        self.b=b"
   ]
  },
  {
   "cell_type": "code",
   "execution_count": 14,
   "id": "08508ad7-5c7a-48e1-913c-77d6302202ae",
   "metadata": {},
   "outputs": [],
   "source": [
    "t=test(45,56)"
   ]
  },
  {
   "cell_type": "code",
   "execution_count": 15,
   "id": "83f68f99-665e-4588-88c8-32141e4a1f1c",
   "metadata": {},
   "outputs": [
    {
     "data": {
      "text/plain": [
       "45"
      ]
     },
     "execution_count": 15,
     "metadata": {},
     "output_type": "execute_result"
    }
   ],
   "source": [
    "t.a"
   ]
  },
  {
   "cell_type": "code",
   "execution_count": 16,
   "id": "525bda1c-9885-4a33-8592-af5b0245c40d",
   "metadata": {},
   "outputs": [
    {
     "data": {
      "text/plain": [
       "56"
      ]
     },
     "execution_count": 16,
     "metadata": {},
     "output_type": "execute_result"
    }
   ],
   "source": [
    "t.b"
   ]
  },
  {
   "cell_type": "code",
   "execution_count": 18,
   "id": "d8c051eb-0dbb-4106-bdb0-75fd65731919",
   "metadata": {},
   "outputs": [
    {
     "data": {
      "text/plain": [
       "10"
      ]
     },
     "execution_count": 18,
     "metadata": {},
     "output_type": "execute_result"
    }
   ],
   "source": [
    "t.b=10\n",
    "t.b"
   ]
  },
  {
   "cell_type": "code",
   "execution_count": 35,
   "id": "1694ac68-36d0-4ae9-8cac-6c9e6e252492",
   "metadata": {},
   "outputs": [],
   "source": [
    "class car:\n",
    "    def __init__(self,year,make,model,speed):\n",
    "        self.__year=year\n",
    "        self.__make=make\n",
    "        self.__model=model\n",
    "        self.__speed=speed\n",
    "    def set_speed(self,speed):\n",
    "        self.__speed=0 if speed<0 else speed\n",
    "        \n",
    "    def get_speed(self):\n",
    "        return self.__speed\n",
    "        "
   ]
  },
  {
   "cell_type": "code",
   "execution_count": 36,
   "id": "514ce8b1-88a4-40ef-8109-cea95141c249",
   "metadata": {},
   "outputs": [],
   "source": [
    "car1= car(2022,\"toyota\",\"innova\",12)"
   ]
  },
  {
   "cell_type": "code",
   "execution_count": 23,
   "id": "3b72e204-9a59-484b-833d-8401acfe392e",
   "metadata": {},
   "outputs": [
    {
     "data": {
      "text/plain": [
       "2022"
      ]
     },
     "execution_count": 23,
     "metadata": {},
     "output_type": "execute_result"
    }
   ],
   "source": [
    "car1._car__year"
   ]
  },
  {
   "cell_type": "code",
   "execution_count": 24,
   "id": "402dad79-f1ff-4fef-932b-dec75e7a5fb0",
   "metadata": {},
   "outputs": [
    {
     "data": {
      "text/plain": [
       "2023"
      ]
     },
     "execution_count": 24,
     "metadata": {},
     "output_type": "execute_result"
    }
   ],
   "source": [
    "car1._car__year=2023\n",
    "car1._car__year"
   ]
  },
  {
   "cell_type": "code",
   "execution_count": 33,
   "id": "dc42dd7c-4476-460b-8fe2-ed322f283ccb",
   "metadata": {},
   "outputs": [],
   "source": [
    "car1.set_speed(12)"
   ]
  },
  {
   "cell_type": "code",
   "execution_count": 34,
   "id": "c4931f40-1ef9-41e3-ab93-fa7aabe4a32a",
   "metadata": {},
   "outputs": [
    {
     "data": {
      "text/plain": [
       "12"
      ]
     },
     "execution_count": 34,
     "metadata": {},
     "output_type": "execute_result"
    }
   ],
   "source": [
    "car1.get_speed()"
   ]
  },
  {
   "cell_type": "code",
   "execution_count": 37,
   "id": "d78c2078-8925-433d-ac47-45b6200ec15a",
   "metadata": {},
   "outputs": [],
   "source": [
    "class bank_acc:\n",
    "    def __init__(self,balance):\n",
    "        self.__balance= balance\n",
    "        \n",
    "    def deposit(self,amount):\n",
    "        self.__balance+=amount\n",
    "    \n",
    "    def withdraw(self,amount):\n",
    "        if self.__balance>=amount:\n",
    "            self.__balance-=amount\n",
    "            return True\n",
    "        else:\n",
    "            return False\n",
    "    def get_balance(self):\n",
    "        return self.__balance\n",
    "    "
   ]
  },
  {
   "cell_type": "code",
   "execution_count": 38,
   "id": "a74b640b-8a1f-4848-bd76-85aee27c97ac",
   "metadata": {},
   "outputs": [],
   "source": [
    "obj1=bank_acc(5000)"
   ]
  },
  {
   "cell_type": "code",
   "execution_count": 39,
   "id": "fb81bc86-fc3c-4a0b-ba9d-5f70e00273bb",
   "metadata": {},
   "outputs": [
    {
     "data": {
      "text/plain": [
       "5000"
      ]
     },
     "execution_count": 39,
     "metadata": {},
     "output_type": "execute_result"
    }
   ],
   "source": [
    "obj1.get_balance()"
   ]
  },
  {
   "cell_type": "code",
   "execution_count": 40,
   "id": "d310b516-98bf-4e63-9243-4f2e59b0c2ee",
   "metadata": {},
   "outputs": [],
   "source": [
    "obj1.deposit(4000)"
   ]
  },
  {
   "cell_type": "code",
   "execution_count": 41,
   "id": "915e91b0-c228-4351-a24b-d2373ba128b1",
   "metadata": {},
   "outputs": [
    {
     "data": {
      "text/plain": [
       "True"
      ]
     },
     "execution_count": 41,
     "metadata": {},
     "output_type": "execute_result"
    }
   ],
   "source": [
    "obj1.withdraw(1000)"
   ]
  },
  {
   "cell_type": "code",
   "execution_count": 42,
   "id": "2f0288b5-24d1-4bb0-90b2-6c1a64dea25c",
   "metadata": {},
   "outputs": [
    {
     "data": {
      "text/plain": [
       "8000"
      ]
     },
     "execution_count": 42,
     "metadata": {},
     "output_type": "execute_result"
    }
   ],
   "source": [
    "obj1.get_balance()"
   ]
  },
  {
   "cell_type": "markdown",
   "id": "1e7bef4c-bb80-4305-a516-f0b69713626d",
   "metadata": {},
   "source": [
    "# Inheritance"
   ]
  },
  {
   "cell_type": "code",
   "execution_count": 52,
   "id": "4a4f5ca1-34e4-480c-a323-9bbbe4bba68f",
   "metadata": {},
   "outputs": [],
   "source": [
    "class parent:\n",
    "    def test_parent(self):\n",
    "        print(\"parent\")\n",
    "\n",
    "class child(parent):\n",
    "    def test_child(self):\n",
    "        print(\"child\")\n",
    "    \n",
    "class grandchild(child):\n",
    "    def test_grandchild(self):\n",
    "        print(\"grandchild\")"
   ]
  },
  {
   "cell_type": "code",
   "execution_count": 53,
   "id": "6f9245a5-5e61-411e-9795-4764158d9e22",
   "metadata": {},
   "outputs": [],
   "source": [
    "c_obj=child()"
   ]
  },
  {
   "cell_type": "code",
   "execution_count": 55,
   "id": "5a4c48e5-93ee-422d-bf03-1de241ff5413",
   "metadata": {},
   "outputs": [
    {
     "name": "stdout",
     "output_type": "stream",
     "text": [
      "parent\n",
      "child\n"
     ]
    }
   ],
   "source": [
    "#simple inheritance\n",
    "c_obj.test_parent()\n",
    "c_obj.test_child()"
   ]
  },
  {
   "cell_type": "code",
   "execution_count": 61,
   "id": "557c5016-902a-44c4-8411-207b7bdb1203",
   "metadata": {},
   "outputs": [
    {
     "name": "stdout",
     "output_type": "stream",
     "text": [
      "parent\n",
      "child\n",
      "grandchild\n"
     ]
    }
   ],
   "source": [
    "#multilevel inheritance\n",
    "g_obj=grandchild()\n",
    "g_obj.test_parent()\n",
    "g_obj.test_child()\n",
    "g_obj.test_grandchild()"
   ]
  },
  {
   "cell_type": "code",
   "execution_count": 57,
   "id": "35457526-8297-412e-83bb-8ff2004de2c1",
   "metadata": {},
   "outputs": [],
   "source": [
    "#multiple inheritance\n",
    "class father:\n",
    "    def test_father(self):\n",
    "        print(\"father\")\n",
    "        \n",
    "class mother:\n",
    "    def test_mother(self):\n",
    "        print(\"mother\")\n",
    "        \n",
    "class child(father,mother):\n",
    "    def test_child(self):\n",
    "        print(\"child\")"
   ]
  },
  {
   "cell_type": "code",
   "execution_count": 60,
   "id": "3777cf4e-deaa-4551-b6df-f6312917116b",
   "metadata": {},
   "outputs": [
    {
     "name": "stdout",
     "output_type": "stream",
     "text": [
      "father\n",
      "mother\n",
      "child\n"
     ]
    }
   ],
   "source": [
    "c_obj2=child()\n",
    "c_obj2.test_father()\n",
    "c_obj2.test_mother()\n",
    "c_obj2.test_child()"
   ]
  },
  {
   "cell_type": "code",
   "execution_count": 62,
   "id": "998bf2e6-5c91-4c66-8619-4cc3243a436b",
   "metadata": {},
   "outputs": [],
   "source": [
    "#hybrid inheritance\n",
    "class father:\n",
    "    def test_father(self):\n",
    "        print(\"father\")\n",
    "        \n",
    "class mother:\n",
    "    def test_mother(self):\n",
    "        print(\"mother\")\n",
    "        \n",
    "class child(father,mother):\n",
    "    def test_child(self):\n",
    "        print(\"child\")\n",
    "\n",
    "class grandchild(child):\n",
    "    def test_grandchild(self):\n",
    "        print(\"grandchild\")"
   ]
  },
  {
   "cell_type": "code",
   "execution_count": 64,
   "id": "78e06561-152f-49b7-9a9a-854a48749f8a",
   "metadata": {},
   "outputs": [
    {
     "name": "stdout",
     "output_type": "stream",
     "text": [
      "grandchild\n",
      "child\n",
      "mother\n",
      "father\n"
     ]
    }
   ],
   "source": [
    "g_obj2=grandchild()\n",
    "g_obj2.test_grandchild()\n",
    "g_obj2.test_child()\n",
    "g_obj2.test_mother()\n",
    "g_obj2.test_father()"
   ]
  },
  {
   "cell_type": "code",
   "execution_count": null,
   "id": "1c3c4ce3-8614-408c-a799-9e63c28b6760",
   "metadata": {},
   "outputs": [],
   "source": []
  }
 ],
 "metadata": {
  "kernelspec": {
   "display_name": "Python 3 (ipykernel)",
   "language": "python",
   "name": "python3"
  },
  "language_info": {
   "codemirror_mode": {
    "name": "ipython",
    "version": 3
   },
   "file_extension": ".py",
   "mimetype": "text/x-python",
   "name": "python",
   "nbconvert_exporter": "python",
   "pygments_lexer": "ipython3",
   "version": "3.10.8"
  }
 },
 "nbformat": 4,
 "nbformat_minor": 5
}
