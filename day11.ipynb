{
 "cells": [
  {
   "cell_type": "markdown",
   "id": "2edd5610-500e-47e6-90f4-a4e8360614d2",
   "metadata": {},
   "source": [
    "# files"
   ]
  },
  {
   "cell_type": "code",
   "execution_count": 12,
   "id": "aa5ba143-f33c-4d0a-8087-ce549251138e",
   "metadata": {},
   "outputs": [],
   "source": [
    "f= open(\"test.txt\",'a')"
   ]
  },
  {
   "cell_type": "code",
   "execution_count": 2,
   "id": "270f2864-0ab3-430a-b229-0374a155b104",
   "metadata": {},
   "outputs": [
    {
     "data": {
      "text/plain": [
       "'/home/jovyan/work'"
      ]
     },
     "execution_count": 2,
     "metadata": {},
     "output_type": "execute_result"
    }
   ],
   "source": [
    "pwd"
   ]
  },
  {
   "cell_type": "code",
   "execution_count": 3,
   "id": "be93fd5b-30fb-4aab-b709-42632f05116d",
   "metadata": {},
   "outputs": [
    {
     "name": "stdout",
     "output_type": "stream",
     "text": [
      "'9 feb.ipynb'  'day 1.ipynb'  'day 4.ipynb'  'day 7.ipynb'   README.md\n",
      " day10.ipynb   'day 2.ipynb'  'day 5.ipynb'  'day 8.ipynb'   sample-code.ipynb\n",
      " day11.ipynb   'day 3.ipynb'  'day 6.ipynb'  'day 9.ipynb'   test.txt\n"
     ]
    }
   ],
   "source": [
    "ls"
   ]
  },
  {
   "cell_type": "code",
   "execution_count": 13,
   "id": "e2c358d4-752c-4689-a55e-de3677b66158",
   "metadata": {},
   "outputs": [
    {
     "data": {
      "text/plain": [
       "21"
      ]
     },
     "execution_count": 13,
     "metadata": {},
     "output_type": "execute_result"
    }
   ],
   "source": [
    "f.write(\"this is my first file\")"
   ]
  },
  {
   "cell_type": "code",
   "execution_count": null,
   "id": "9f309346-ffc4-4e6c-864e-62e579f43429",
   "metadata": {},
   "outputs": [],
   "source": []
  },
  {
   "cell_type": "code",
   "execution_count": 14,
   "id": "9926beba-5045-4b7c-8efe-07f5d680cae7",
   "metadata": {},
   "outputs": [
    {
     "data": {
      "text/plain": [
       "688"
      ]
     },
     "execution_count": 14,
     "metadata": {},
     "output_type": "execute_result"
    }
   ],
   "source": [
    "f.write(\"Information is an abstract concept that refers to that which has the power to inform. At the most fundamental level information pertains to the interpretation of that which may be sensed. Any natural process that is not completely random, and any observable pattern in any medium can be said to convey some amount of information. Whereas digital signals and other data use discrete signs to convey information, other phenomena and artifacts such as analog signals, poems, pictures, music or other sounds, and currents convey information in a more continuous form.[1] Information is not knowledge itself, but the meaning that may be derived from a representation through interpretation.[2]\")"
   ]
  },
  {
   "cell_type": "code",
   "execution_count": 15,
   "id": "c7804495-7997-4412-93a6-befb2e38110c",
   "metadata": {},
   "outputs": [],
   "source": [
    "f.close()"
   ]
  },
  {
   "cell_type": "code",
   "execution_count": 16,
   "id": "dd2de323-6989-461d-9c04-fe67ac613f47",
   "metadata": {},
   "outputs": [],
   "source": [
    "data= open(\"test.txt\",'r')"
   ]
  },
  {
   "cell_type": "code",
   "execution_count": null,
   "id": "6ed2310b-0a93-4e0b-a734-af508e2ac40b",
   "metadata": {
    "jupyter": {
     "source_hidden": true
    },
    "tags": []
   },
   "outputs": [],
   "source": []
  },
  {
   "cell_type": "code",
   "execution_count": 17,
   "id": "70a988fc-d952-4205-bf81-77c6b0de4a3c",
   "metadata": {},
   "outputs": [
    {
     "data": {
      "text/plain": [
       "'this is my first fileInformation is an abstract concept that refers to that which has the power to inform. At the most fundamental level information pertains to the interpretation of that which may be sensed. Any natural process that is not completely random, and any observable pattern in any medium can be said to convey some amount of information. Whereas digital signals and other data use discrete signs to convey information, other phenomena and artifacts such as analog signals, poems, pictures, music or other sounds, and currents convey information in a more continuous form.[1] Information is not knowledge itself, but the meaning that may be derived from a representation through interpretation.[2]this is my first fileInformation is an abstract concept that refers to that which has the power to inform. At the most fundamental level information pertains to the interpretation of that which may be sensed. Any natural process that is not completely random, and any observable pattern in any medium can be said to convey some amount of information. Whereas digital signals and other data use discrete signs to convey information, other phenomena and artifacts such as analog signals, poems, pictures, music or other sounds, and currents convey information in a more continuous form.[1] Information is not knowledge itself, but the meaning that may be derived from a representation through interpretation.[2]'"
      ]
     },
     "execution_count": 17,
     "metadata": {},
     "output_type": "execute_result"
    }
   ],
   "source": [
    "data.read()"
   ]
  },
  {
   "cell_type": "code",
   "execution_count": 18,
   "id": "c78ed9a7-00d8-4d3c-863f-56afc0bef52a",
   "metadata": {},
   "outputs": [
    {
     "data": {
      "text/plain": [
       "''"
      ]
     },
     "execution_count": 18,
     "metadata": {},
     "output_type": "execute_result"
    }
   ],
   "source": [
    "data.read()"
   ]
  },
  {
   "cell_type": "code",
   "execution_count": 19,
   "id": "5ba18b73-b0eb-45bb-a2b9-a7ed9ed5fd02",
   "metadata": {},
   "outputs": [
    {
     "data": {
      "text/plain": [
       "0"
      ]
     },
     "execution_count": 19,
     "metadata": {},
     "output_type": "execute_result"
    }
   ],
   "source": [
    "data.seek(0)"
   ]
  },
  {
   "cell_type": "code",
   "execution_count": 20,
   "id": "1b50d51c-3c4c-4308-892c-0a53cc80e463",
   "metadata": {},
   "outputs": [
    {
     "data": {
      "text/plain": [
       "'this is my first fileInformation is an abstract concept that refers to that which has the power to inform. At the most fundamental level information pertains to the interpretation of that which may be sensed. Any natural process that is not completely random, and any observable pattern in any medium can be said to convey some amount of information. Whereas digital signals and other data use discrete signs to convey information, other phenomena and artifacts such as analog signals, poems, pictures, music or other sounds, and currents convey information in a more continuous form.[1] Information is not knowledge itself, but the meaning that may be derived from a representation through interpretation.[2]this is my first fileInformation is an abstract concept that refers to that which has the power to inform. At the most fundamental level information pertains to the interpretation of that which may be sensed. Any natural process that is not completely random, and any observable pattern in any medium can be said to convey some amount of information. Whereas digital signals and other data use discrete signs to convey information, other phenomena and artifacts such as analog signals, poems, pictures, music or other sounds, and currents convey information in a more continuous form.[1] Information is not knowledge itself, but the meaning that may be derived from a representation through interpretation.[2]'"
      ]
     },
     "execution_count": 20,
     "metadata": {},
     "output_type": "execute_result"
    }
   ],
   "source": [
    "data.read()"
   ]
  },
  {
   "cell_type": "code",
   "execution_count": 21,
   "id": "b100fabf-44d1-4400-b9c4-286298d0642e",
   "metadata": {},
   "outputs": [
    {
     "data": {
      "text/plain": [
       "200"
      ]
     },
     "execution_count": 21,
     "metadata": {},
     "output_type": "execute_result"
    }
   ],
   "source": [
    "data.seek(200)"
   ]
  },
  {
   "cell_type": "code",
   "execution_count": 22,
   "id": "909e99ff-5374-4627-8cc8-5f73504c5a28",
   "metadata": {},
   "outputs": [
    {
     "data": {
      "text/plain": [
       "' sensed. Any natural process that is not completely random, and any observable pattern in any medium can be said to convey some amount of information. Whereas digital signals and other data use discrete signs to convey information, other phenomena and artifacts such as analog signals, poems, pictures, music or other sounds, and currents convey information in a more continuous form.[1] Information is not knowledge itself, but the meaning that may be derived from a representation through interpretation.[2]this is my first fileInformation is an abstract concept that refers to that which has the power to inform. At the most fundamental level information pertains to the interpretation of that which may be sensed. Any natural process that is not completely random, and any observable pattern in any medium can be said to convey some amount of information. Whereas digital signals and other data use discrete signs to convey information, other phenomena and artifacts such as analog signals, poems, pictures, music or other sounds, and currents convey information in a more continuous form.[1] Information is not knowledge itself, but the meaning that may be derived from a representation through interpretation.[2]'"
      ]
     },
     "execution_count": 22,
     "metadata": {},
     "output_type": "execute_result"
    }
   ],
   "source": [
    "data.read()"
   ]
  },
  {
   "cell_type": "code",
   "execution_count": 27,
   "id": "11357e12-b7f3-4c05-9eae-b27cdb8ea52a",
   "metadata": {},
   "outputs": [],
   "source": [
    "data1= open(\"test.txt\",'r')"
   ]
  },
  {
   "cell_type": "code",
   "execution_count": 28,
   "id": "53d6a09b-0311-4eb9-8043-a7d64a5fb04a",
   "metadata": {},
   "outputs": [
    {
     "name": "stdout",
     "output_type": "stream",
     "text": [
      "this is my first fileInformation is an abstract concept that refers to that which has the power to inform. At the most fundamental level information pertains to the interpretation of that which may be sensed. Any natural process that is not completely random, and any observable pattern in any medium can be said to convey some amount of information. Whereas digital signals and other data use discrete signs to convey information, other phenomena and artifacts such as analog signals, poems, pictures, music or other sounds, and currents convey information in a more continuous form.[1] Information is not knowledge itself, but the meaning that may be derived from a representation through interpretation.[2]this is my first fileInformation is an abstract concept that refers to that which has the power to inform. At the most fundamental level information pertains to the interpretation of that which may be sensed. Any natural process that is not completely random, and any observable pattern in any medium can be said to convey some amount of information. Whereas digital signals and other data use discrete signs to convey information, other phenomena and artifacts such as analog signals, poems, pictures, music or other sounds, and currents convey information in a more continuous form.[1] Information is not knowledge itself, but the meaning that may be derived from a representation through interpretation.[2]\n"
     ]
    }
   ],
   "source": [
    "for i in data1:\n",
    "    print(i)"
   ]
  },
  {
   "cell_type": "code",
   "execution_count": 29,
   "id": "08329a29-f909-4e5a-a464-d41d81b2800b",
   "metadata": {},
   "outputs": [
    {
     "data": {
      "text/plain": [
       "1418"
      ]
     },
     "execution_count": 29,
     "metadata": {},
     "output_type": "execute_result"
    }
   ],
   "source": [
    "import os\n",
    "os.path.getsize(\"test.txt\")"
   ]
  },
  {
   "cell_type": "code",
   "execution_count": null,
   "id": "0cd5ddda-46c3-4bb3-9d0b-252a431b6ff0",
   "metadata": {},
   "outputs": [
    {
     "data": {
      "text/plain": [
       "'new_test.txt'"
      ]
     },
     "execution_count": 30,
     "metadata": {},
     "output_type": "execute_result"
    }
   ],
   "source": [
    "import shutil\n",
    "shutil.copy(\"test.txt\",\"new_test.txt\")"
   ]
  },
  {
   "cell_type": "code",
   "execution_count": 31,
   "id": "ab9c3a66-55bf-486c-aab9-b59f2ffd7928",
   "metadata": {},
   "outputs": [],
   "source": [
    "import os\n",
    "os.remove(\"test.txt\")"
   ]
  },
  {
   "cell_type": "code",
   "execution_count": 32,
   "id": "058a8709-28a4-4be7-aaac-f1d181b5e938",
   "metadata": {},
   "outputs": [
    {
     "name": "stdout",
     "output_type": "stream",
     "text": [
      "this is my first fileInformation is an abstract concept that refers to that which has the power to inform. At the most fundamental level information pertains to the interpretation of that which may be sensed. Any natural process that is not completely random, and any observable pattern in any medium can be said to convey some amount of information. Whereas digital signals and other data use discrete signs to convey information, other phenomena and artifacts such as analog signals, poems, pictures, music or other sounds, and currents convey information in a more continuous form.[1] Information is not knowledge itself, but the meaning that may be derived from a representation through interpretation.[2]this is my first fileInformation is an abstract concept that refers to that which has the power to inform. At the most fundamental level information pertains to the interpretation of that which may be sensed. Any natural process that is not completely random, and any observable pattern in any medium can be said to convey some amount of information. Whereas digital signals and other data use discrete signs to convey information, other phenomena and artifacts such as analog signals, poems, pictures, music or other sounds, and currents convey information in a more continuous form.[1] Information is not knowledge itself, but the meaning that may be derived from a representation through interpretation.[2]\n"
     ]
    }
   ],
   "source": [
    "with open(\"new_test.txt\",\"r\") as f:\n",
    "    print(f.read())"
   ]
  },
  {
   "cell_type": "code",
   "execution_count": 34,
   "id": "c87e449c-ef28-40a7-8657-6681221c311b",
   "metadata": {},
   "outputs": [],
   "source": [
    "os.rename(\"new_test.txt\",\"new2.txt\")"
   ]
  },
  {
   "cell_type": "markdown",
   "id": "de811ca3-cdef-44e3-960d-f6bcec7f8867",
   "metadata": {},
   "source": [
    "# .json/.csv/.bin"
   ]
  },
  {
   "cell_type": "code",
   "execution_count": 35,
   "id": "843e1147-693e-481d-b79d-ca10b821844d",
   "metadata": {},
   "outputs": [],
   "source": [
    "data={\n",
    "    \"name\":\"Anisha\",\n",
    "    \"email\":\"abc@gmail.com\",\n",
    "    \"phone\":4684454,\n",
    "    \"subject\":[\"data science\",\"big data\"]\n",
    "}"
   ]
  },
  {
   "cell_type": "code",
   "execution_count": 40,
   "id": "b0a3a48f-c04c-4f20-88c2-9b1f53a0473c",
   "metadata": {},
   "outputs": [],
   "source": [
    "import json\n",
    "with open(\"test1.json\",\"w\") as f:\n",
    "    json.dump(data,f)"
   ]
  },
  {
   "cell_type": "code",
   "execution_count": 42,
   "id": "fe8198fd-b55d-4058-b9ff-b26b851cbc5d",
   "metadata": {},
   "outputs": [],
   "source": [
    "with open(\"test1.json\",\"r\") as f:\n",
    "    data1=json.load(f)"
   ]
  },
  {
   "cell_type": "code",
   "execution_count": 43,
   "id": "91e7fcbe-63f5-4da7-9e4f-17f438edf29c",
   "metadata": {},
   "outputs": [
    {
     "data": {
      "text/plain": [
       "{'name': 'Anisha',\n",
       " 'email': 'abc@gmail.com',\n",
       " 'phone': 4684454,\n",
       " 'subject': ['data science', 'big data']}"
      ]
     },
     "execution_count": 43,
     "metadata": {},
     "output_type": "execute_result"
    }
   ],
   "source": [
    "data1"
   ]
  },
  {
   "cell_type": "code",
   "execution_count": 44,
   "id": "4cca151c-a338-4f9d-ba52-4d4d7804f0e1",
   "metadata": {},
   "outputs": [
    {
     "data": {
      "text/plain": [
       "'big data'"
      ]
     },
     "execution_count": 44,
     "metadata": {},
     "output_type": "execute_result"
    }
   ],
   "source": [
    "data1['subject'][1]"
   ]
  },
  {
   "cell_type": "code",
   "execution_count": 1,
   "id": "8d11858f-ae76-4bcd-834e-8dc0458dd867",
   "metadata": {},
   "outputs": [],
   "source": [
    "data=[[\"name\",\"email\",\"number\"],\n",
    "      [\"sudh\",\"sudh@gmail.com\",5484546860],\n",
    "      [\"krish\",\"krish@gmail.com\",545424877]]"
   ]
  },
  {
   "cell_type": "code",
   "execution_count": 3,
   "id": "4763301f-404e-4ace-9a82-f4bfe3b71ae4",
   "metadata": {},
   "outputs": [],
   "source": [
    "import csv\n",
    "with open(\"test2.csv\",\"w\")as f:\n",
    "    w=csv.writer(f)\n",
    "    for i in data:\n",
    "        w.writerow(i)"
   ]
  },
  {
   "cell_type": "code",
   "execution_count": 8,
   "id": "7d721ffa-3a1a-42d4-b596-7907cba2e70c",
   "metadata": {},
   "outputs": [
    {
     "name": "stdout",
     "output_type": "stream",
     "text": [
      "['name', 'email', 'number']\n",
      "['sudh', 'sudh@gmail.com', '5484546860']\n",
      "['krish', 'krish@gmail.com', '545424877']\n"
     ]
    }
   ],
   "source": [
    "with open(\"test2.csv\",\"r\") as f:\n",
    "    read=csv.reader(f)\n",
    "    for i in read:\n",
    "        print(i)"
   ]
  },
  {
   "cell_type": "code",
   "execution_count": 15,
   "id": "1d316f81-0915-4fdb-a2ab-43d200906eb5",
   "metadata": {},
   "outputs": [],
   "source": [
    "with open(\"test4.bin\",\"wb\") as f:\n",
    "    f.write(b\"\\x01\\x02\\x03\")"
   ]
  },
  {
   "cell_type": "code",
   "execution_count": 16,
   "id": "b7a00d64-cde3-4675-8083-fbd037dca620",
   "metadata": {},
   "outputs": [
    {
     "name": "stdout",
     "output_type": "stream",
     "text": [
      "b'\\x01\\x02\\x03'\n"
     ]
    }
   ],
   "source": [
    "with open(\"test4.bin\",\"rb\") as f:\n",
    "    print(f.read())"
   ]
  },
  {
   "cell_type": "markdown",
   "id": "ea29ae89-452b-4a9a-834a-2ff79b9950eb",
   "metadata": {},
   "source": [
    "# buffered read & write"
   ]
  },
  {
   "cell_type": "code",
   "execution_count": null,
   "id": "e42191bf-ab69-45d4-ba3f-4437faa5d6a9",
   "metadata": {},
   "outputs": [],
   "source": [
    "import io\n",
    "with open(\"test5.txt\",\"wb\")as f:\n",
    "    file=io.BufferedWriter(f) \n",
    "    file.write(b\"this is my buffer write\\n\")\n",
    "    file.write(b\"my second line\")\n",
    "    file.flush()"
   ]
  },
  {
   "cell_type": "code",
   "execution_count": 22,
   "id": "0e6870d1-1d86-42fe-a511-0ba069c9f324",
   "metadata": {},
   "outputs": [],
   "source": [
    "import io\n",
    "with open(\"test5.txt\",\"wb\")as f:\n",
    "    file=io.BufferedWriter(f,buffer_size=5)   #here we can also specify the number of bytes that we want to write in form of chuncks.\n",
    "    file.write(b\"this is my buffer write\\n\")\n",
    "    file.write(b\"my second line\")\n",
    "    file.flush()\n",
    "    "
   ]
  },
  {
   "cell_type": "code",
   "execution_count": 20,
   "id": "04b4d13d-351a-4b08-80c3-c3323b1b066c",
   "metadata": {},
   "outputs": [
    {
     "name": "stdout",
     "output_type": "stream",
     "text": [
      "b'this is my buffer write\\nmy second line'\n"
     ]
    }
   ],
   "source": [
    "with open(\"test5.txt\",\"rb\")as f:\n",
    "    file=io.BufferedReader(f)\n",
    "    data=file.read() \n",
    "    print(data)"
   ]
  },
  {
   "cell_type": "code",
   "execution_count": 23,
   "id": "5132b1f1-b269-4f26-a70b-43d770bb419c",
   "metadata": {},
   "outputs": [
    {
     "name": "stdout",
     "output_type": "stream",
     "text": [
      "b'this '\n"
     ]
    }
   ],
   "source": [
    "with open(\"test5.txt\",\"rb\")as f:\n",
    "    file=io.BufferedReader(f)\n",
    "    data=file.read(5) #here we can also specify the number of bytes that we want to read in form of chuncks.\n",
    "    print(data)"
   ]
  },
  {
   "cell_type": "markdown",
   "id": "796905c0-8894-479b-9158-99bc8516d046",
   "metadata": {},
   "source": [
    "# logging and debugger"
   ]
  },
  {
   "cell_type": "code",
   "execution_count": 24,
   "id": "6258622e-b3ab-49d2-aedb-85c7cfdfbef8",
   "metadata": {},
   "outputs": [
    {
     "name": "stdout",
     "output_type": "stream",
     "text": [
      "bwbvwugqogdgwvb\n"
     ]
    }
   ],
   "source": [
    "print(\"bwbvwugqogdgwvb\")"
   ]
  },
  {
   "cell_type": "code",
   "execution_count": 31,
   "id": "d017ba73-6c92-4543-80c8-4c1e7274556e",
   "metadata": {},
   "outputs": [],
   "source": [
    "import logging\n",
    "logging.basicConfig(filename=\"test6.log\",level=logging.INFO)\n"
   ]
  },
  {
   "cell_type": "code",
   "execution_count": 26,
   "id": "a61d18fb-ed02-4cc1-9251-30a699a89114",
   "metadata": {},
   "outputs": [],
   "source": [
    "logging.info(\"this is my line of execution\")"
   ]
  },
  {
   "cell_type": "code",
   "execution_count": 27,
   "id": "50fff3ee-0b5d-4c0f-a576-69d728332d23",
   "metadata": {},
   "outputs": [],
   "source": [
    "logging.error(\"this is my error\")"
   ]
  },
  {
   "cell_type": "code",
   "execution_count": 28,
   "id": "b63a18f6-8f00-46cb-b230-f448497464cf",
   "metadata": {},
   "outputs": [],
   "source": [
    "logging.critical(\"this is my critical\")"
   ]
  },
  {
   "cell_type": "code",
   "execution_count": 29,
   "id": "6ed72b1f-9926-4434-b668-56597a7c36b3",
   "metadata": {},
   "outputs": [],
   "source": [
    "logging.warning(\"this is my warning\")"
   ]
  },
  {
   "cell_type": "code",
   "execution_count": null,
   "id": "ae4995fe-4f25-423d-97d3-06ed511073a5",
   "metadata": {},
   "outputs": [],
   "source": [
    "logging.debug(\"this is my info realated to debug\")"
   ]
  },
  {
   "cell_type": "code",
   "execution_count": 13,
   "id": "7d149aa7-d8ba-4b80-9f6d-7ae1cd93c3eb",
   "metadata": {},
   "outputs": [],
   "source": [
    "logging.shutdown()"
   ]
  },
  {
   "cell_type": "code",
   "execution_count": 14,
   "id": "5e0cd0db-4872-471f-a804-b0616c5a048c",
   "metadata": {},
   "outputs": [],
   "source": [
    "logging.basicConfig(filename=\"test7.log\",level=logging.DEBUG,format='%(asctime)s%(message)s')"
   ]
  },
  {
   "cell_type": "code",
   "execution_count": 15,
   "id": "74054eea-0216-4da6-a8e5-042c61ea0f5d",
   "metadata": {},
   "outputs": [],
   "source": [
    "logging.info(\"this is my info log\")"
   ]
  },
  {
   "cell_type": "code",
   "execution_count": 16,
   "id": "fe7a09f7-3c8b-4187-b6ff-d34a02acdde0",
   "metadata": {},
   "outputs": [],
   "source": [
    "logging.debug(\"this is my debug log\")"
   ]
  },
  {
   "cell_type": "code",
   "execution_count": 17,
   "id": "549e82bb-ce9f-41e6-9483-92ac34274d18",
   "metadata": {},
   "outputs": [],
   "source": [
    "logging.warning(\"this is my warning\")"
   ]
  },
  {
   "cell_type": "code",
   "execution_count": 18,
   "id": "107490ef-af5d-4682-80a0-caadaf9c88f1",
   "metadata": {},
   "outputs": [],
   "source": [
    "logging.shutdown()"
   ]
  },
  {
   "cell_type": "code",
   "execution_count": 30,
   "id": "1bece5ca-027c-493f-a1d5-1fe46dc5da80",
   "metadata": {},
   "outputs": [],
   "source": [
    "logging.basicConfig(filename = \"test3.log\" , level = logging.DEBUG, format = '%(asctime)s %(name)s %(levelname)s  %(message)s')"
   ]
  },
  {
   "cell_type": "code",
   "execution_count": 25,
   "id": "51163d80-2b80-4335-807b-3ae5df163c3f",
   "metadata": {},
   "outputs": [],
   "source": [
    "logging.info(\"this is my info log\")"
   ]
  },
  {
   "cell_type": "code",
   "execution_count": 26,
   "id": "d225e33e-e123-4678-8456-8f0616ae32f3",
   "metadata": {},
   "outputs": [],
   "source": [
    "l = [1,2,3,4,[4,5,6] , \"sudh\" ,\"kumar\"]"
   ]
  },
  {
   "cell_type": "code",
   "execution_count": 27,
   "id": "e61f742a-219f-43a8-8f43-e34b1a24ce13",
   "metadata": {},
   "outputs": [],
   "source": [
    "l1_int = []\n",
    "l2_str = []\n",
    "for i in l : \n",
    "    logging.info(\"this is the start of my first for loop {}\".format(l))\n",
    "    logging.info(\"this is the value of i am logging {}\".format(i))\n",
    "    if type(i) == list:\n",
    "        for j in i :\n",
    "            logging.info(\"logggin my j {j} and i is {i}\".format(i = i ,j = j))\n",
    "            if type(j) == int :\n",
    "                l1_int.append(j)\n",
    "    elif type(i) == int :\n",
    "        l1_int.append(i)\n",
    "        \n",
    "    else :\n",
    "        if type(i) == str:\n",
    "            l2_str.append(i)\n",
    "logging.info(\"this is my final result  with all int {l1} ,with all str{l2}\".format(l1 =l1_int ,l2 =l2_str ))\n",
    "        "
   ]
  },
  {
   "cell_type": "code",
   "execution_count": 28,
   "id": "662f8741-026f-4efc-aaad-463cc7e48136",
   "metadata": {},
   "outputs": [
    {
     "data": {
      "text/plain": [
       "[1, 2, 3, 4, 4, 5, 6]"
      ]
     },
     "execution_count": 28,
     "metadata": {},
     "output_type": "execute_result"
    }
   ],
   "source": [
    "l1_int"
   ]
  },
  {
   "cell_type": "code",
   "execution_count": 29,
   "id": "09664d6d-cf73-4ef9-af5b-eef8af95c0cb",
   "metadata": {},
   "outputs": [
    {
     "data": {
      "text/plain": [
       "['sudh', 'kumar']"
      ]
     },
     "execution_count": 29,
     "metadata": {},
     "output_type": "execute_result"
    }
   ],
   "source": [
    "l2_str"
   ]
  },
  {
   "cell_type": "markdown",
   "id": "97704949-227f-44ce-9cd1-582c2f47e910",
   "metadata": {},
   "source": [
    "# module and import"
   ]
  },
  {
   "cell_type": "code",
   "execution_count": null,
   "id": "3233148a-21a5-41f3-ac20-c7678727ff42",
   "metadata": {},
   "outputs": [],
   "source": [
    "import os,sys\n",
    "from os.path import dirname,join,abspath\n",
    "sys.path.insert(0,abspath(join(dirname(__file__),'..')))\n",
    "from course import course_detail\n",
    "\n",
    "course_detail.course()\n",
    "def payment():\n",
    "    print(\"this is my payment file\")"
   ]
  },
  {
   "cell_type": "code",
   "execution_count": null,
   "id": "be719ed8-5652-4cb9-b351-384b82b4bd38",
   "metadata": {},
   "outputs": [],
   "source": [
    "import os,sys\n",
    "from os.path import dirname,join,abspath\n",
    "sys.path.insert(0,abspath(join(dirname(__file__),'..')))\n",
    "#from payment import payment_details\n",
    "\n",
    "#payment_details.payment()\n",
    "\n",
    "def course():\n",
    "    print(\"this is my couse file\")\n"
   ]
  }
 ],
 "metadata": {
  "kernelspec": {
   "display_name": "Python 3 (ipykernel)",
   "language": "python",
   "name": "python3"
  },
  "language_info": {
   "codemirror_mode": {
    "name": "ipython",
    "version": 3
   },
   "file_extension": ".py",
   "mimetype": "text/x-python",
   "name": "python",
   "nbconvert_exporter": "python",
   "pygments_lexer": "ipython3",
   "version": "3.10.8"
  }
 },
 "nbformat": 4,
 "nbformat_minor": 5
}
