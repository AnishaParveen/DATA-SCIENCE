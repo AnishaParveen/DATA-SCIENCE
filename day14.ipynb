{
 "cells": [
  {
   "cell_type": "markdown",
   "id": "4101a0e3-9ef4-4203-a189-41c8f02f8510",
   "metadata": {},
   "source": [
    "# MULTITHREADING"
   ]
  },
  {
   "cell_type": "code",
   "execution_count": 3,
   "id": "815ec31e-9879-4b95-939d-0b96ed720aba",
   "metadata": {},
   "outputs": [
    {
     "name": "stdout",
     "output_type": "stream",
     "text": [
      "my test id is 10\n",
      "my test id is 1\n",
      "my test id is 3\n"
     ]
    }
   ],
   "source": [
    "import threading\n",
    "def test(id):\n",
    "    print(\"my test id is %d\" % id)\n",
    "    \n",
    "thd=[threading.Thread(target=test,args=(i,)) for i in [10,1,3] ]\n",
    "for t in thd:\n",
    "    t.start()"
   ]
  },
  {
   "cell_type": "code",
   "execution_count": 10,
   "id": "b5d05620-4f78-4a75-97db-05cfb6b4c394",
   "metadata": {},
   "outputs": [],
   "source": [
    "# WAP to download a url content and store in a txt file\n",
    "import urllib.request\n",
    "def download(url,filename):\n",
    "    urllib.request.urlretrieve(url,filename)"
   ]
  },
  {
   "cell_type": "code",
   "execution_count": 17,
   "id": "dadfed73-9ff6-401b-8bb4-6633286a44c5",
   "metadata": {},
   "outputs": [],
   "source": [
    "download(\"https://www.geeksforgeeks.org/data-structures/\",\"test1.txt1\")"
   ]
  },
  {
   "cell_type": "code",
   "execution_count": 18,
   "id": "a513885f-c052-4661-97bb-4d93915b776a",
   "metadata": {},
   "outputs": [],
   "source": [
    "download(\"https://raw.githubusercontent.com/itsfoss/text-files/master/agatha.txt\",\"test2.txt\")"
   ]
  },
  {
   "cell_type": "code",
   "execution_count": 19,
   "id": "1bab93bf-be05-49d4-9870-15ed51f8174d",
   "metadata": {},
   "outputs": [],
   "source": [
    "urllist=['https://raw.githubusercontent.com/itsfoss/text-files/master/agatha.txt' , 'https://raw.githubusercontent.com/itsfoss/text-files/master/sherlock.txt' ,'https://raw.githubusercontent.com/itsfoss/text-files/master/sample_log_file.txt']"
   ]
  },
  {
   "cell_type": "code",
   "execution_count": 20,
   "id": "91dff4a9-541c-436a-90be-b99e3bd76238",
   "metadata": {},
   "outputs": [],
   "source": [
    "filelist=[\"t1.txt\",\"t2.txt\",\"t3.txt\"]"
   ]
  },
  {
   "cell_type": "code",
   "execution_count": 21,
   "id": "9e9a6a64-1af3-4341-bf7a-bd0f3ee724d8",
   "metadata": {},
   "outputs": [],
   "source": [
    "thd1=[threading.Thread(target=download,args=(urllist[i],filelist[i])) for i in range(len(urllist)) ]"
   ]
  },
  {
   "cell_type": "code",
   "execution_count": 22,
   "id": "dbfaa698-2369-4863-9952-f6fa6f3c1c8c",
   "metadata": {},
   "outputs": [],
   "source": [
    "for t in thd1:\n",
    "    t.start()"
   ]
  },
  {
   "cell_type": "code",
   "execution_count": 30,
   "id": "c02a75c6-d1f2-40a4-82ee-de5f239cb997",
   "metadata": {},
   "outputs": [],
   "source": [
    "import time\n",
    "def test2(x):\n",
    "    for i in range(10):\n",
    "        print(\"print the value of x %d and the value of i %d\" % (x,i))\n",
    "        time.sleep(2)"
   ]
  },
  {
   "cell_type": "code",
   "execution_count": 31,
   "id": "5c2a7269-1333-4ea8-8633-a845807ab732",
   "metadata": {},
   "outputs": [
    {
     "name": "stdout",
     "output_type": "stream",
     "text": [
      "print the value of x 4 and the value of i 0\n",
      "print the value of x 4 and the value of i 1\n",
      "print the value of x 4 and the value of i 2\n",
      "print the value of x 4 and the value of i 3\n",
      "print the value of x 4 and the value of i 4\n",
      "print the value of x 4 and the value of i 5\n",
      "print the value of x 4 and the value of i 6\n",
      "print the value of x 4 and the value of i 7\n",
      "print the value of x 4 and the value of i 8\n",
      "print the value of x 4 and the value of i 9\n"
     ]
    }
   ],
   "source": [
    "test2(4)"
   ]
  },
  {
   "cell_type": "code",
   "execution_count": 32,
   "id": "60a52dec-efd0-493d-bd75-835fb5c422f2",
   "metadata": {},
   "outputs": [],
   "source": [
    "thd2=[threading.Thread(target=test2,args=(i,)) for i in [100,20,30,40]]"
   ]
  },
  {
   "cell_type": "code",
   "execution_count": 34,
   "id": "74be7773-3a7a-45ec-82b5-5b3da0c4fd60",
   "metadata": {},
   "outputs": [
    {
     "name": "stdout",
     "output_type": "stream",
     "text": [
      "print the value of x 100 and the value of i 0\n",
      "print the value of x 20 and the value of i 0\n",
      "print the value of x 30 and the value of i 0\n",
      "print the value of x 40 and the value of i 0\n",
      "print the value of x 100 and the value of i 1\n",
      "print the value of x 20 and the value of i 1\n",
      "print the value of x 30 and the value of i 1\n",
      "print the value of x 40 and the value of i 1\n",
      "print the value of x 100 and the value of i 2\n",
      "print the value of x 20 and the value of i 2\n",
      "print the value of x 30 and the value of i 2\n",
      "print the value of x 40 and the value of i 2\n",
      "print the value of x 20 and the value of i 3print the value of x 30 and the value of i 3\n",
      "print the value of x 40 and the value of i 3\n",
      "print the value of x 100 and the value of i 3\n",
      "\n",
      "print the value of x 30 and the value of i 4\n",
      "print the value of x 100 and the value of i 4\n",
      "print the value of x 20 and the value of i 4\n",
      "print the value of x 40 and the value of i 4\n",
      "print the value of x 30 and the value of i 5print the value of x 100 and the value of i 5\n",
      "\n",
      "print the value of x 40 and the value of i 5\n",
      "print the value of x 20 and the value of i 5\n",
      "print the value of x 100 and the value of i 6\n",
      "print the value of x 30 and the value of i 6\n",
      "print the value of x 40 and the value of i 6\n",
      "print the value of x 20 and the value of i 6\n",
      "print the value of x 40 and the value of i 7\n",
      "print the value of x 100 and the value of i 7\n",
      "print the value of x 30 and the value of i 7\n",
      "print the value of x 20 and the value of i 7\n",
      "print the value of x 40 and the value of i 8print the value of x 100 and the value of i 8\n",
      "\n",
      "print the value of x 30 and the value of i 8\n",
      "print the value of x 20 and the value of i 8\n",
      "print the value of x 100 and the value of i 9\n",
      "print the value of x 40 and the value of i 9\n",
      "print the value of x 30 and the value of i 9\n",
      "print the value of x 20 and the value of i 9\n"
     ]
    }
   ],
   "source": [
    "for t in thd2:\n",
    "    t.start()"
   ]
  },
  {
   "cell_type": "code",
   "execution_count": 45,
   "id": "bf8e46b2-a1cf-4be8-8fe7-bf0ea5488e05",
   "metadata": {},
   "outputs": [
    {
     "name": "stdout",
     "output_type": "stream",
     "text": [
      "the value of x 1 and value of shared var 1\n",
      "the value of x 2 and value of shared var 2\n",
      "the value of x 3 and value of shared var 3\n",
      "the value of x 4 and value of shared var 4\n",
      "the value of x 5 and value of shared var 5\n"
     ]
    }
   ],
   "source": [
    "shared_var=0\n",
    "lock_var= threading.Lock()\n",
    "def test3(x):\n",
    "    global shared_var\n",
    "    with lock_var:\n",
    "        shared_var= shared_var+1\n",
    "        print(\"the value of x %d and value of shared var %d\" %(x,shared_var))\n",
    "        time.sleep(1)\n",
    "        \n",
    "thd3=[threading.Thread(target=test3,args=(i,)) for i in [1,2,3,4,5]]\n",
    "for t in thd3:\n",
    "    t.start()"
   ]
  },
  {
   "cell_type": "code",
   "execution_count": 42,
   "id": "b40ee33f-3db5-490a-82b6-a1fd7432c59a",
   "metadata": {},
   "outputs": [
    {
     "name": "stdout",
     "output_type": "stream",
     "text": [
      "the value of x 1 and value of shared var 1\n"
     ]
    }
   ],
   "source": [
    "test3(1)"
   ]
  },
  {
   "cell_type": "code",
   "execution_count": 43,
   "id": "e8d203a8-4db3-492d-b469-39a1248434d0",
   "metadata": {},
   "outputs": [
    {
     "name": "stdout",
     "output_type": "stream",
     "text": [
      "the value of x 3 and value of shared var 2\n"
     ]
    }
   ],
   "source": [
    "test3(3)"
   ]
  },
  {
   "cell_type": "code",
   "execution_count": null,
   "id": "d2b03df7-2fff-4a30-bdac-cc438622f17e",
   "metadata": {},
   "outputs": [],
   "source": []
  }
 ],
 "metadata": {
  "kernelspec": {
   "display_name": "Python 3 (ipykernel)",
   "language": "python",
   "name": "python3"
  },
  "language_info": {
   "codemirror_mode": {
    "name": "ipython",
    "version": 3
   },
   "file_extension": ".py",
   "mimetype": "text/x-python",
   "name": "python",
   "nbconvert_exporter": "python",
   "pygments_lexer": "ipython3",
   "version": "3.10.8"
  }
 },
 "nbformat": 4,
 "nbformat_minor": 5
}
